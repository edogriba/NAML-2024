{
  "nbformat": 4,
  "nbformat_minor": 0,
  "metadata": {
    "colab": {
      "provenance": [],
      "collapsed_sections": [
        "M9y1dd7lzrL6"
      ],
      "authorship_tag": "ABX9TyN1uKn2sPXtgh9l9Cm304Je",
      "include_colab_link": true
    },
    "kernelspec": {
      "name": "python3",
      "display_name": "Python 3"
    },
    "language_info": {
      "name": "python"
    },
    "widgets": {
      "application/vnd.jupyter.widget-state+json": {
        "fb5a6ab0ce76447d8b9116b70c203ca2": {
          "model_module": "@jupyter-widgets/controls",
          "model_name": "HBoxModel",
          "model_module_version": "1.5.0",
          "state": {
            "_dom_classes": [],
            "_model_module": "@jupyter-widgets/controls",
            "_model_module_version": "1.5.0",
            "_model_name": "HBoxModel",
            "_view_count": null,
            "_view_module": "@jupyter-widgets/controls",
            "_view_module_version": "1.5.0",
            "_view_name": "HBoxView",
            "box_style": "",
            "children": [
              "IPY_MODEL_a5d95f634fd14cd4bee52c02c80d5afd",
              "IPY_MODEL_3d5aba456f8846a3a05b0a2e7f01528b",
              "IPY_MODEL_c7c9bc453d264c38929b5165a2caf4d1"
            ],
            "layout": "IPY_MODEL_a726d9eb50884ecba05b10175bd940c4"
          }
        },
        "a5d95f634fd14cd4bee52c02c80d5afd": {
          "model_module": "@jupyter-widgets/controls",
          "model_name": "HTMLModel",
          "model_module_version": "1.5.0",
          "state": {
            "_dom_classes": [],
            "_model_module": "@jupyter-widgets/controls",
            "_model_module_version": "1.5.0",
            "_model_name": "HTMLModel",
            "_view_count": null,
            "_view_module": "@jupyter-widgets/controls",
            "_view_module_version": "1.5.0",
            "_view_name": "HTMLView",
            "description": "",
            "description_tooltip": null,
            "layout": "IPY_MODEL_759fd4e031ef41f6a4bd47be7dcd931e",
            "placeholder": "​",
            "style": "IPY_MODEL_22336ad4b5d949c1b632bc2a767af857",
            "value": "100%"
          }
        },
        "3d5aba456f8846a3a05b0a2e7f01528b": {
          "model_module": "@jupyter-widgets/controls",
          "model_name": "FloatProgressModel",
          "model_module_version": "1.5.0",
          "state": {
            "_dom_classes": [],
            "_model_module": "@jupyter-widgets/controls",
            "_model_module_version": "1.5.0",
            "_model_name": "FloatProgressModel",
            "_view_count": null,
            "_view_module": "@jupyter-widgets/controls",
            "_view_module_version": "1.5.0",
            "_view_name": "ProgressView",
            "bar_style": "success",
            "description": "",
            "description_tooltip": null,
            "layout": "IPY_MODEL_5f1d2ed45da94c6dba2b21448cec8ede",
            "max": 500,
            "min": 0,
            "orientation": "horizontal",
            "style": "IPY_MODEL_3fe227ee6787454c9d7a3585e9a77cdb",
            "value": 500
          }
        },
        "c7c9bc453d264c38929b5165a2caf4d1": {
          "model_module": "@jupyter-widgets/controls",
          "model_name": "HTMLModel",
          "model_module_version": "1.5.0",
          "state": {
            "_dom_classes": [],
            "_model_module": "@jupyter-widgets/controls",
            "_model_module_version": "1.5.0",
            "_model_name": "HTMLModel",
            "_view_count": null,
            "_view_module": "@jupyter-widgets/controls",
            "_view_module_version": "1.5.0",
            "_view_name": "HTMLView",
            "description": "",
            "description_tooltip": null,
            "layout": "IPY_MODEL_881184d1ffb144fb8dcde58586766469",
            "placeholder": "​",
            "style": "IPY_MODEL_509864ffa2e44ff6a278865e577ac2c8",
            "value": " 500/500 [01:59&lt;00:00,  5.12it/s]"
          }
        },
        "a726d9eb50884ecba05b10175bd940c4": {
          "model_module": "@jupyter-widgets/base",
          "model_name": "LayoutModel",
          "model_module_version": "1.2.0",
          "state": {
            "_model_module": "@jupyter-widgets/base",
            "_model_module_version": "1.2.0",
            "_model_name": "LayoutModel",
            "_view_count": null,
            "_view_module": "@jupyter-widgets/base",
            "_view_module_version": "1.2.0",
            "_view_name": "LayoutView",
            "align_content": null,
            "align_items": null,
            "align_self": null,
            "border": null,
            "bottom": null,
            "display": null,
            "flex": null,
            "flex_flow": null,
            "grid_area": null,
            "grid_auto_columns": null,
            "grid_auto_flow": null,
            "grid_auto_rows": null,
            "grid_column": null,
            "grid_gap": null,
            "grid_row": null,
            "grid_template_areas": null,
            "grid_template_columns": null,
            "grid_template_rows": null,
            "height": null,
            "justify_content": null,
            "justify_items": null,
            "left": null,
            "margin": null,
            "max_height": null,
            "max_width": null,
            "min_height": null,
            "min_width": null,
            "object_fit": null,
            "object_position": null,
            "order": null,
            "overflow": null,
            "overflow_x": null,
            "overflow_y": null,
            "padding": null,
            "right": null,
            "top": null,
            "visibility": null,
            "width": null
          }
        },
        "759fd4e031ef41f6a4bd47be7dcd931e": {
          "model_module": "@jupyter-widgets/base",
          "model_name": "LayoutModel",
          "model_module_version": "1.2.0",
          "state": {
            "_model_module": "@jupyter-widgets/base",
            "_model_module_version": "1.2.0",
            "_model_name": "LayoutModel",
            "_view_count": null,
            "_view_module": "@jupyter-widgets/base",
            "_view_module_version": "1.2.0",
            "_view_name": "LayoutView",
            "align_content": null,
            "align_items": null,
            "align_self": null,
            "border": null,
            "bottom": null,
            "display": null,
            "flex": null,
            "flex_flow": null,
            "grid_area": null,
            "grid_auto_columns": null,
            "grid_auto_flow": null,
            "grid_auto_rows": null,
            "grid_column": null,
            "grid_gap": null,
            "grid_row": null,
            "grid_template_areas": null,
            "grid_template_columns": null,
            "grid_template_rows": null,
            "height": null,
            "justify_content": null,
            "justify_items": null,
            "left": null,
            "margin": null,
            "max_height": null,
            "max_width": null,
            "min_height": null,
            "min_width": null,
            "object_fit": null,
            "object_position": null,
            "order": null,
            "overflow": null,
            "overflow_x": null,
            "overflow_y": null,
            "padding": null,
            "right": null,
            "top": null,
            "visibility": null,
            "width": null
          }
        },
        "22336ad4b5d949c1b632bc2a767af857": {
          "model_module": "@jupyter-widgets/controls",
          "model_name": "DescriptionStyleModel",
          "model_module_version": "1.5.0",
          "state": {
            "_model_module": "@jupyter-widgets/controls",
            "_model_module_version": "1.5.0",
            "_model_name": "DescriptionStyleModel",
            "_view_count": null,
            "_view_module": "@jupyter-widgets/base",
            "_view_module_version": "1.2.0",
            "_view_name": "StyleView",
            "description_width": ""
          }
        },
        "5f1d2ed45da94c6dba2b21448cec8ede": {
          "model_module": "@jupyter-widgets/base",
          "model_name": "LayoutModel",
          "model_module_version": "1.2.0",
          "state": {
            "_model_module": "@jupyter-widgets/base",
            "_model_module_version": "1.2.0",
            "_model_name": "LayoutModel",
            "_view_count": null,
            "_view_module": "@jupyter-widgets/base",
            "_view_module_version": "1.2.0",
            "_view_name": "LayoutView",
            "align_content": null,
            "align_items": null,
            "align_self": null,
            "border": null,
            "bottom": null,
            "display": null,
            "flex": null,
            "flex_flow": null,
            "grid_area": null,
            "grid_auto_columns": null,
            "grid_auto_flow": null,
            "grid_auto_rows": null,
            "grid_column": null,
            "grid_gap": null,
            "grid_row": null,
            "grid_template_areas": null,
            "grid_template_columns": null,
            "grid_template_rows": null,
            "height": null,
            "justify_content": null,
            "justify_items": null,
            "left": null,
            "margin": null,
            "max_height": null,
            "max_width": null,
            "min_height": null,
            "min_width": null,
            "object_fit": null,
            "object_position": null,
            "order": null,
            "overflow": null,
            "overflow_x": null,
            "overflow_y": null,
            "padding": null,
            "right": null,
            "top": null,
            "visibility": null,
            "width": null
          }
        },
        "3fe227ee6787454c9d7a3585e9a77cdb": {
          "model_module": "@jupyter-widgets/controls",
          "model_name": "ProgressStyleModel",
          "model_module_version": "1.5.0",
          "state": {
            "_model_module": "@jupyter-widgets/controls",
            "_model_module_version": "1.5.0",
            "_model_name": "ProgressStyleModel",
            "_view_count": null,
            "_view_module": "@jupyter-widgets/base",
            "_view_module_version": "1.2.0",
            "_view_name": "StyleView",
            "bar_color": null,
            "description_width": ""
          }
        },
        "881184d1ffb144fb8dcde58586766469": {
          "model_module": "@jupyter-widgets/base",
          "model_name": "LayoutModel",
          "model_module_version": "1.2.0",
          "state": {
            "_model_module": "@jupyter-widgets/base",
            "_model_module_version": "1.2.0",
            "_model_name": "LayoutModel",
            "_view_count": null,
            "_view_module": "@jupyter-widgets/base",
            "_view_module_version": "1.2.0",
            "_view_name": "LayoutView",
            "align_content": null,
            "align_items": null,
            "align_self": null,
            "border": null,
            "bottom": null,
            "display": null,
            "flex": null,
            "flex_flow": null,
            "grid_area": null,
            "grid_auto_columns": null,
            "grid_auto_flow": null,
            "grid_auto_rows": null,
            "grid_column": null,
            "grid_gap": null,
            "grid_row": null,
            "grid_template_areas": null,
            "grid_template_columns": null,
            "grid_template_rows": null,
            "height": null,
            "justify_content": null,
            "justify_items": null,
            "left": null,
            "margin": null,
            "max_height": null,
            "max_width": null,
            "min_height": null,
            "min_width": null,
            "object_fit": null,
            "object_position": null,
            "order": null,
            "overflow": null,
            "overflow_x": null,
            "overflow_y": null,
            "padding": null,
            "right": null,
            "top": null,
            "visibility": null,
            "width": null
          }
        },
        "509864ffa2e44ff6a278865e577ac2c8": {
          "model_module": "@jupyter-widgets/controls",
          "model_name": "DescriptionStyleModel",
          "model_module_version": "1.5.0",
          "state": {
            "_model_module": "@jupyter-widgets/controls",
            "_model_module_version": "1.5.0",
            "_model_name": "DescriptionStyleModel",
            "_view_count": null,
            "_view_module": "@jupyter-widgets/base",
            "_view_module_version": "1.2.0",
            "_view_name": "StyleView",
            "description_width": ""
          }
        },
        "fb4c51c9ae034476855bab72f78b9d0b": {
          "model_module": "@jupyter-widgets/controls",
          "model_name": "HBoxModel",
          "model_module_version": "1.5.0",
          "state": {
            "_dom_classes": [],
            "_model_module": "@jupyter-widgets/controls",
            "_model_module_version": "1.5.0",
            "_model_name": "HBoxModel",
            "_view_count": null,
            "_view_module": "@jupyter-widgets/controls",
            "_view_module_version": "1.5.0",
            "_view_name": "HBoxView",
            "box_style": "",
            "children": [
              "IPY_MODEL_58fca1097f904c99837834bf32e8916c",
              "IPY_MODEL_1dc6bdc5f3e94f0c8ef71ba392386c76",
              "IPY_MODEL_7aca59d6822a4dd7a2d2d0bfbb7fb2d0"
            ],
            "layout": "IPY_MODEL_1f477581f6e84a75a73f8c8538003147"
          }
        },
        "58fca1097f904c99837834bf32e8916c": {
          "model_module": "@jupyter-widgets/controls",
          "model_name": "HTMLModel",
          "model_module_version": "1.5.0",
          "state": {
            "_dom_classes": [],
            "_model_module": "@jupyter-widgets/controls",
            "_model_module_version": "1.5.0",
            "_model_name": "HTMLModel",
            "_view_count": null,
            "_view_module": "@jupyter-widgets/controls",
            "_view_module_version": "1.5.0",
            "_view_name": "HTMLView",
            "description": "",
            "description_tooltip": null,
            "layout": "IPY_MODEL_e360322b0dcc4af3801312f4dba27183",
            "placeholder": "​",
            "style": "IPY_MODEL_1f99935009c148ed990fe7879ec7963d",
            "value": "100%"
          }
        },
        "1dc6bdc5f3e94f0c8ef71ba392386c76": {
          "model_module": "@jupyter-widgets/controls",
          "model_name": "FloatProgressModel",
          "model_module_version": "1.5.0",
          "state": {
            "_dom_classes": [],
            "_model_module": "@jupyter-widgets/controls",
            "_model_module_version": "1.5.0",
            "_model_name": "FloatProgressModel",
            "_view_count": null,
            "_view_module": "@jupyter-widgets/controls",
            "_view_module_version": "1.5.0",
            "_view_name": "ProgressView",
            "bar_style": "success",
            "description": "",
            "description_tooltip": null,
            "layout": "IPY_MODEL_bcf74004208443d998954f0c54225d8b",
            "max": 500,
            "min": 0,
            "orientation": "horizontal",
            "style": "IPY_MODEL_7c1972bb359849a2a8eac5cec9d5daf3",
            "value": 500
          }
        },
        "7aca59d6822a4dd7a2d2d0bfbb7fb2d0": {
          "model_module": "@jupyter-widgets/controls",
          "model_name": "HTMLModel",
          "model_module_version": "1.5.0",
          "state": {
            "_dom_classes": [],
            "_model_module": "@jupyter-widgets/controls",
            "_model_module_version": "1.5.0",
            "_model_name": "HTMLModel",
            "_view_count": null,
            "_view_module": "@jupyter-widgets/controls",
            "_view_module_version": "1.5.0",
            "_view_name": "HTMLView",
            "description": "",
            "description_tooltip": null,
            "layout": "IPY_MODEL_750687d59403455caa4bf4d8366e85ac",
            "placeholder": "​",
            "style": "IPY_MODEL_cff70bcc992346bea6ad90dc65d23d1d",
            "value": " 500/500 [00:54&lt;00:00, 11.60it/s]"
          }
        },
        "1f477581f6e84a75a73f8c8538003147": {
          "model_module": "@jupyter-widgets/base",
          "model_name": "LayoutModel",
          "model_module_version": "1.2.0",
          "state": {
            "_model_module": "@jupyter-widgets/base",
            "_model_module_version": "1.2.0",
            "_model_name": "LayoutModel",
            "_view_count": null,
            "_view_module": "@jupyter-widgets/base",
            "_view_module_version": "1.2.0",
            "_view_name": "LayoutView",
            "align_content": null,
            "align_items": null,
            "align_self": null,
            "border": null,
            "bottom": null,
            "display": null,
            "flex": null,
            "flex_flow": null,
            "grid_area": null,
            "grid_auto_columns": null,
            "grid_auto_flow": null,
            "grid_auto_rows": null,
            "grid_column": null,
            "grid_gap": null,
            "grid_row": null,
            "grid_template_areas": null,
            "grid_template_columns": null,
            "grid_template_rows": null,
            "height": null,
            "justify_content": null,
            "justify_items": null,
            "left": null,
            "margin": null,
            "max_height": null,
            "max_width": null,
            "min_height": null,
            "min_width": null,
            "object_fit": null,
            "object_position": null,
            "order": null,
            "overflow": null,
            "overflow_x": null,
            "overflow_y": null,
            "padding": null,
            "right": null,
            "top": null,
            "visibility": null,
            "width": null
          }
        },
        "e360322b0dcc4af3801312f4dba27183": {
          "model_module": "@jupyter-widgets/base",
          "model_name": "LayoutModel",
          "model_module_version": "1.2.0",
          "state": {
            "_model_module": "@jupyter-widgets/base",
            "_model_module_version": "1.2.0",
            "_model_name": "LayoutModel",
            "_view_count": null,
            "_view_module": "@jupyter-widgets/base",
            "_view_module_version": "1.2.0",
            "_view_name": "LayoutView",
            "align_content": null,
            "align_items": null,
            "align_self": null,
            "border": null,
            "bottom": null,
            "display": null,
            "flex": null,
            "flex_flow": null,
            "grid_area": null,
            "grid_auto_columns": null,
            "grid_auto_flow": null,
            "grid_auto_rows": null,
            "grid_column": null,
            "grid_gap": null,
            "grid_row": null,
            "grid_template_areas": null,
            "grid_template_columns": null,
            "grid_template_rows": null,
            "height": null,
            "justify_content": null,
            "justify_items": null,
            "left": null,
            "margin": null,
            "max_height": null,
            "max_width": null,
            "min_height": null,
            "min_width": null,
            "object_fit": null,
            "object_position": null,
            "order": null,
            "overflow": null,
            "overflow_x": null,
            "overflow_y": null,
            "padding": null,
            "right": null,
            "top": null,
            "visibility": null,
            "width": null
          }
        },
        "1f99935009c148ed990fe7879ec7963d": {
          "model_module": "@jupyter-widgets/controls",
          "model_name": "DescriptionStyleModel",
          "model_module_version": "1.5.0",
          "state": {
            "_model_module": "@jupyter-widgets/controls",
            "_model_module_version": "1.5.0",
            "_model_name": "DescriptionStyleModel",
            "_view_count": null,
            "_view_module": "@jupyter-widgets/base",
            "_view_module_version": "1.2.0",
            "_view_name": "StyleView",
            "description_width": ""
          }
        },
        "bcf74004208443d998954f0c54225d8b": {
          "model_module": "@jupyter-widgets/base",
          "model_name": "LayoutModel",
          "model_module_version": "1.2.0",
          "state": {
            "_model_module": "@jupyter-widgets/base",
            "_model_module_version": "1.2.0",
            "_model_name": "LayoutModel",
            "_view_count": null,
            "_view_module": "@jupyter-widgets/base",
            "_view_module_version": "1.2.0",
            "_view_name": "LayoutView",
            "align_content": null,
            "align_items": null,
            "align_self": null,
            "border": null,
            "bottom": null,
            "display": null,
            "flex": null,
            "flex_flow": null,
            "grid_area": null,
            "grid_auto_columns": null,
            "grid_auto_flow": null,
            "grid_auto_rows": null,
            "grid_column": null,
            "grid_gap": null,
            "grid_row": null,
            "grid_template_areas": null,
            "grid_template_columns": null,
            "grid_template_rows": null,
            "height": null,
            "justify_content": null,
            "justify_items": null,
            "left": null,
            "margin": null,
            "max_height": null,
            "max_width": null,
            "min_height": null,
            "min_width": null,
            "object_fit": null,
            "object_position": null,
            "order": null,
            "overflow": null,
            "overflow_x": null,
            "overflow_y": null,
            "padding": null,
            "right": null,
            "top": null,
            "visibility": null,
            "width": null
          }
        },
        "7c1972bb359849a2a8eac5cec9d5daf3": {
          "model_module": "@jupyter-widgets/controls",
          "model_name": "ProgressStyleModel",
          "model_module_version": "1.5.0",
          "state": {
            "_model_module": "@jupyter-widgets/controls",
            "_model_module_version": "1.5.0",
            "_model_name": "ProgressStyleModel",
            "_view_count": null,
            "_view_module": "@jupyter-widgets/base",
            "_view_module_version": "1.2.0",
            "_view_name": "StyleView",
            "bar_color": null,
            "description_width": ""
          }
        },
        "750687d59403455caa4bf4d8366e85ac": {
          "model_module": "@jupyter-widgets/base",
          "model_name": "LayoutModel",
          "model_module_version": "1.2.0",
          "state": {
            "_model_module": "@jupyter-widgets/base",
            "_model_module_version": "1.2.0",
            "_model_name": "LayoutModel",
            "_view_count": null,
            "_view_module": "@jupyter-widgets/base",
            "_view_module_version": "1.2.0",
            "_view_name": "LayoutView",
            "align_content": null,
            "align_items": null,
            "align_self": null,
            "border": null,
            "bottom": null,
            "display": null,
            "flex": null,
            "flex_flow": null,
            "grid_area": null,
            "grid_auto_columns": null,
            "grid_auto_flow": null,
            "grid_auto_rows": null,
            "grid_column": null,
            "grid_gap": null,
            "grid_row": null,
            "grid_template_areas": null,
            "grid_template_columns": null,
            "grid_template_rows": null,
            "height": null,
            "justify_content": null,
            "justify_items": null,
            "left": null,
            "margin": null,
            "max_height": null,
            "max_width": null,
            "min_height": null,
            "min_width": null,
            "object_fit": null,
            "object_position": null,
            "order": null,
            "overflow": null,
            "overflow_x": null,
            "overflow_y": null,
            "padding": null,
            "right": null,
            "top": null,
            "visibility": null,
            "width": null
          }
        },
        "cff70bcc992346bea6ad90dc65d23d1d": {
          "model_module": "@jupyter-widgets/controls",
          "model_name": "DescriptionStyleModel",
          "model_module_version": "1.5.0",
          "state": {
            "_model_module": "@jupyter-widgets/controls",
            "_model_module_version": "1.5.0",
            "_model_name": "DescriptionStyleModel",
            "_view_count": null,
            "_view_module": "@jupyter-widgets/base",
            "_view_module_version": "1.2.0",
            "_view_name": "StyleView",
            "description_width": ""
          }
        },
        "85aa94d6498f4ac49cb0a2b3dd2114d2": {
          "model_module": "@jupyter-widgets/controls",
          "model_name": "HBoxModel",
          "model_module_version": "1.5.0",
          "state": {
            "_dom_classes": [],
            "_model_module": "@jupyter-widgets/controls",
            "_model_module_version": "1.5.0",
            "_model_name": "HBoxModel",
            "_view_count": null,
            "_view_module": "@jupyter-widgets/controls",
            "_view_module_version": "1.5.0",
            "_view_name": "HBoxView",
            "box_style": "",
            "children": [
              "IPY_MODEL_2dd64f4591a2491da01352fa7d8dc06f",
              "IPY_MODEL_1f20f84cab7340b38ba7b526927d48fe",
              "IPY_MODEL_533c7f4b3ee043eca7d00659ebe4a886"
            ],
            "layout": "IPY_MODEL_d6d5b8aea7f94fa892303436ac9aa868"
          }
        },
        "2dd64f4591a2491da01352fa7d8dc06f": {
          "model_module": "@jupyter-widgets/controls",
          "model_name": "HTMLModel",
          "model_module_version": "1.5.0",
          "state": {
            "_dom_classes": [],
            "_model_module": "@jupyter-widgets/controls",
            "_model_module_version": "1.5.0",
            "_model_name": "HTMLModel",
            "_view_count": null,
            "_view_module": "@jupyter-widgets/controls",
            "_view_module_version": "1.5.0",
            "_view_name": "HTMLView",
            "description": "",
            "description_tooltip": null,
            "layout": "IPY_MODEL_f17d456feeac4d2f8f7f0aba463dae38",
            "placeholder": "​",
            "style": "IPY_MODEL_9ba51284b14f4591af7f1859526daa9e",
            "value": "100%"
          }
        },
        "1f20f84cab7340b38ba7b526927d48fe": {
          "model_module": "@jupyter-widgets/controls",
          "model_name": "FloatProgressModel",
          "model_module_version": "1.5.0",
          "state": {
            "_dom_classes": [],
            "_model_module": "@jupyter-widgets/controls",
            "_model_module_version": "1.5.0",
            "_model_name": "FloatProgressModel",
            "_view_count": null,
            "_view_module": "@jupyter-widgets/controls",
            "_view_module_version": "1.5.0",
            "_view_name": "ProgressView",
            "bar_style": "success",
            "description": "",
            "description_tooltip": null,
            "layout": "IPY_MODEL_d325c21b3dfc4a3d92c9c26495fe52e9",
            "max": 3000,
            "min": 0,
            "orientation": "horizontal",
            "style": "IPY_MODEL_f866415a60c44420a92ad7195f0adce2",
            "value": 3000
          }
        },
        "533c7f4b3ee043eca7d00659ebe4a886": {
          "model_module": "@jupyter-widgets/controls",
          "model_name": "HTMLModel",
          "model_module_version": "1.5.0",
          "state": {
            "_dom_classes": [],
            "_model_module": "@jupyter-widgets/controls",
            "_model_module_version": "1.5.0",
            "_model_name": "HTMLModel",
            "_view_count": null,
            "_view_module": "@jupyter-widgets/controls",
            "_view_module_version": "1.5.0",
            "_view_name": "HTMLView",
            "description": "",
            "description_tooltip": null,
            "layout": "IPY_MODEL_2b8049617022492f9ff75ff7b8f2e5dd",
            "placeholder": "​",
            "style": "IPY_MODEL_58d03452a25941f0b95ba75a2fbc21fe",
            "value": " 3000/3000 [00:07&lt;00:00, 500.04it/s]"
          }
        },
        "d6d5b8aea7f94fa892303436ac9aa868": {
          "model_module": "@jupyter-widgets/base",
          "model_name": "LayoutModel",
          "model_module_version": "1.2.0",
          "state": {
            "_model_module": "@jupyter-widgets/base",
            "_model_module_version": "1.2.0",
            "_model_name": "LayoutModel",
            "_view_count": null,
            "_view_module": "@jupyter-widgets/base",
            "_view_module_version": "1.2.0",
            "_view_name": "LayoutView",
            "align_content": null,
            "align_items": null,
            "align_self": null,
            "border": null,
            "bottom": null,
            "display": null,
            "flex": null,
            "flex_flow": null,
            "grid_area": null,
            "grid_auto_columns": null,
            "grid_auto_flow": null,
            "grid_auto_rows": null,
            "grid_column": null,
            "grid_gap": null,
            "grid_row": null,
            "grid_template_areas": null,
            "grid_template_columns": null,
            "grid_template_rows": null,
            "height": null,
            "justify_content": null,
            "justify_items": null,
            "left": null,
            "margin": null,
            "max_height": null,
            "max_width": null,
            "min_height": null,
            "min_width": null,
            "object_fit": null,
            "object_position": null,
            "order": null,
            "overflow": null,
            "overflow_x": null,
            "overflow_y": null,
            "padding": null,
            "right": null,
            "top": null,
            "visibility": null,
            "width": null
          }
        },
        "f17d456feeac4d2f8f7f0aba463dae38": {
          "model_module": "@jupyter-widgets/base",
          "model_name": "LayoutModel",
          "model_module_version": "1.2.0",
          "state": {
            "_model_module": "@jupyter-widgets/base",
            "_model_module_version": "1.2.0",
            "_model_name": "LayoutModel",
            "_view_count": null,
            "_view_module": "@jupyter-widgets/base",
            "_view_module_version": "1.2.0",
            "_view_name": "LayoutView",
            "align_content": null,
            "align_items": null,
            "align_self": null,
            "border": null,
            "bottom": null,
            "display": null,
            "flex": null,
            "flex_flow": null,
            "grid_area": null,
            "grid_auto_columns": null,
            "grid_auto_flow": null,
            "grid_auto_rows": null,
            "grid_column": null,
            "grid_gap": null,
            "grid_row": null,
            "grid_template_areas": null,
            "grid_template_columns": null,
            "grid_template_rows": null,
            "height": null,
            "justify_content": null,
            "justify_items": null,
            "left": null,
            "margin": null,
            "max_height": null,
            "max_width": null,
            "min_height": null,
            "min_width": null,
            "object_fit": null,
            "object_position": null,
            "order": null,
            "overflow": null,
            "overflow_x": null,
            "overflow_y": null,
            "padding": null,
            "right": null,
            "top": null,
            "visibility": null,
            "width": null
          }
        },
        "9ba51284b14f4591af7f1859526daa9e": {
          "model_module": "@jupyter-widgets/controls",
          "model_name": "DescriptionStyleModel",
          "model_module_version": "1.5.0",
          "state": {
            "_model_module": "@jupyter-widgets/controls",
            "_model_module_version": "1.5.0",
            "_model_name": "DescriptionStyleModel",
            "_view_count": null,
            "_view_module": "@jupyter-widgets/base",
            "_view_module_version": "1.2.0",
            "_view_name": "StyleView",
            "description_width": ""
          }
        },
        "d325c21b3dfc4a3d92c9c26495fe52e9": {
          "model_module": "@jupyter-widgets/base",
          "model_name": "LayoutModel",
          "model_module_version": "1.2.0",
          "state": {
            "_model_module": "@jupyter-widgets/base",
            "_model_module_version": "1.2.0",
            "_model_name": "LayoutModel",
            "_view_count": null,
            "_view_module": "@jupyter-widgets/base",
            "_view_module_version": "1.2.0",
            "_view_name": "LayoutView",
            "align_content": null,
            "align_items": null,
            "align_self": null,
            "border": null,
            "bottom": null,
            "display": null,
            "flex": null,
            "flex_flow": null,
            "grid_area": null,
            "grid_auto_columns": null,
            "grid_auto_flow": null,
            "grid_auto_rows": null,
            "grid_column": null,
            "grid_gap": null,
            "grid_row": null,
            "grid_template_areas": null,
            "grid_template_columns": null,
            "grid_template_rows": null,
            "height": null,
            "justify_content": null,
            "justify_items": null,
            "left": null,
            "margin": null,
            "max_height": null,
            "max_width": null,
            "min_height": null,
            "min_width": null,
            "object_fit": null,
            "object_position": null,
            "order": null,
            "overflow": null,
            "overflow_x": null,
            "overflow_y": null,
            "padding": null,
            "right": null,
            "top": null,
            "visibility": null,
            "width": null
          }
        },
        "f866415a60c44420a92ad7195f0adce2": {
          "model_module": "@jupyter-widgets/controls",
          "model_name": "ProgressStyleModel",
          "model_module_version": "1.5.0",
          "state": {
            "_model_module": "@jupyter-widgets/controls",
            "_model_module_version": "1.5.0",
            "_model_name": "ProgressStyleModel",
            "_view_count": null,
            "_view_module": "@jupyter-widgets/base",
            "_view_module_version": "1.2.0",
            "_view_name": "StyleView",
            "bar_color": null,
            "description_width": ""
          }
        },
        "2b8049617022492f9ff75ff7b8f2e5dd": {
          "model_module": "@jupyter-widgets/base",
          "model_name": "LayoutModel",
          "model_module_version": "1.2.0",
          "state": {
            "_model_module": "@jupyter-widgets/base",
            "_model_module_version": "1.2.0",
            "_model_name": "LayoutModel",
            "_view_count": null,
            "_view_module": "@jupyter-widgets/base",
            "_view_module_version": "1.2.0",
            "_view_name": "LayoutView",
            "align_content": null,
            "align_items": null,
            "align_self": null,
            "border": null,
            "bottom": null,
            "display": null,
            "flex": null,
            "flex_flow": null,
            "grid_area": null,
            "grid_auto_columns": null,
            "grid_auto_flow": null,
            "grid_auto_rows": null,
            "grid_column": null,
            "grid_gap": null,
            "grid_row": null,
            "grid_template_areas": null,
            "grid_template_columns": null,
            "grid_template_rows": null,
            "height": null,
            "justify_content": null,
            "justify_items": null,
            "left": null,
            "margin": null,
            "max_height": null,
            "max_width": null,
            "min_height": null,
            "min_width": null,
            "object_fit": null,
            "object_position": null,
            "order": null,
            "overflow": null,
            "overflow_x": null,
            "overflow_y": null,
            "padding": null,
            "right": null,
            "top": null,
            "visibility": null,
            "width": null
          }
        },
        "58d03452a25941f0b95ba75a2fbc21fe": {
          "model_module": "@jupyter-widgets/controls",
          "model_name": "DescriptionStyleModel",
          "model_module_version": "1.5.0",
          "state": {
            "_model_module": "@jupyter-widgets/controls",
            "_model_module_version": "1.5.0",
            "_model_name": "DescriptionStyleModel",
            "_view_count": null,
            "_view_module": "@jupyter-widgets/base",
            "_view_module_version": "1.2.0",
            "_view_name": "StyleView",
            "description_width": ""
          }
        },
        "de63f820007a4000b2adcf8e051ace8a": {
          "model_module": "@jupyter-widgets/controls",
          "model_name": "HBoxModel",
          "model_module_version": "1.5.0",
          "state": {
            "_dom_classes": [],
            "_model_module": "@jupyter-widgets/controls",
            "_model_module_version": "1.5.0",
            "_model_name": "HBoxModel",
            "_view_count": null,
            "_view_module": "@jupyter-widgets/controls",
            "_view_module_version": "1.5.0",
            "_view_name": "HBoxView",
            "box_style": "",
            "children": [
              "IPY_MODEL_399c800bcbf044f2ac2fd1eb14e66d6a",
              "IPY_MODEL_64856de572cb44afafe8163d6da992d9",
              "IPY_MODEL_5a0260f6d275494fbb2ad49dc16ee917"
            ],
            "layout": "IPY_MODEL_09f7706ccc0a4ae599c7425a232ca141"
          }
        },
        "399c800bcbf044f2ac2fd1eb14e66d6a": {
          "model_module": "@jupyter-widgets/controls",
          "model_name": "HTMLModel",
          "model_module_version": "1.5.0",
          "state": {
            "_dom_classes": [],
            "_model_module": "@jupyter-widgets/controls",
            "_model_module_version": "1.5.0",
            "_model_name": "HTMLModel",
            "_view_count": null,
            "_view_module": "@jupyter-widgets/controls",
            "_view_module_version": "1.5.0",
            "_view_name": "HTMLView",
            "description": "",
            "description_tooltip": null,
            "layout": "IPY_MODEL_2d6bfc9eae784e18ab1aceea7bc797cd",
            "placeholder": "​",
            "style": "IPY_MODEL_8cb2cc54a8a84243bdfb3e49a8410afd",
            "value": "100%"
          }
        },
        "64856de572cb44afafe8163d6da992d9": {
          "model_module": "@jupyter-widgets/controls",
          "model_name": "FloatProgressModel",
          "model_module_version": "1.5.0",
          "state": {
            "_dom_classes": [],
            "_model_module": "@jupyter-widgets/controls",
            "_model_module_version": "1.5.0",
            "_model_name": "FloatProgressModel",
            "_view_count": null,
            "_view_module": "@jupyter-widgets/controls",
            "_view_module_version": "1.5.0",
            "_view_name": "ProgressView",
            "bar_style": "success",
            "description": "",
            "description_tooltip": null,
            "layout": "IPY_MODEL_b741d022460d41909921510c326618c3",
            "max": 100,
            "min": 0,
            "orientation": "horizontal",
            "style": "IPY_MODEL_63a3a39c0f46402f9c6cdaf9541ea0de",
            "value": 100
          }
        },
        "5a0260f6d275494fbb2ad49dc16ee917": {
          "model_module": "@jupyter-widgets/controls",
          "model_name": "HTMLModel",
          "model_module_version": "1.5.0",
          "state": {
            "_dom_classes": [],
            "_model_module": "@jupyter-widgets/controls",
            "_model_module_version": "1.5.0",
            "_model_name": "HTMLModel",
            "_view_count": null,
            "_view_module": "@jupyter-widgets/controls",
            "_view_module_version": "1.5.0",
            "_view_name": "HTMLView",
            "description": "",
            "description_tooltip": null,
            "layout": "IPY_MODEL_cd1f96331acb4c6d9083df81687bf047",
            "placeholder": "​",
            "style": "IPY_MODEL_b1ab720c4f734e2b827f256f9528a135",
            "value": " 100/100 [00:37&lt;00:00,  3.06it/s]"
          }
        },
        "09f7706ccc0a4ae599c7425a232ca141": {
          "model_module": "@jupyter-widgets/base",
          "model_name": "LayoutModel",
          "model_module_version": "1.2.0",
          "state": {
            "_model_module": "@jupyter-widgets/base",
            "_model_module_version": "1.2.0",
            "_model_name": "LayoutModel",
            "_view_count": null,
            "_view_module": "@jupyter-widgets/base",
            "_view_module_version": "1.2.0",
            "_view_name": "LayoutView",
            "align_content": null,
            "align_items": null,
            "align_self": null,
            "border": null,
            "bottom": null,
            "display": null,
            "flex": null,
            "flex_flow": null,
            "grid_area": null,
            "grid_auto_columns": null,
            "grid_auto_flow": null,
            "grid_auto_rows": null,
            "grid_column": null,
            "grid_gap": null,
            "grid_row": null,
            "grid_template_areas": null,
            "grid_template_columns": null,
            "grid_template_rows": null,
            "height": null,
            "justify_content": null,
            "justify_items": null,
            "left": null,
            "margin": null,
            "max_height": null,
            "max_width": null,
            "min_height": null,
            "min_width": null,
            "object_fit": null,
            "object_position": null,
            "order": null,
            "overflow": null,
            "overflow_x": null,
            "overflow_y": null,
            "padding": null,
            "right": null,
            "top": null,
            "visibility": null,
            "width": null
          }
        },
        "2d6bfc9eae784e18ab1aceea7bc797cd": {
          "model_module": "@jupyter-widgets/base",
          "model_name": "LayoutModel",
          "model_module_version": "1.2.0",
          "state": {
            "_model_module": "@jupyter-widgets/base",
            "_model_module_version": "1.2.0",
            "_model_name": "LayoutModel",
            "_view_count": null,
            "_view_module": "@jupyter-widgets/base",
            "_view_module_version": "1.2.0",
            "_view_name": "LayoutView",
            "align_content": null,
            "align_items": null,
            "align_self": null,
            "border": null,
            "bottom": null,
            "display": null,
            "flex": null,
            "flex_flow": null,
            "grid_area": null,
            "grid_auto_columns": null,
            "grid_auto_flow": null,
            "grid_auto_rows": null,
            "grid_column": null,
            "grid_gap": null,
            "grid_row": null,
            "grid_template_areas": null,
            "grid_template_columns": null,
            "grid_template_rows": null,
            "height": null,
            "justify_content": null,
            "justify_items": null,
            "left": null,
            "margin": null,
            "max_height": null,
            "max_width": null,
            "min_height": null,
            "min_width": null,
            "object_fit": null,
            "object_position": null,
            "order": null,
            "overflow": null,
            "overflow_x": null,
            "overflow_y": null,
            "padding": null,
            "right": null,
            "top": null,
            "visibility": null,
            "width": null
          }
        },
        "8cb2cc54a8a84243bdfb3e49a8410afd": {
          "model_module": "@jupyter-widgets/controls",
          "model_name": "DescriptionStyleModel",
          "model_module_version": "1.5.0",
          "state": {
            "_model_module": "@jupyter-widgets/controls",
            "_model_module_version": "1.5.0",
            "_model_name": "DescriptionStyleModel",
            "_view_count": null,
            "_view_module": "@jupyter-widgets/base",
            "_view_module_version": "1.2.0",
            "_view_name": "StyleView",
            "description_width": ""
          }
        },
        "b741d022460d41909921510c326618c3": {
          "model_module": "@jupyter-widgets/base",
          "model_name": "LayoutModel",
          "model_module_version": "1.2.0",
          "state": {
            "_model_module": "@jupyter-widgets/base",
            "_model_module_version": "1.2.0",
            "_model_name": "LayoutModel",
            "_view_count": null,
            "_view_module": "@jupyter-widgets/base",
            "_view_module_version": "1.2.0",
            "_view_name": "LayoutView",
            "align_content": null,
            "align_items": null,
            "align_self": null,
            "border": null,
            "bottom": null,
            "display": null,
            "flex": null,
            "flex_flow": null,
            "grid_area": null,
            "grid_auto_columns": null,
            "grid_auto_flow": null,
            "grid_auto_rows": null,
            "grid_column": null,
            "grid_gap": null,
            "grid_row": null,
            "grid_template_areas": null,
            "grid_template_columns": null,
            "grid_template_rows": null,
            "height": null,
            "justify_content": null,
            "justify_items": null,
            "left": null,
            "margin": null,
            "max_height": null,
            "max_width": null,
            "min_height": null,
            "min_width": null,
            "object_fit": null,
            "object_position": null,
            "order": null,
            "overflow": null,
            "overflow_x": null,
            "overflow_y": null,
            "padding": null,
            "right": null,
            "top": null,
            "visibility": null,
            "width": null
          }
        },
        "63a3a39c0f46402f9c6cdaf9541ea0de": {
          "model_module": "@jupyter-widgets/controls",
          "model_name": "ProgressStyleModel",
          "model_module_version": "1.5.0",
          "state": {
            "_model_module": "@jupyter-widgets/controls",
            "_model_module_version": "1.5.0",
            "_model_name": "ProgressStyleModel",
            "_view_count": null,
            "_view_module": "@jupyter-widgets/base",
            "_view_module_version": "1.2.0",
            "_view_name": "StyleView",
            "bar_color": null,
            "description_width": ""
          }
        },
        "cd1f96331acb4c6d9083df81687bf047": {
          "model_module": "@jupyter-widgets/base",
          "model_name": "LayoutModel",
          "model_module_version": "1.2.0",
          "state": {
            "_model_module": "@jupyter-widgets/base",
            "_model_module_version": "1.2.0",
            "_model_name": "LayoutModel",
            "_view_count": null,
            "_view_module": "@jupyter-widgets/base",
            "_view_module_version": "1.2.0",
            "_view_name": "LayoutView",
            "align_content": null,
            "align_items": null,
            "align_self": null,
            "border": null,
            "bottom": null,
            "display": null,
            "flex": null,
            "flex_flow": null,
            "grid_area": null,
            "grid_auto_columns": null,
            "grid_auto_flow": null,
            "grid_auto_rows": null,
            "grid_column": null,
            "grid_gap": null,
            "grid_row": null,
            "grid_template_areas": null,
            "grid_template_columns": null,
            "grid_template_rows": null,
            "height": null,
            "justify_content": null,
            "justify_items": null,
            "left": null,
            "margin": null,
            "max_height": null,
            "max_width": null,
            "min_height": null,
            "min_width": null,
            "object_fit": null,
            "object_position": null,
            "order": null,
            "overflow": null,
            "overflow_x": null,
            "overflow_y": null,
            "padding": null,
            "right": null,
            "top": null,
            "visibility": null,
            "width": null
          }
        },
        "b1ab720c4f734e2b827f256f9528a135": {
          "model_module": "@jupyter-widgets/controls",
          "model_name": "DescriptionStyleModel",
          "model_module_version": "1.5.0",
          "state": {
            "_model_module": "@jupyter-widgets/controls",
            "_model_module_version": "1.5.0",
            "_model_name": "DescriptionStyleModel",
            "_view_count": null,
            "_view_module": "@jupyter-widgets/base",
            "_view_module_version": "1.2.0",
            "_view_name": "StyleView",
            "description_width": ""
          }
        },
        "5e894b301b364aae9b1bb655427950e1": {
          "model_module": "@jupyter-widgets/controls",
          "model_name": "HBoxModel",
          "model_module_version": "1.5.0",
          "state": {
            "_dom_classes": [],
            "_model_module": "@jupyter-widgets/controls",
            "_model_module_version": "1.5.0",
            "_model_name": "HBoxModel",
            "_view_count": null,
            "_view_module": "@jupyter-widgets/controls",
            "_view_module_version": "1.5.0",
            "_view_name": "HBoxView",
            "box_style": "",
            "children": [
              "IPY_MODEL_46bab928aaf94d4f96bbae9324c675c2",
              "IPY_MODEL_c43eb8819f7a40c9aebcb364be2007ed",
              "IPY_MODEL_62cb1b5eefad47d1bea51252ea991b61"
            ],
            "layout": "IPY_MODEL_bc36fb9b02214995ad14da2d938c7ec2"
          }
        },
        "46bab928aaf94d4f96bbae9324c675c2": {
          "model_module": "@jupyter-widgets/controls",
          "model_name": "HTMLModel",
          "model_module_version": "1.5.0",
          "state": {
            "_dom_classes": [],
            "_model_module": "@jupyter-widgets/controls",
            "_model_module_version": "1.5.0",
            "_model_name": "HTMLModel",
            "_view_count": null,
            "_view_module": "@jupyter-widgets/controls",
            "_view_module_version": "1.5.0",
            "_view_name": "HTMLView",
            "description": "",
            "description_tooltip": null,
            "layout": "IPY_MODEL_9620fb091dd140f1bc2b5d20b0215b4a",
            "placeholder": "​",
            "style": "IPY_MODEL_53365d3af2594e25ac9ef7ace42dad07",
            "value": "100%"
          }
        },
        "c43eb8819f7a40c9aebcb364be2007ed": {
          "model_module": "@jupyter-widgets/controls",
          "model_name": "FloatProgressModel",
          "model_module_version": "1.5.0",
          "state": {
            "_dom_classes": [],
            "_model_module": "@jupyter-widgets/controls",
            "_model_module_version": "1.5.0",
            "_model_name": "FloatProgressModel",
            "_view_count": null,
            "_view_module": "@jupyter-widgets/controls",
            "_view_module_version": "1.5.0",
            "_view_name": "ProgressView",
            "bar_style": "success",
            "description": "",
            "description_tooltip": null,
            "layout": "IPY_MODEL_f5291f1c811d4324ae35bda0b5df12e7",
            "max": 250,
            "min": 0,
            "orientation": "horizontal",
            "style": "IPY_MODEL_d6ffa6a31bac49149dbbb84e3462f917",
            "value": 250
          }
        },
        "62cb1b5eefad47d1bea51252ea991b61": {
          "model_module": "@jupyter-widgets/controls",
          "model_name": "HTMLModel",
          "model_module_version": "1.5.0",
          "state": {
            "_dom_classes": [],
            "_model_module": "@jupyter-widgets/controls",
            "_model_module_version": "1.5.0",
            "_model_name": "HTMLModel",
            "_view_count": null,
            "_view_module": "@jupyter-widgets/controls",
            "_view_module_version": "1.5.0",
            "_view_name": "HTMLView",
            "description": "",
            "description_tooltip": null,
            "layout": "IPY_MODEL_7f200862195a46b99f7180d1f9730cd2",
            "placeholder": "​",
            "style": "IPY_MODEL_2af70dbb3fb547218132ce2469cf2ef4",
            "value": " 250/250 [00:31&lt;00:00,  9.24it/s]"
          }
        },
        "bc36fb9b02214995ad14da2d938c7ec2": {
          "model_module": "@jupyter-widgets/base",
          "model_name": "LayoutModel",
          "model_module_version": "1.2.0",
          "state": {
            "_model_module": "@jupyter-widgets/base",
            "_model_module_version": "1.2.0",
            "_model_name": "LayoutModel",
            "_view_count": null,
            "_view_module": "@jupyter-widgets/base",
            "_view_module_version": "1.2.0",
            "_view_name": "LayoutView",
            "align_content": null,
            "align_items": null,
            "align_self": null,
            "border": null,
            "bottom": null,
            "display": null,
            "flex": null,
            "flex_flow": null,
            "grid_area": null,
            "grid_auto_columns": null,
            "grid_auto_flow": null,
            "grid_auto_rows": null,
            "grid_column": null,
            "grid_gap": null,
            "grid_row": null,
            "grid_template_areas": null,
            "grid_template_columns": null,
            "grid_template_rows": null,
            "height": null,
            "justify_content": null,
            "justify_items": null,
            "left": null,
            "margin": null,
            "max_height": null,
            "max_width": null,
            "min_height": null,
            "min_width": null,
            "object_fit": null,
            "object_position": null,
            "order": null,
            "overflow": null,
            "overflow_x": null,
            "overflow_y": null,
            "padding": null,
            "right": null,
            "top": null,
            "visibility": null,
            "width": null
          }
        },
        "9620fb091dd140f1bc2b5d20b0215b4a": {
          "model_module": "@jupyter-widgets/base",
          "model_name": "LayoutModel",
          "model_module_version": "1.2.0",
          "state": {
            "_model_module": "@jupyter-widgets/base",
            "_model_module_version": "1.2.0",
            "_model_name": "LayoutModel",
            "_view_count": null,
            "_view_module": "@jupyter-widgets/base",
            "_view_module_version": "1.2.0",
            "_view_name": "LayoutView",
            "align_content": null,
            "align_items": null,
            "align_self": null,
            "border": null,
            "bottom": null,
            "display": null,
            "flex": null,
            "flex_flow": null,
            "grid_area": null,
            "grid_auto_columns": null,
            "grid_auto_flow": null,
            "grid_auto_rows": null,
            "grid_column": null,
            "grid_gap": null,
            "grid_row": null,
            "grid_template_areas": null,
            "grid_template_columns": null,
            "grid_template_rows": null,
            "height": null,
            "justify_content": null,
            "justify_items": null,
            "left": null,
            "margin": null,
            "max_height": null,
            "max_width": null,
            "min_height": null,
            "min_width": null,
            "object_fit": null,
            "object_position": null,
            "order": null,
            "overflow": null,
            "overflow_x": null,
            "overflow_y": null,
            "padding": null,
            "right": null,
            "top": null,
            "visibility": null,
            "width": null
          }
        },
        "53365d3af2594e25ac9ef7ace42dad07": {
          "model_module": "@jupyter-widgets/controls",
          "model_name": "DescriptionStyleModel",
          "model_module_version": "1.5.0",
          "state": {
            "_model_module": "@jupyter-widgets/controls",
            "_model_module_version": "1.5.0",
            "_model_name": "DescriptionStyleModel",
            "_view_count": null,
            "_view_module": "@jupyter-widgets/base",
            "_view_module_version": "1.2.0",
            "_view_name": "StyleView",
            "description_width": ""
          }
        },
        "f5291f1c811d4324ae35bda0b5df12e7": {
          "model_module": "@jupyter-widgets/base",
          "model_name": "LayoutModel",
          "model_module_version": "1.2.0",
          "state": {
            "_model_module": "@jupyter-widgets/base",
            "_model_module_version": "1.2.0",
            "_model_name": "LayoutModel",
            "_view_count": null,
            "_view_module": "@jupyter-widgets/base",
            "_view_module_version": "1.2.0",
            "_view_name": "LayoutView",
            "align_content": null,
            "align_items": null,
            "align_self": null,
            "border": null,
            "bottom": null,
            "display": null,
            "flex": null,
            "flex_flow": null,
            "grid_area": null,
            "grid_auto_columns": null,
            "grid_auto_flow": null,
            "grid_auto_rows": null,
            "grid_column": null,
            "grid_gap": null,
            "grid_row": null,
            "grid_template_areas": null,
            "grid_template_columns": null,
            "grid_template_rows": null,
            "height": null,
            "justify_content": null,
            "justify_items": null,
            "left": null,
            "margin": null,
            "max_height": null,
            "max_width": null,
            "min_height": null,
            "min_width": null,
            "object_fit": null,
            "object_position": null,
            "order": null,
            "overflow": null,
            "overflow_x": null,
            "overflow_y": null,
            "padding": null,
            "right": null,
            "top": null,
            "visibility": null,
            "width": null
          }
        },
        "d6ffa6a31bac49149dbbb84e3462f917": {
          "model_module": "@jupyter-widgets/controls",
          "model_name": "ProgressStyleModel",
          "model_module_version": "1.5.0",
          "state": {
            "_model_module": "@jupyter-widgets/controls",
            "_model_module_version": "1.5.0",
            "_model_name": "ProgressStyleModel",
            "_view_count": null,
            "_view_module": "@jupyter-widgets/base",
            "_view_module_version": "1.2.0",
            "_view_name": "StyleView",
            "bar_color": null,
            "description_width": ""
          }
        },
        "7f200862195a46b99f7180d1f9730cd2": {
          "model_module": "@jupyter-widgets/base",
          "model_name": "LayoutModel",
          "model_module_version": "1.2.0",
          "state": {
            "_model_module": "@jupyter-widgets/base",
            "_model_module_version": "1.2.0",
            "_model_name": "LayoutModel",
            "_view_count": null,
            "_view_module": "@jupyter-widgets/base",
            "_view_module_version": "1.2.0",
            "_view_name": "LayoutView",
            "align_content": null,
            "align_items": null,
            "align_self": null,
            "border": null,
            "bottom": null,
            "display": null,
            "flex": null,
            "flex_flow": null,
            "grid_area": null,
            "grid_auto_columns": null,
            "grid_auto_flow": null,
            "grid_auto_rows": null,
            "grid_column": null,
            "grid_gap": null,
            "grid_row": null,
            "grid_template_areas": null,
            "grid_template_columns": null,
            "grid_template_rows": null,
            "height": null,
            "justify_content": null,
            "justify_items": null,
            "left": null,
            "margin": null,
            "max_height": null,
            "max_width": null,
            "min_height": null,
            "min_width": null,
            "object_fit": null,
            "object_position": null,
            "order": null,
            "overflow": null,
            "overflow_x": null,
            "overflow_y": null,
            "padding": null,
            "right": null,
            "top": null,
            "visibility": null,
            "width": null
          }
        },
        "2af70dbb3fb547218132ce2469cf2ef4": {
          "model_module": "@jupyter-widgets/controls",
          "model_name": "DescriptionStyleModel",
          "model_module_version": "1.5.0",
          "state": {
            "_model_module": "@jupyter-widgets/controls",
            "_model_module_version": "1.5.0",
            "_model_name": "DescriptionStyleModel",
            "_view_count": null,
            "_view_module": "@jupyter-widgets/base",
            "_view_module_version": "1.2.0",
            "_view_name": "StyleView",
            "description_width": ""
          }
        }
      }
    }
  },
  "cells": [
    {
      "cell_type": "markdown",
      "metadata": {
        "id": "view-in-github",
        "colab_type": "text"
      },
      "source": [
        "<a href=\"https://colab.research.google.com/github/edogriba/NAML-2024/blob/main/AutoEncoderForFraudDetection.ipynb\" target=\"_parent\"><img src=\"https://colab.research.google.com/assets/colab-badge.svg\" alt=\"Open In Colab\"/></a>"
      ]
    },
    {
      "cell_type": "markdown",
      "source": [
        "# Credit Card Fraud Detection System using Autoencoders\n",
        "*Project for Numerical Analysis for Machine Learning*"
      ],
      "metadata": {
        "id": "L3V-jix0u6s_"
      }
    },
    {
      "cell_type": "markdown",
      "source": [
        "***The notebook can entirely be run in about 12-15 minutes***"
      ],
      "metadata": {
        "id": "rdF2DQBOmiBQ"
      }
    },
    {
      "cell_type": "markdown",
      "source": [
        "## Framing the problem"
      ],
      "metadata": {
        "id": "wEDy05J80JB5"
      }
    },
    {
      "cell_type": "code",
      "execution_count": 205,
      "metadata": {
        "id": "KT33E2X-Zt3v"
      },
      "outputs": [],
      "source": [
        "import pandas as pd\n",
        "import numpy as np\n",
        "import seaborn as sns\n",
        "import matplotlib.pyplot as plt\n",
        "import jax\n",
        "import jax.numpy as jnp\n",
        "from jax import grad\n",
        "from jax import random\n",
        "from tqdm.notebook import tqdm\n",
        "import time\n",
        "from sklearn.manifold import TSNE\n",
        "from sklearn.metrics import confusion_matrix\n",
        "from sklearn.metrics import ConfusionMatrixDisplay"
      ]
    },
    {
      "cell_type": "code",
      "source": [
        "!kaggle datasets download -d mlg-ulb/creditcardfraud\n",
        "!unzip creditcardfraud.zip"
      ],
      "metadata": {
        "colab": {
          "base_uri": "https://localhost:8080/"
        },
        "id": "GxeM7CnVusI9",
        "outputId": "4aa4e6d4-fa45-4b45-b59e-51f956c581d4"
      },
      "execution_count": 206,
      "outputs": [
        {
          "output_type": "stream",
          "name": "stdout",
          "text": [
            "Dataset URL: https://www.kaggle.com/datasets/mlg-ulb/creditcardfraud\n",
            "License(s): DbCL-1.0\n",
            "creditcardfraud.zip: Skipping, found more recently modified local copy (use --force to force download)\n",
            "Archive:  creditcardfraud.zip\n",
            "replace creditcard.csv? [y]es, [n]o, [A]ll, [N]one, [r]ename: y\n",
            "  inflating: creditcard.csv          \n"
          ]
        }
      ]
    },
    {
      "cell_type": "code",
      "source": [
        "df = pd.read_csv('creditcard.csv')"
      ],
      "metadata": {
        "id": "zYONupi8uqQp"
      },
      "execution_count": 207,
      "outputs": []
    },
    {
      "cell_type": "code",
      "source": [
        "df.describe()"
      ],
      "metadata": {
        "colab": {
          "base_uri": "https://localhost:8080/",
          "height": 350
        },
        "id": "34cymra8umxu",
        "outputId": "49e07135-8b04-4c1b-e972-55a715d7e4c8"
      },
      "execution_count": 208,
      "outputs": [
        {
          "output_type": "execute_result",
          "data": {
            "text/plain": [
              "                Time            V1            V2            V3            V4  \\\n",
              "count  284807.000000  2.848070e+05  2.848070e+05  2.848070e+05  2.848070e+05   \n",
              "mean    94813.859575  1.168375e-15  3.416908e-16 -1.379537e-15  2.074095e-15   \n",
              "std     47488.145955  1.958696e+00  1.651309e+00  1.516255e+00  1.415869e+00   \n",
              "min         0.000000 -5.640751e+01 -7.271573e+01 -4.832559e+01 -5.683171e+00   \n",
              "25%     54201.500000 -9.203734e-01 -5.985499e-01 -8.903648e-01 -8.486401e-01   \n",
              "50%     84692.000000  1.810880e-02  6.548556e-02  1.798463e-01 -1.984653e-02   \n",
              "75%    139320.500000  1.315642e+00  8.037239e-01  1.027196e+00  7.433413e-01   \n",
              "max    172792.000000  2.454930e+00  2.205773e+01  9.382558e+00  1.687534e+01   \n",
              "\n",
              "                 V5            V6            V7            V8            V9  \\\n",
              "count  2.848070e+05  2.848070e+05  2.848070e+05  2.848070e+05  2.848070e+05   \n",
              "mean   9.604066e-16  1.487313e-15 -5.556467e-16  1.213481e-16 -2.406331e-15   \n",
              "std    1.380247e+00  1.332271e+00  1.237094e+00  1.194353e+00  1.098632e+00   \n",
              "min   -1.137433e+02 -2.616051e+01 -4.355724e+01 -7.321672e+01 -1.343407e+01   \n",
              "25%   -6.915971e-01 -7.682956e-01 -5.540759e-01 -2.086297e-01 -6.430976e-01   \n",
              "50%   -5.433583e-02 -2.741871e-01  4.010308e-02  2.235804e-02 -5.142873e-02   \n",
              "75%    6.119264e-01  3.985649e-01  5.704361e-01  3.273459e-01  5.971390e-01   \n",
              "max    3.480167e+01  7.330163e+01  1.205895e+02  2.000721e+01  1.559499e+01   \n",
              "\n",
              "       ...           V21           V22           V23           V24  \\\n",
              "count  ...  2.848070e+05  2.848070e+05  2.848070e+05  2.848070e+05   \n",
              "mean   ...  1.654067e-16 -3.568593e-16  2.578648e-16  4.473266e-15   \n",
              "std    ...  7.345240e-01  7.257016e-01  6.244603e-01  6.056471e-01   \n",
              "min    ... -3.483038e+01 -1.093314e+01 -4.480774e+01 -2.836627e+00   \n",
              "25%    ... -2.283949e-01 -5.423504e-01 -1.618463e-01 -3.545861e-01   \n",
              "50%    ... -2.945017e-02  6.781943e-03 -1.119293e-02  4.097606e-02   \n",
              "75%    ...  1.863772e-01  5.285536e-01  1.476421e-01  4.395266e-01   \n",
              "max    ...  2.720284e+01  1.050309e+01  2.252841e+01  4.584549e+00   \n",
              "\n",
              "                V25           V26           V27           V28         Amount  \\\n",
              "count  2.848070e+05  2.848070e+05  2.848070e+05  2.848070e+05  284807.000000   \n",
              "mean   5.340915e-16  1.683437e-15 -3.660091e-16 -1.227390e-16      88.349619   \n",
              "std    5.212781e-01  4.822270e-01  4.036325e-01  3.300833e-01     250.120109   \n",
              "min   -1.029540e+01 -2.604551e+00 -2.256568e+01 -1.543008e+01       0.000000   \n",
              "25%   -3.171451e-01 -3.269839e-01 -7.083953e-02 -5.295979e-02       5.600000   \n",
              "50%    1.659350e-02 -5.213911e-02  1.342146e-03  1.124383e-02      22.000000   \n",
              "75%    3.507156e-01  2.409522e-01  9.104512e-02  7.827995e-02      77.165000   \n",
              "max    7.519589e+00  3.517346e+00  3.161220e+01  3.384781e+01   25691.160000   \n",
              "\n",
              "               Class  \n",
              "count  284807.000000  \n",
              "mean        0.001727  \n",
              "std         0.041527  \n",
              "min         0.000000  \n",
              "25%         0.000000  \n",
              "50%         0.000000  \n",
              "75%         0.000000  \n",
              "max         1.000000  \n",
              "\n",
              "[8 rows x 31 columns]"
            ],
            "text/html": [
              "\n",
              "  <div id=\"df-c50e2e12-e4b4-4852-b95b-e379d5b903a5\" class=\"colab-df-container\">\n",
              "    <div>\n",
              "<style scoped>\n",
              "    .dataframe tbody tr th:only-of-type {\n",
              "        vertical-align: middle;\n",
              "    }\n",
              "\n",
              "    .dataframe tbody tr th {\n",
              "        vertical-align: top;\n",
              "    }\n",
              "\n",
              "    .dataframe thead th {\n",
              "        text-align: right;\n",
              "    }\n",
              "</style>\n",
              "<table border=\"1\" class=\"dataframe\">\n",
              "  <thead>\n",
              "    <tr style=\"text-align: right;\">\n",
              "      <th></th>\n",
              "      <th>Time</th>\n",
              "      <th>V1</th>\n",
              "      <th>V2</th>\n",
              "      <th>V3</th>\n",
              "      <th>V4</th>\n",
              "      <th>V5</th>\n",
              "      <th>V6</th>\n",
              "      <th>V7</th>\n",
              "      <th>V8</th>\n",
              "      <th>V9</th>\n",
              "      <th>...</th>\n",
              "      <th>V21</th>\n",
              "      <th>V22</th>\n",
              "      <th>V23</th>\n",
              "      <th>V24</th>\n",
              "      <th>V25</th>\n",
              "      <th>V26</th>\n",
              "      <th>V27</th>\n",
              "      <th>V28</th>\n",
              "      <th>Amount</th>\n",
              "      <th>Class</th>\n",
              "    </tr>\n",
              "  </thead>\n",
              "  <tbody>\n",
              "    <tr>\n",
              "      <th>count</th>\n",
              "      <td>284807.000000</td>\n",
              "      <td>2.848070e+05</td>\n",
              "      <td>2.848070e+05</td>\n",
              "      <td>2.848070e+05</td>\n",
              "      <td>2.848070e+05</td>\n",
              "      <td>2.848070e+05</td>\n",
              "      <td>2.848070e+05</td>\n",
              "      <td>2.848070e+05</td>\n",
              "      <td>2.848070e+05</td>\n",
              "      <td>2.848070e+05</td>\n",
              "      <td>...</td>\n",
              "      <td>2.848070e+05</td>\n",
              "      <td>2.848070e+05</td>\n",
              "      <td>2.848070e+05</td>\n",
              "      <td>2.848070e+05</td>\n",
              "      <td>2.848070e+05</td>\n",
              "      <td>2.848070e+05</td>\n",
              "      <td>2.848070e+05</td>\n",
              "      <td>2.848070e+05</td>\n",
              "      <td>284807.000000</td>\n",
              "      <td>284807.000000</td>\n",
              "    </tr>\n",
              "    <tr>\n",
              "      <th>mean</th>\n",
              "      <td>94813.859575</td>\n",
              "      <td>1.168375e-15</td>\n",
              "      <td>3.416908e-16</td>\n",
              "      <td>-1.379537e-15</td>\n",
              "      <td>2.074095e-15</td>\n",
              "      <td>9.604066e-16</td>\n",
              "      <td>1.487313e-15</td>\n",
              "      <td>-5.556467e-16</td>\n",
              "      <td>1.213481e-16</td>\n",
              "      <td>-2.406331e-15</td>\n",
              "      <td>...</td>\n",
              "      <td>1.654067e-16</td>\n",
              "      <td>-3.568593e-16</td>\n",
              "      <td>2.578648e-16</td>\n",
              "      <td>4.473266e-15</td>\n",
              "      <td>5.340915e-16</td>\n",
              "      <td>1.683437e-15</td>\n",
              "      <td>-3.660091e-16</td>\n",
              "      <td>-1.227390e-16</td>\n",
              "      <td>88.349619</td>\n",
              "      <td>0.001727</td>\n",
              "    </tr>\n",
              "    <tr>\n",
              "      <th>std</th>\n",
              "      <td>47488.145955</td>\n",
              "      <td>1.958696e+00</td>\n",
              "      <td>1.651309e+00</td>\n",
              "      <td>1.516255e+00</td>\n",
              "      <td>1.415869e+00</td>\n",
              "      <td>1.380247e+00</td>\n",
              "      <td>1.332271e+00</td>\n",
              "      <td>1.237094e+00</td>\n",
              "      <td>1.194353e+00</td>\n",
              "      <td>1.098632e+00</td>\n",
              "      <td>...</td>\n",
              "      <td>7.345240e-01</td>\n",
              "      <td>7.257016e-01</td>\n",
              "      <td>6.244603e-01</td>\n",
              "      <td>6.056471e-01</td>\n",
              "      <td>5.212781e-01</td>\n",
              "      <td>4.822270e-01</td>\n",
              "      <td>4.036325e-01</td>\n",
              "      <td>3.300833e-01</td>\n",
              "      <td>250.120109</td>\n",
              "      <td>0.041527</td>\n",
              "    </tr>\n",
              "    <tr>\n",
              "      <th>min</th>\n",
              "      <td>0.000000</td>\n",
              "      <td>-5.640751e+01</td>\n",
              "      <td>-7.271573e+01</td>\n",
              "      <td>-4.832559e+01</td>\n",
              "      <td>-5.683171e+00</td>\n",
              "      <td>-1.137433e+02</td>\n",
              "      <td>-2.616051e+01</td>\n",
              "      <td>-4.355724e+01</td>\n",
              "      <td>-7.321672e+01</td>\n",
              "      <td>-1.343407e+01</td>\n",
              "      <td>...</td>\n",
              "      <td>-3.483038e+01</td>\n",
              "      <td>-1.093314e+01</td>\n",
              "      <td>-4.480774e+01</td>\n",
              "      <td>-2.836627e+00</td>\n",
              "      <td>-1.029540e+01</td>\n",
              "      <td>-2.604551e+00</td>\n",
              "      <td>-2.256568e+01</td>\n",
              "      <td>-1.543008e+01</td>\n",
              "      <td>0.000000</td>\n",
              "      <td>0.000000</td>\n",
              "    </tr>\n",
              "    <tr>\n",
              "      <th>25%</th>\n",
              "      <td>54201.500000</td>\n",
              "      <td>-9.203734e-01</td>\n",
              "      <td>-5.985499e-01</td>\n",
              "      <td>-8.903648e-01</td>\n",
              "      <td>-8.486401e-01</td>\n",
              "      <td>-6.915971e-01</td>\n",
              "      <td>-7.682956e-01</td>\n",
              "      <td>-5.540759e-01</td>\n",
              "      <td>-2.086297e-01</td>\n",
              "      <td>-6.430976e-01</td>\n",
              "      <td>...</td>\n",
              "      <td>-2.283949e-01</td>\n",
              "      <td>-5.423504e-01</td>\n",
              "      <td>-1.618463e-01</td>\n",
              "      <td>-3.545861e-01</td>\n",
              "      <td>-3.171451e-01</td>\n",
              "      <td>-3.269839e-01</td>\n",
              "      <td>-7.083953e-02</td>\n",
              "      <td>-5.295979e-02</td>\n",
              "      <td>5.600000</td>\n",
              "      <td>0.000000</td>\n",
              "    </tr>\n",
              "    <tr>\n",
              "      <th>50%</th>\n",
              "      <td>84692.000000</td>\n",
              "      <td>1.810880e-02</td>\n",
              "      <td>6.548556e-02</td>\n",
              "      <td>1.798463e-01</td>\n",
              "      <td>-1.984653e-02</td>\n",
              "      <td>-5.433583e-02</td>\n",
              "      <td>-2.741871e-01</td>\n",
              "      <td>4.010308e-02</td>\n",
              "      <td>2.235804e-02</td>\n",
              "      <td>-5.142873e-02</td>\n",
              "      <td>...</td>\n",
              "      <td>-2.945017e-02</td>\n",
              "      <td>6.781943e-03</td>\n",
              "      <td>-1.119293e-02</td>\n",
              "      <td>4.097606e-02</td>\n",
              "      <td>1.659350e-02</td>\n",
              "      <td>-5.213911e-02</td>\n",
              "      <td>1.342146e-03</td>\n",
              "      <td>1.124383e-02</td>\n",
              "      <td>22.000000</td>\n",
              "      <td>0.000000</td>\n",
              "    </tr>\n",
              "    <tr>\n",
              "      <th>75%</th>\n",
              "      <td>139320.500000</td>\n",
              "      <td>1.315642e+00</td>\n",
              "      <td>8.037239e-01</td>\n",
              "      <td>1.027196e+00</td>\n",
              "      <td>7.433413e-01</td>\n",
              "      <td>6.119264e-01</td>\n",
              "      <td>3.985649e-01</td>\n",
              "      <td>5.704361e-01</td>\n",
              "      <td>3.273459e-01</td>\n",
              "      <td>5.971390e-01</td>\n",
              "      <td>...</td>\n",
              "      <td>1.863772e-01</td>\n",
              "      <td>5.285536e-01</td>\n",
              "      <td>1.476421e-01</td>\n",
              "      <td>4.395266e-01</td>\n",
              "      <td>3.507156e-01</td>\n",
              "      <td>2.409522e-01</td>\n",
              "      <td>9.104512e-02</td>\n",
              "      <td>7.827995e-02</td>\n",
              "      <td>77.165000</td>\n",
              "      <td>0.000000</td>\n",
              "    </tr>\n",
              "    <tr>\n",
              "      <th>max</th>\n",
              "      <td>172792.000000</td>\n",
              "      <td>2.454930e+00</td>\n",
              "      <td>2.205773e+01</td>\n",
              "      <td>9.382558e+00</td>\n",
              "      <td>1.687534e+01</td>\n",
              "      <td>3.480167e+01</td>\n",
              "      <td>7.330163e+01</td>\n",
              "      <td>1.205895e+02</td>\n",
              "      <td>2.000721e+01</td>\n",
              "      <td>1.559499e+01</td>\n",
              "      <td>...</td>\n",
              "      <td>2.720284e+01</td>\n",
              "      <td>1.050309e+01</td>\n",
              "      <td>2.252841e+01</td>\n",
              "      <td>4.584549e+00</td>\n",
              "      <td>7.519589e+00</td>\n",
              "      <td>3.517346e+00</td>\n",
              "      <td>3.161220e+01</td>\n",
              "      <td>3.384781e+01</td>\n",
              "      <td>25691.160000</td>\n",
              "      <td>1.000000</td>\n",
              "    </tr>\n",
              "  </tbody>\n",
              "</table>\n",
              "<p>8 rows × 31 columns</p>\n",
              "</div>\n",
              "    <div class=\"colab-df-buttons\">\n",
              "\n",
              "  <div class=\"colab-df-container\">\n",
              "    <button class=\"colab-df-convert\" onclick=\"convertToInteractive('df-c50e2e12-e4b4-4852-b95b-e379d5b903a5')\"\n",
              "            title=\"Convert this dataframe to an interactive table.\"\n",
              "            style=\"display:none;\">\n",
              "\n",
              "  <svg xmlns=\"http://www.w3.org/2000/svg\" height=\"24px\" viewBox=\"0 -960 960 960\">\n",
              "    <path d=\"M120-120v-720h720v720H120Zm60-500h600v-160H180v160Zm220 220h160v-160H400v160Zm0 220h160v-160H400v160ZM180-400h160v-160H180v160Zm440 0h160v-160H620v160ZM180-180h160v-160H180v160Zm440 0h160v-160H620v160Z\"/>\n",
              "  </svg>\n",
              "    </button>\n",
              "\n",
              "  <style>\n",
              "    .colab-df-container {\n",
              "      display:flex;\n",
              "      gap: 12px;\n",
              "    }\n",
              "\n",
              "    .colab-df-convert {\n",
              "      background-color: #E8F0FE;\n",
              "      border: none;\n",
              "      border-radius: 50%;\n",
              "      cursor: pointer;\n",
              "      display: none;\n",
              "      fill: #1967D2;\n",
              "      height: 32px;\n",
              "      padding: 0 0 0 0;\n",
              "      width: 32px;\n",
              "    }\n",
              "\n",
              "    .colab-df-convert:hover {\n",
              "      background-color: #E2EBFA;\n",
              "      box-shadow: 0px 1px 2px rgba(60, 64, 67, 0.3), 0px 1px 3px 1px rgba(60, 64, 67, 0.15);\n",
              "      fill: #174EA6;\n",
              "    }\n",
              "\n",
              "    .colab-df-buttons div {\n",
              "      margin-bottom: 4px;\n",
              "    }\n",
              "\n",
              "    [theme=dark] .colab-df-convert {\n",
              "      background-color: #3B4455;\n",
              "      fill: #D2E3FC;\n",
              "    }\n",
              "\n",
              "    [theme=dark] .colab-df-convert:hover {\n",
              "      background-color: #434B5C;\n",
              "      box-shadow: 0px 1px 3px 1px rgba(0, 0, 0, 0.15);\n",
              "      filter: drop-shadow(0px 1px 2px rgba(0, 0, 0, 0.3));\n",
              "      fill: #FFFFFF;\n",
              "    }\n",
              "  </style>\n",
              "\n",
              "    <script>\n",
              "      const buttonEl =\n",
              "        document.querySelector('#df-c50e2e12-e4b4-4852-b95b-e379d5b903a5 button.colab-df-convert');\n",
              "      buttonEl.style.display =\n",
              "        google.colab.kernel.accessAllowed ? 'block' : 'none';\n",
              "\n",
              "      async function convertToInteractive(key) {\n",
              "        const element = document.querySelector('#df-c50e2e12-e4b4-4852-b95b-e379d5b903a5');\n",
              "        const dataTable =\n",
              "          await google.colab.kernel.invokeFunction('convertToInteractive',\n",
              "                                                    [key], {});\n",
              "        if (!dataTable) return;\n",
              "\n",
              "        const docLinkHtml = 'Like what you see? Visit the ' +\n",
              "          '<a target=\"_blank\" href=https://colab.research.google.com/notebooks/data_table.ipynb>data table notebook</a>'\n",
              "          + ' to learn more about interactive tables.';\n",
              "        element.innerHTML = '';\n",
              "        dataTable['output_type'] = 'display_data';\n",
              "        await google.colab.output.renderOutput(dataTable, element);\n",
              "        const docLink = document.createElement('div');\n",
              "        docLink.innerHTML = docLinkHtml;\n",
              "        element.appendChild(docLink);\n",
              "      }\n",
              "    </script>\n",
              "  </div>\n",
              "\n",
              "\n",
              "<div id=\"df-f15cb608-42c4-4f48-8d39-f6a155bc168a\">\n",
              "  <button class=\"colab-df-quickchart\" onclick=\"quickchart('df-f15cb608-42c4-4f48-8d39-f6a155bc168a')\"\n",
              "            title=\"Suggest charts\"\n",
              "            style=\"display:none;\">\n",
              "\n",
              "<svg xmlns=\"http://www.w3.org/2000/svg\" height=\"24px\"viewBox=\"0 0 24 24\"\n",
              "     width=\"24px\">\n",
              "    <g>\n",
              "        <path d=\"M19 3H5c-1.1 0-2 .9-2 2v14c0 1.1.9 2 2 2h14c1.1 0 2-.9 2-2V5c0-1.1-.9-2-2-2zM9 17H7v-7h2v7zm4 0h-2V7h2v10zm4 0h-2v-4h2v4z\"/>\n",
              "    </g>\n",
              "</svg>\n",
              "  </button>\n",
              "\n",
              "<style>\n",
              "  .colab-df-quickchart {\n",
              "      --bg-color: #E8F0FE;\n",
              "      --fill-color: #1967D2;\n",
              "      --hover-bg-color: #E2EBFA;\n",
              "      --hover-fill-color: #174EA6;\n",
              "      --disabled-fill-color: #AAA;\n",
              "      --disabled-bg-color: #DDD;\n",
              "  }\n",
              "\n",
              "  [theme=dark] .colab-df-quickchart {\n",
              "      --bg-color: #3B4455;\n",
              "      --fill-color: #D2E3FC;\n",
              "      --hover-bg-color: #434B5C;\n",
              "      --hover-fill-color: #FFFFFF;\n",
              "      --disabled-bg-color: #3B4455;\n",
              "      --disabled-fill-color: #666;\n",
              "  }\n",
              "\n",
              "  .colab-df-quickchart {\n",
              "    background-color: var(--bg-color);\n",
              "    border: none;\n",
              "    border-radius: 50%;\n",
              "    cursor: pointer;\n",
              "    display: none;\n",
              "    fill: var(--fill-color);\n",
              "    height: 32px;\n",
              "    padding: 0;\n",
              "    width: 32px;\n",
              "  }\n",
              "\n",
              "  .colab-df-quickchart:hover {\n",
              "    background-color: var(--hover-bg-color);\n",
              "    box-shadow: 0 1px 2px rgba(60, 64, 67, 0.3), 0 1px 3px 1px rgba(60, 64, 67, 0.15);\n",
              "    fill: var(--button-hover-fill-color);\n",
              "  }\n",
              "\n",
              "  .colab-df-quickchart-complete:disabled,\n",
              "  .colab-df-quickchart-complete:disabled:hover {\n",
              "    background-color: var(--disabled-bg-color);\n",
              "    fill: var(--disabled-fill-color);\n",
              "    box-shadow: none;\n",
              "  }\n",
              "\n",
              "  .colab-df-spinner {\n",
              "    border: 2px solid var(--fill-color);\n",
              "    border-color: transparent;\n",
              "    border-bottom-color: var(--fill-color);\n",
              "    animation:\n",
              "      spin 1s steps(1) infinite;\n",
              "  }\n",
              "\n",
              "  @keyframes spin {\n",
              "    0% {\n",
              "      border-color: transparent;\n",
              "      border-bottom-color: var(--fill-color);\n",
              "      border-left-color: var(--fill-color);\n",
              "    }\n",
              "    20% {\n",
              "      border-color: transparent;\n",
              "      border-left-color: var(--fill-color);\n",
              "      border-top-color: var(--fill-color);\n",
              "    }\n",
              "    30% {\n",
              "      border-color: transparent;\n",
              "      border-left-color: var(--fill-color);\n",
              "      border-top-color: var(--fill-color);\n",
              "      border-right-color: var(--fill-color);\n",
              "    }\n",
              "    40% {\n",
              "      border-color: transparent;\n",
              "      border-right-color: var(--fill-color);\n",
              "      border-top-color: var(--fill-color);\n",
              "    }\n",
              "    60% {\n",
              "      border-color: transparent;\n",
              "      border-right-color: var(--fill-color);\n",
              "    }\n",
              "    80% {\n",
              "      border-color: transparent;\n",
              "      border-right-color: var(--fill-color);\n",
              "      border-bottom-color: var(--fill-color);\n",
              "    }\n",
              "    90% {\n",
              "      border-color: transparent;\n",
              "      border-bottom-color: var(--fill-color);\n",
              "    }\n",
              "  }\n",
              "</style>\n",
              "\n",
              "  <script>\n",
              "    async function quickchart(key) {\n",
              "      const quickchartButtonEl =\n",
              "        document.querySelector('#' + key + ' button');\n",
              "      quickchartButtonEl.disabled = true;  // To prevent multiple clicks.\n",
              "      quickchartButtonEl.classList.add('colab-df-spinner');\n",
              "      try {\n",
              "        const charts = await google.colab.kernel.invokeFunction(\n",
              "            'suggestCharts', [key], {});\n",
              "      } catch (error) {\n",
              "        console.error('Error during call to suggestCharts:', error);\n",
              "      }\n",
              "      quickchartButtonEl.classList.remove('colab-df-spinner');\n",
              "      quickchartButtonEl.classList.add('colab-df-quickchart-complete');\n",
              "    }\n",
              "    (() => {\n",
              "      let quickchartButtonEl =\n",
              "        document.querySelector('#df-f15cb608-42c4-4f48-8d39-f6a155bc168a button');\n",
              "      quickchartButtonEl.style.display =\n",
              "        google.colab.kernel.accessAllowed ? 'block' : 'none';\n",
              "    })();\n",
              "  </script>\n",
              "</div>\n",
              "\n",
              "    </div>\n",
              "  </div>\n"
            ],
            "application/vnd.google.colaboratory.intrinsic+json": {
              "type": "dataframe"
            }
          },
          "metadata": {},
          "execution_count": 208
        }
      ]
    },
    {
      "cell_type": "markdown",
      "source": [
        "It's easy to see that there are 30 features as columns of which 28 are labeled as Vn where n is number. This is due to the fact that banks or credit card provider in general cannot disclose any kind of sensistive nor personal information to third parties. Indeed these are simply the principal components of the original dataset. In this case since it is difficult to interpret those principal components, I start exploring the other columns relative to the features and the labels."
      ],
      "metadata": {
        "id": "Hya9SY_jvOHt"
      }
    },
    {
      "cell_type": "markdown",
      "source": [
        "First let's try to plot the distribution of the amounts spent to see if the dataset has some problems (e. g. the value of the transactions could be cut off as we saw in the lab in class where we used the dataset of the California houses)"
      ],
      "metadata": {
        "id": "SRenO_N3vR1u"
      }
    },
    {
      "cell_type": "code",
      "source": [
        "sns.histplot(data=df, kde=True, x=\"Amount\")"
      ],
      "metadata": {
        "colab": {
          "base_uri": "https://localhost:8080/",
          "height": 467
        },
        "id": "CwO7DBPqvLo2",
        "outputId": "17ed3b1d-868f-4a21-cda9-df69c98eb378"
      },
      "execution_count": 209,
      "outputs": [
        {
          "output_type": "execute_result",
          "data": {
            "text/plain": [
              "<Axes: xlabel='Amount', ylabel='Count'>"
            ]
          },
          "metadata": {},
          "execution_count": 209
        },
        {
          "output_type": "display_data",
          "data": {
            "text/plain": [
              "<Figure size 640x480 with 1 Axes>"
            ],
            "image/png": "[encoded data removed]"
          },
          "metadata": {}
        }
      ]
    },
    {
      "cell_type": "markdown",
      "source": [
        "I notice that the histogram is not nicely rendered and difficult to interpret since the transactions have a big difference in value, therefore let's plot them using a logarithmic scale\n"
      ],
      "metadata": {
        "id": "oZejwj2PvUaD"
      }
    },
    {
      "cell_type": "code",
      "source": [
        "df[\"log_Amount\"] = np.log(df[\"Amount\"]+1e-12)\n",
        "\n",
        "sns.histplot(data=df, kde=True, x=\"log_Amount\")"
      ],
      "metadata": {
        "colab": {
          "base_uri": "https://localhost:8080/",
          "height": 468
        },
        "id": "mO7qui4bvW-Y",
        "outputId": "de766324-3ec6-4ac8-de1e-7811230d2519"
      },
      "execution_count": 210,
      "outputs": [
        {
          "output_type": "execute_result",
          "data": {
            "text/plain": [
              "<Axes: xlabel='log_Amount', ylabel='Count'>"
            ]
          },
          "metadata": {},
          "execution_count": 210
        },
        {
          "output_type": "display_data",
          "data": {
            "text/plain": [
              "<Figure size 640x480 with 1 Axes>"
            ],
            "image/png": "[encoded data removed]"
          },
          "metadata": {}
        }
      ]
    },
    {
      "cell_type": "markdown",
      "source": [
        "Plotting the transactions with the natural logarithm scale and it's visible that most of them are included between ~$e^{-1}$ and ~$e^{-7}$ which makes sense as it means that most of the transactions are between ~0.36 € and ~1097 €. In particular apart of the spikes which are somehow normal in such datasets related to credit card transactions, the labels don't seem to suffer of any problem (e.g. a problem could be a concentration in one of the extreme of transaction amount meaning that probably one label was something like \"more than 5000\")"
      ],
      "metadata": {
        "id": "s_cXYfa9vnT8"
      }
    },
    {
      "cell_type": "markdown",
      "source": [
        "We can also get the same heatmap of the paper and see that there are not particular correlations between the features"
      ],
      "metadata": {
        "id": "O7nVTnUIvhzX"
      }
    },
    {
      "cell_type": "code",
      "source": [
        "sns.heatmap(df.corr(), cmap=\"vlag_r\", vmin=-1, vmax=1)"
      ],
      "metadata": {
        "colab": {
          "base_uri": "https://localhost:8080/",
          "height": 476
        },
        "id": "svPwH27KvaXj",
        "outputId": "a3b9a3e6-d3e1-4e58-bb32-18c31a52ba3e"
      },
      "execution_count": 211,
      "outputs": [
        {
          "output_type": "execute_result",
          "data": {
            "text/plain": [
              "<Axes: >"
            ]
          },
          "metadata": {},
          "execution_count": 211
        },
        {
          "output_type": "display_data",
          "data": {
            "text/plain": [
              "<Figure size 640x480 with 2 Axes>"
            ],
            "image/png": "[encoded data removed]"
          },
          "metadata": {}
        }
      ]
    },
    {
      "cell_type": "markdown",
      "source": [
        "Now let's analyze the labels: the class is the target. It will have a value of  1 if the transaction is labelled as fraudulent (positive class) and 0 otherwise (negative class). Let's count the occurrences of the two."
      ],
      "metadata": {
        "id": "53yJpWTrvfTN"
      }
    },
    {
      "cell_type": "code",
      "source": [
        "value_counts = df['Class'].value_counts()\n",
        "\n",
        "print(f\"{(value_counts[1]/(value_counts[0]+value_counts[1])*100):.3f}%\")"
      ],
      "metadata": {
        "colab": {
          "base_uri": "https://localhost:8080/"
        },
        "id": "dbeCczrJvcx_",
        "outputId": "1acf5650-98cc-4932-df09-6eb8aa1c7cb5"
      },
      "execution_count": 212,
      "outputs": [
        {
          "output_type": "stream",
          "name": "stdout",
          "text": [
            "0.173%\n"
          ]
        }
      ]
    },
    {
      "cell_type": "markdown",
      "source": [
        "The biggest problem about the dataset is that it is hugely unbalanced: on 284,807 transactions there are only 492 that are fraudulent: this amounts to only 0.17% of our dataset. This is a big problem indeed a naive classifier, which would always output 0 (flagging every transaction as non fradulent), would have an accuracy of 99.83% on this dataset, however it would be useless for the purpose since the whole point of a credit card fraud detection system is to find out the transactions that are fraudulent.\n",
        "To tackle this matter, the paper uses as metrics not only the accuracy but also precision, recall and the F1 score"
      ],
      "metadata": {
        "id": "BoWWuDN_v__a"
      }
    },
    {
      "cell_type": "markdown",
      "source": [
        "## Data Processing (Normalization, Shuffling and Splitting into Train and Test set)"
      ],
      "metadata": {
        "id": "M9y1dd7lzrL6"
      }
    },
    {
      "cell_type": "code",
      "source": [
        "y_true = df[\"Class\"]\n",
        "df.drop(columns=[\"log_Amount\", \"Class\"], inplace=True)\n",
        "mean = df.mean()\n",
        "std = df.std()\n",
        "df_normalized = (df - mean) / (std)"
      ],
      "metadata": {
        "id": "HzE4AjWyut9H"
      },
      "execution_count": 213,
      "outputs": []
    },
    {
      "cell_type": "code",
      "source": [
        "df_normalized.describe()"
      ],
      "metadata": {
        "colab": {
          "base_uri": "https://localhost:8080/",
          "height": 419
        },
        "id": "f1ofdj-ZuxT9",
        "outputId": "91048643-da18-4cd4-fa1d-c184baf5a569"
      },
      "execution_count": 214,
      "outputs": [
        {
          "output_type": "execute_result",
          "data": {
            "text/plain": [
              "               Time            V1            V2            V3            V4  \\\n",
              "count  2.848070e+05  2.848070e+05  2.848070e+05  2.848070e+05  2.848070e+05   \n",
              "mean  -1.149614e-16 -2.195443e-17 -1.516852e-17 -3.832046e-17  1.197515e-17   \n",
              "std    1.000000e+00  1.000000e+00  1.000000e+00  1.000000e+00  1.000000e+00   \n",
              "min   -1.996580e+00 -2.879850e+01 -4.403521e+01 -3.187168e+01 -4.013912e+00   \n",
              "25%   -8.552105e-01 -4.698909e-01 -3.624701e-01 -5.872131e-01 -5.993777e-01   \n",
              "50%   -2.131450e-01  9.245335e-03  3.965677e-02  1.186122e-01 -1.401721e-02   \n",
              "75%    9.372158e-01  6.716927e-01  4.867194e-01  6.774557e-01  5.250073e-01   \n",
              "max    1.642055e+00  1.253349e+00  1.335773e+01  6.187982e+00  1.191872e+01   \n",
              "\n",
              "                 V5            V6            V7            V8            V9  \\\n",
              "count  2.848070e+05  2.848070e+05  2.848070e+05  2.848070e+05  2.848070e+05   \n",
              "mean   3.592544e-17  5.987573e-18  5.189230e-18 -8.981359e-19  5.488608e-18   \n",
              "std    1.000000e+00  1.000000e+00  1.000000e+00  1.000000e+00  1.000000e+00   \n",
              "min   -8.240795e+01 -1.963602e+01 -3.520933e+01 -6.130242e+01 -1.222799e+01   \n",
              "25%   -5.010677e-01 -5.766811e-01 -4.478852e-01 -1.746801e-01 -5.853621e-01   \n",
              "50%   -3.936675e-02 -2.058043e-01  3.241718e-02  1.871979e-02 -4.681161e-02   \n",
              "75%    4.433457e-01  2.991620e-01  4.611099e-01  2.740780e-01  5.435296e-01   \n",
              "max    2.521409e+01  5.502005e+01  9.747807e+01  1.675150e+01  1.419492e+01   \n",
              "\n",
              "       ...           V20           V21           V22           V23  \\\n",
              "count  ...  2.848070e+05  2.848070e+05  2.848070e+05  2.848070e+05   \n",
              "mean   ... -3.991715e-18 -3.193372e-18  6.386744e-18 -4.390887e-18   \n",
              "std    ...  1.000000e+00  1.000000e+00  1.000000e+00  1.000000e+00   \n",
              "min    ... -7.069134e+01 -4.741898e+01 -1.506562e+01 -7.175434e+01   \n",
              "25%    ... -2.746329e-01 -3.109428e-01 -7.473463e-01 -2.591780e-01   \n",
              "50%    ... -8.104691e-02 -4.009422e-02  9.345360e-03 -1.792417e-02   \n",
              "75%    ...  1.725730e-01  2.537387e-01  7.283347e-01  2.364315e-01   \n",
              "max    ...  5.113455e+01  3.703465e+01  1.447302e+01  3.607661e+01   \n",
              "\n",
              "                V24           V25           V26           V27           V28  \\\n",
              "count  2.848070e+05  2.848070e+05  2.848070e+05  2.848070e+05  2.848070e+05   \n",
              "mean   8.981359e-18 -3.512709e-17  1.319137e-17  2.220391e-18 -7.434569e-18   \n",
              "std    1.000000e+00  1.000000e+00  1.000000e+00  1.000000e+00  1.000000e+00   \n",
              "min   -4.683630e+00 -1.975030e+01 -5.401088e+00 -5.590650e+01 -4.674604e+01   \n",
              "25%   -5.854666e-01 -6.083990e-01 -6.780705e-01 -1.755050e-01 -1.604437e-01   \n",
              "50%    6.765666e-02  3.183234e-02 -1.081215e-01  3.325168e-03  3.406362e-02   \n",
              "75%    7.257141e-01  6.727994e-01  4.996654e-01  2.255644e-01  2.371521e-01   \n",
              "max    7.569671e+00  1.442529e+01  7.293962e+00  7.831926e+01  1.025432e+02   \n",
              "\n",
              "             Amount  \n",
              "count  2.848070e+05  \n",
              "mean   2.235360e-17  \n",
              "std    1.000000e+00  \n",
              "min   -3.532288e-01  \n",
              "25%   -3.308395e-01  \n",
              "50%   -2.652710e-01  \n",
              "75%   -4.471699e-02  \n",
              "max    1.023621e+02  \n",
              "\n",
              "[8 rows x 30 columns]"
            ],
            "text/html": [
              "\n",
              "  <div id=\"df-55c72a8e-ed69-48b3-9989-055e4fdeaaec\" class=\"colab-df-container\">\n",
              "    <div>\n",
              "<style scoped>\n",
              "    .dataframe tbody tr th:only-of-type {\n",
              "        vertical-align: middle;\n",
              "    }\n",
              "\n",
              "    .dataframe tbody tr th {\n",
              "        vertical-align: top;\n",
              "    }\n",
              "\n",
              "    .dataframe thead th {\n",
              "        text-align: right;\n",
              "    }\n",
              "</style>\n",
              "<table border=\"1\" class=\"dataframe\">\n",
              "  <thead>\n",
              "    <tr style=\"text-align: right;\">\n",
              "      <th></th>\n",
              "      <th>Time</th>\n",
              "      <th>V1</th>\n",
              "      <th>V2</th>\n",
              "      <th>V3</th>\n",
              "      <th>V4</th>\n",
              "      <th>V5</th>\n",
              "      <th>V6</th>\n",
              "      <th>V7</th>\n",
              "      <th>V8</th>\n",
              "      <th>V9</th>\n",
              "      <th>...</th>\n",
              "      <th>V20</th>\n",
              "      <th>V21</th>\n",
              "      <th>V22</th>\n",
              "      <th>V23</th>\n",
              "      <th>V24</th>\n",
              "      <th>V25</th>\n",
              "      <th>V26</th>\n",
              "      <th>V27</th>\n",
              "      <th>V28</th>\n",
              "      <th>Amount</th>\n",
              "    </tr>\n",
              "  </thead>\n",
              "  <tbody>\n",
              "    <tr>\n",
              "      <th>count</th>\n",
              "      <td>2.848070e+05</td>\n",
              "      <td>2.848070e+05</td>\n",
              "      <td>2.848070e+05</td>\n",
              "      <td>2.848070e+05</td>\n",
              "      <td>2.848070e+05</td>\n",
              "      <td>2.848070e+05</td>\n",
              "      <td>2.848070e+05</td>\n",
              "      <td>2.848070e+05</td>\n",
              "      <td>2.848070e+05</td>\n",
              "      <td>2.848070e+05</td>\n",
              "      <td>...</td>\n",
              "      <td>2.848070e+05</td>\n",
              "      <td>2.848070e+05</td>\n",
              "      <td>2.848070e+05</td>\n",
              "      <td>2.848070e+05</td>\n",
              "      <td>2.848070e+05</td>\n",
              "      <td>2.848070e+05</td>\n",
              "      <td>2.848070e+05</td>\n",
              "      <td>2.848070e+05</td>\n",
              "      <td>2.848070e+05</td>\n",
              "      <td>2.848070e+05</td>\n",
              "    </tr>\n",
              "    <tr>\n",
              "      <th>mean</th>\n",
              "      <td>-1.149614e-16</td>\n",
              "      <td>-2.195443e-17</td>\n",
              "      <td>-1.516852e-17</td>\n",
              "      <td>-3.832046e-17</td>\n",
              "      <td>1.197515e-17</td>\n",
              "      <td>3.592544e-17</td>\n",
              "      <td>5.987573e-18</td>\n",
              "      <td>5.189230e-18</td>\n",
              "      <td>-8.981359e-19</td>\n",
              "      <td>5.488608e-18</td>\n",
              "      <td>...</td>\n",
              "      <td>-3.991715e-18</td>\n",
              "      <td>-3.193372e-18</td>\n",
              "      <td>6.386744e-18</td>\n",
              "      <td>-4.390887e-18</td>\n",
              "      <td>8.981359e-18</td>\n",
              "      <td>-3.512709e-17</td>\n",
              "      <td>1.319137e-17</td>\n",
              "      <td>2.220391e-18</td>\n",
              "      <td>-7.434569e-18</td>\n",
              "      <td>2.235360e-17</td>\n",
              "    </tr>\n",
              "    <tr>\n",
              "      <th>std</th>\n",
              "      <td>1.000000e+00</td>\n",
              "      <td>1.000000e+00</td>\n",
              "      <td>1.000000e+00</td>\n",
              "      <td>1.000000e+00</td>\n",
              "      <td>1.000000e+00</td>\n",
              "      <td>1.000000e+00</td>\n",
              "      <td>1.000000e+00</td>\n",
              "      <td>1.000000e+00</td>\n",
              "      <td>1.000000e+00</td>\n",
              "      <td>1.000000e+00</td>\n",
              "      <td>...</td>\n",
              "      <td>1.000000e+00</td>\n",
              "      <td>1.000000e+00</td>\n",
              "      <td>1.000000e+00</td>\n",
              "      <td>1.000000e+00</td>\n",
              "      <td>1.000000e+00</td>\n",
              "      <td>1.000000e+00</td>\n",
              "      <td>1.000000e+00</td>\n",
              "      <td>1.000000e+00</td>\n",
              "      <td>1.000000e+00</td>\n",
              "      <td>1.000000e+00</td>\n",
              "    </tr>\n",
              "    <tr>\n",
              "      <th>min</th>\n",
              "      <td>-1.996580e+00</td>\n",
              "      <td>-2.879850e+01</td>\n",
              "      <td>-4.403521e+01</td>\n",
              "      <td>-3.187168e+01</td>\n",
              "      <td>-4.013912e+00</td>\n",
              "      <td>-8.240795e+01</td>\n",
              "      <td>-1.963602e+01</td>\n",
              "      <td>-3.520933e+01</td>\n",
              "      <td>-6.130242e+01</td>\n",
              "      <td>-1.222799e+01</td>\n",
              "      <td>...</td>\n",
              "      <td>-7.069134e+01</td>\n",
              "      <td>-4.741898e+01</td>\n",
              "      <td>-1.506562e+01</td>\n",
              "      <td>-7.175434e+01</td>\n",
              "      <td>-4.683630e+00</td>\n",
              "      <td>-1.975030e+01</td>\n",
              "      <td>-5.401088e+00</td>\n",
              "      <td>-5.590650e+01</td>\n",
              "      <td>-4.674604e+01</td>\n",
              "      <td>-3.532288e-01</td>\n",
              "    </tr>\n",
              "    <tr>\n",
              "      <th>25%</th>\n",
              "      <td>-8.552105e-01</td>\n",
              "      <td>-4.698909e-01</td>\n",
              "      <td>-3.624701e-01</td>\n",
              "      <td>-5.872131e-01</td>\n",
              "      <td>-5.993777e-01</td>\n",
              "      <td>-5.010677e-01</td>\n",
              "      <td>-5.766811e-01</td>\n",
              "      <td>-4.478852e-01</td>\n",
              "      <td>-1.746801e-01</td>\n",
              "      <td>-5.853621e-01</td>\n",
              "      <td>...</td>\n",
              "      <td>-2.746329e-01</td>\n",
              "      <td>-3.109428e-01</td>\n",
              "      <td>-7.473463e-01</td>\n",
              "      <td>-2.591780e-01</td>\n",
              "      <td>-5.854666e-01</td>\n",
              "      <td>-6.083990e-01</td>\n",
              "      <td>-6.780705e-01</td>\n",
              "      <td>-1.755050e-01</td>\n",
              "      <td>-1.604437e-01</td>\n",
              "      <td>-3.308395e-01</td>\n",
              "    </tr>\n",
              "    <tr>\n",
              "      <th>50%</th>\n",
              "      <td>-2.131450e-01</td>\n",
              "      <td>9.245335e-03</td>\n",
              "      <td>3.965677e-02</td>\n",
              "      <td>1.186122e-01</td>\n",
              "      <td>-1.401721e-02</td>\n",
              "      <td>-3.936675e-02</td>\n",
              "      <td>-2.058043e-01</td>\n",
              "      <td>3.241718e-02</td>\n",
              "      <td>1.871979e-02</td>\n",
              "      <td>-4.681161e-02</td>\n",
              "      <td>...</td>\n",
              "      <td>-8.104691e-02</td>\n",
              "      <td>-4.009422e-02</td>\n",
              "      <td>9.345360e-03</td>\n",
              "      <td>-1.792417e-02</td>\n",
              "      <td>6.765666e-02</td>\n",
              "      <td>3.183234e-02</td>\n",
              "      <td>-1.081215e-01</td>\n",
              "      <td>3.325168e-03</td>\n",
              "      <td>3.406362e-02</td>\n",
              "      <td>-2.652710e-01</td>\n",
              "    </tr>\n",
              "    <tr>\n",
              "      <th>75%</th>\n",
              "      <td>9.372158e-01</td>\n",
              "      <td>6.716927e-01</td>\n",
              "      <td>4.867194e-01</td>\n",
              "      <td>6.774557e-01</td>\n",
              "      <td>5.250073e-01</td>\n",
              "      <td>4.433457e-01</td>\n",
              "      <td>2.991620e-01</td>\n",
              "      <td>4.611099e-01</td>\n",
              "      <td>2.740780e-01</td>\n",
              "      <td>5.435296e-01</td>\n",
              "      <td>...</td>\n",
              "      <td>1.725730e-01</td>\n",
              "      <td>2.537387e-01</td>\n",
              "      <td>7.283347e-01</td>\n",
              "      <td>2.364315e-01</td>\n",
              "      <td>7.257141e-01</td>\n",
              "      <td>6.727994e-01</td>\n",
              "      <td>4.996654e-01</td>\n",
              "      <td>2.255644e-01</td>\n",
              "      <td>2.371521e-01</td>\n",
              "      <td>-4.471699e-02</td>\n",
              "    </tr>\n",
              "    <tr>\n",
              "      <th>max</th>\n",
              "      <td>1.642055e+00</td>\n",
              "      <td>1.253349e+00</td>\n",
              "      <td>1.335773e+01</td>\n",
              "      <td>6.187982e+00</td>\n",
              "      <td>1.191872e+01</td>\n",
              "      <td>2.521409e+01</td>\n",
              "      <td>5.502005e+01</td>\n",
              "      <td>9.747807e+01</td>\n",
              "      <td>1.675150e+01</td>\n",
              "      <td>1.419492e+01</td>\n",
              "      <td>...</td>\n",
              "      <td>5.113455e+01</td>\n",
              "      <td>3.703465e+01</td>\n",
              "      <td>1.447302e+01</td>\n",
              "      <td>3.607661e+01</td>\n",
              "      <td>7.569671e+00</td>\n",
              "      <td>1.442529e+01</td>\n",
              "      <td>7.293962e+00</td>\n",
              "      <td>7.831926e+01</td>\n",
              "      <td>1.025432e+02</td>\n",
              "      <td>1.023621e+02</td>\n",
              "    </tr>\n",
              "  </tbody>\n",
              "</table>\n",
              "<p>8 rows × 30 columns</p>\n",
              "</div>\n",
              "    <div class=\"colab-df-buttons\">\n",
              "\n",
              "  <div class=\"colab-df-container\">\n",
              "    <button class=\"colab-df-convert\" onclick=\"convertToInteractive('df-55c72a8e-ed69-48b3-9989-055e4fdeaaec')\"\n",
              "            title=\"Convert this dataframe to an interactive table.\"\n",
              "            style=\"display:none;\">\n",
              "\n",
              "  <svg xmlns=\"http://www.w3.org/2000/svg\" height=\"24px\" viewBox=\"0 -960 960 960\">\n",
              "    <path d=\"M120-120v-720h720v720H120Zm60-500h600v-160H180v160Zm220 220h160v-160H400v160Zm0 220h160v-160H400v160ZM180-400h160v-160H180v160Zm440 0h160v-160H620v160ZM180-180h160v-160H180v160Zm440 0h160v-160H620v160Z\"/>\n",
              "  </svg>\n",
              "    </button>\n",
              "\n",
              "  <style>\n",
              "    .colab-df-container {\n",
              "      display:flex;\n",
              "      gap: 12px;\n",
              "    }\n",
              "\n",
              "    .colab-df-convert {\n",
              "      background-color: #E8F0FE;\n",
              "      border: none;\n",
              "      border-radius: 50%;\n",
              "      cursor: pointer;\n",
              "      display: none;\n",
              "      fill: #1967D2;\n",
              "      height: 32px;\n",
              "      padding: 0 0 0 0;\n",
              "      width: 32px;\n",
              "    }\n",
              "\n",
              "    .colab-df-convert:hover {\n",
              "      background-color: #E2EBFA;\n",
              "      box-shadow: 0px 1px 2px rgba(60, 64, 67, 0.3), 0px 1px 3px 1px rgba(60, 64, 67, 0.15);\n",
              "      fill: #174EA6;\n",
              "    }\n",
              "\n",
              "    .colab-df-buttons div {\n",
              "      margin-bottom: 4px;\n",
              "    }\n",
              "\n",
              "    [theme=dark] .colab-df-convert {\n",
              "      background-color: #3B4455;\n",
              "      fill: #D2E3FC;\n",
              "    }\n",
              "\n",
              "    [theme=dark] .colab-df-convert:hover {\n",
              "      background-color: #434B5C;\n",
              "      box-shadow: 0px 1px 3px 1px rgba(0, 0, 0, 0.15);\n",
              "      filter: drop-shadow(0px 1px 2px rgba(0, 0, 0, 0.3));\n",
              "      fill: #FFFFFF;\n",
              "    }\n",
              "  </style>\n",
              "\n",
              "    <script>\n",
              "      const buttonEl =\n",
              "        document.querySelector('#df-55c72a8e-ed69-48b3-9989-055e4fdeaaec button.colab-df-convert');\n",
              "      buttonEl.style.display =\n",
              "        google.colab.kernel.accessAllowed ? 'block' : 'none';\n",
              "\n",
              "      async function convertToInteractive(key) {\n",
              "        const element = document.querySelector('#df-55c72a8e-ed69-48b3-9989-055e4fdeaaec');\n",
              "        const dataTable =\n",
              "          await google.colab.kernel.invokeFunction('convertToInteractive',\n",
              "                                                    [key], {});\n",
              "        if (!dataTable) return;\n",
              "\n",
              "        const docLinkHtml = 'Like what you see? Visit the ' +\n",
              "          '<a target=\"_blank\" href=https://colab.research.google.com/notebooks/data_table.ipynb>data table notebook</a>'\n",
              "          + ' to learn more about interactive tables.';\n",
              "        element.innerHTML = '';\n",
              "        dataTable['output_type'] = 'display_data';\n",
              "        await google.colab.output.renderOutput(dataTable, element);\n",
              "        const docLink = document.createElement('div');\n",
              "        docLink.innerHTML = docLinkHtml;\n",
              "        element.appendChild(docLink);\n",
              "      }\n",
              "    </script>\n",
              "  </div>\n",
              "\n",
              "\n",
              "<div id=\"df-14240dc0-42cf-42fd-b364-fa2395b59e61\">\n",
              "  <button class=\"colab-df-quickchart\" onclick=\"quickchart('df-14240dc0-42cf-42fd-b364-fa2395b59e61')\"\n",
              "            title=\"Suggest charts\"\n",
              "            style=\"display:none;\">\n",
              "\n",
              "<svg xmlns=\"http://www.w3.org/2000/svg\" height=\"24px\"viewBox=\"0 0 24 24\"\n",
              "     width=\"24px\">\n",
              "    <g>\n",
              "        <path d=\"M19 3H5c-1.1 0-2 .9-2 2v14c0 1.1.9 2 2 2h14c1.1 0 2-.9 2-2V5c0-1.1-.9-2-2-2zM9 17H7v-7h2v7zm4 0h-2V7h2v10zm4 0h-2v-4h2v4z\"/>\n",
              "    </g>\n",
              "</svg>\n",
              "  </button>\n",
              "\n",
              "<style>\n",
              "  .colab-df-quickchart {\n",
              "      --bg-color: #E8F0FE;\n",
              "      --fill-color: #1967D2;\n",
              "      --hover-bg-color: #E2EBFA;\n",
              "      --hover-fill-color: #174EA6;\n",
              "      --disabled-fill-color: #AAA;\n",
              "      --disabled-bg-color: #DDD;\n",
              "  }\n",
              "\n",
              "  [theme=dark] .colab-df-quickchart {\n",
              "      --bg-color: #3B4455;\n",
              "      --fill-color: #D2E3FC;\n",
              "      --hover-bg-color: #434B5C;\n",
              "      --hover-fill-color: #FFFFFF;\n",
              "      --disabled-bg-color: #3B4455;\n",
              "      --disabled-fill-color: #666;\n",
              "  }\n",
              "\n",
              "  .colab-df-quickchart {\n",
              "    background-color: var(--bg-color);\n",
              "    border: none;\n",
              "    border-radius: 50%;\n",
              "    cursor: pointer;\n",
              "    display: none;\n",
              "    fill: var(--fill-color);\n",
              "    height: 32px;\n",
              "    padding: 0;\n",
              "    width: 32px;\n",
              "  }\n",
              "\n",
              "  .colab-df-quickchart:hover {\n",
              "    background-color: var(--hover-bg-color);\n",
              "    box-shadow: 0 1px 2px rgba(60, 64, 67, 0.3), 0 1px 3px 1px rgba(60, 64, 67, 0.15);\n",
              "    fill: var(--button-hover-fill-color);\n",
              "  }\n",
              "\n",
              "  .colab-df-quickchart-complete:disabled,\n",
              "  .colab-df-quickchart-complete:disabled:hover {\n",
              "    background-color: var(--disabled-bg-color);\n",
              "    fill: var(--disabled-fill-color);\n",
              "    box-shadow: none;\n",
              "  }\n",
              "\n",
              "  .colab-df-spinner {\n",
              "    border: 2px solid var(--fill-color);\n",
              "    border-color: transparent;\n",
              "    border-bottom-color: var(--fill-color);\n",
              "    animation:\n",
              "      spin 1s steps(1) infinite;\n",
              "  }\n",
              "\n",
              "  @keyframes spin {\n",
              "    0% {\n",
              "      border-color: transparent;\n",
              "      border-bottom-color: var(--fill-color);\n",
              "      border-left-color: var(--fill-color);\n",
              "    }\n",
              "    20% {\n",
              "      border-color: transparent;\n",
              "      border-left-color: var(--fill-color);\n",
              "      border-top-color: var(--fill-color);\n",
              "    }\n",
              "    30% {\n",
              "      border-color: transparent;\n",
              "      border-left-color: var(--fill-color);\n",
              "      border-top-color: var(--fill-color);\n",
              "      border-right-color: var(--fill-color);\n",
              "    }\n",
              "    40% {\n",
              "      border-color: transparent;\n",
              "      border-right-color: var(--fill-color);\n",
              "      border-top-color: var(--fill-color);\n",
              "    }\n",
              "    60% {\n",
              "      border-color: transparent;\n",
              "      border-right-color: var(--fill-color);\n",
              "    }\n",
              "    80% {\n",
              "      border-color: transparent;\n",
              "      border-right-color: var(--fill-color);\n",
              "      border-bottom-color: var(--fill-color);\n",
              "    }\n",
              "    90% {\n",
              "      border-color: transparent;\n",
              "      border-bottom-color: var(--fill-color);\n",
              "    }\n",
              "  }\n",
              "</style>\n",
              "\n",
              "  <script>\n",
              "    async function quickchart(key) {\n",
              "      const quickchartButtonEl =\n",
              "        document.querySelector('#' + key + ' button');\n",
              "      quickchartButtonEl.disabled = true;  // To prevent multiple clicks.\n",
              "      quickchartButtonEl.classList.add('colab-df-spinner');\n",
              "      try {\n",
              "        const charts = await google.colab.kernel.invokeFunction(\n",
              "            'suggestCharts', [key], {});\n",
              "      } catch (error) {\n",
              "        console.error('Error during call to suggestCharts:', error);\n",
              "      }\n",
              "      quickchartButtonEl.classList.remove('colab-df-spinner');\n",
              "      quickchartButtonEl.classList.add('colab-df-quickchart-complete');\n",
              "    }\n",
              "    (() => {\n",
              "      let quickchartButtonEl =\n",
              "        document.querySelector('#df-14240dc0-42cf-42fd-b364-fa2395b59e61 button');\n",
              "      quickchartButtonEl.style.display =\n",
              "        google.colab.kernel.accessAllowed ? 'block' : 'none';\n",
              "    })();\n",
              "  </script>\n",
              "</div>\n",
              "\n",
              "    </div>\n",
              "  </div>\n"
            ],
            "application/vnd.google.colaboratory.intrinsic+json": {
              "type": "dataframe"
            }
          },
          "metadata": {},
          "execution_count": 214
        }
      ]
    },
    {
      "cell_type": "code",
      "source": [
        "np.random.seed(0) # for reproducibility\n",
        "\n",
        "\n",
        "df_normalized_np = df_normalized.to_numpy()\n",
        "df_normalized_np = np.concatenate((df_normalized_np, y_true.to_numpy().reshape(-1, 1)), axis=1)\n",
        "print(df_normalized_np)\n",
        "np.random.shuffle(df_normalized_np)\n",
        "\n",
        "\n",
        "fraction_test = 0.2\n",
        "\n",
        "num_train = int(df_normalized_np.shape[0] * (1-fraction_test))\n",
        "print(\"The training set is composed of\", num_train)\n",
        "print(\"The test set is composed of\", df_normalized_np.shape[0] - num_train)\n",
        "\n",
        "x_train = df_normalized_np[:num_train, :-1]\n",
        "\n",
        "y_train = df_normalized_np[:num_train, -1:]\n",
        "\n",
        "x_test = df_normalized_np[num_train:, :-1]\n",
        "\n",
        "y_test = df_normalized_np[num_train:, -1:]\n",
        "\n",
        "print(\"Train x\", x_train.shape)\n",
        "print(\"Train y\", y_train.shape)\n",
        "print(\"Test x\", x_test.shape)\n",
        "print(\"Test y\", y_test.shape)"
      ],
      "metadata": {
        "colab": {
          "base_uri": "https://localhost:8080/"
        },
        "id": "F-8PFrUIabss",
        "outputId": "df3b266f-30fa-4c05-c604-5e6ad372658e"
      },
      "execution_count": 215,
      "outputs": [
        {
          "output_type": "stream",
          "name": "stdout",
          "text": [
            "[[-1.99657952 -0.6942411  -0.04407485 ... -0.06378104  0.24496383\n",
            "   0.        ]\n",
            " [-1.99657952  0.60849526  0.16117564 ...  0.04460744 -0.34247394\n",
            "   0.        ]\n",
            " [-1.99655846 -0.69349925 -0.8115764  ... -0.18102051  1.16068389\n",
            "   0.        ]\n",
            " ...\n",
            " [ 1.64197062  0.98002202 -0.1824334  ... -0.08046706 -0.08183916\n",
            "   0.        ]\n",
            " [ 1.64197062 -0.12275518  0.32124978 ...  0.31668622 -0.31324798\n",
            "   0.        ]\n",
            " [ 1.64205485 -0.27233046 -0.11489878 ...  0.04134991  0.51435441\n",
            "   0.        ]]\n",
            "The training set is composed of 227845\n",
            "The test set is composed of 56962\n",
            "Train x (227845, 30)\n",
            "Train y (227845, 1)\n",
            "Test x (56962, 30)\n",
            "Test y (56962, 1)\n"
          ]
        }
      ]
    },
    {
      "cell_type": "code",
      "source": [
        "np.unique(y_test, return_counts=True)"
      ],
      "metadata": {
        "colab": {
          "base_uri": "https://localhost:8080/"
        },
        "id": "v9PhFjK_al4Q",
        "outputId": "7ba99d79-e6a4-471b-d46f-7ab9625a720e"
      },
      "execution_count": 216,
      "outputs": [
        {
          "output_type": "execute_result",
          "data": {
            "text/plain": [
              "(array([0., 1.]), array([56861,   101]))"
            ]
          },
          "metadata": {},
          "execution_count": 216
        }
      ]
    },
    {
      "cell_type": "code",
      "source": [
        "def compute_metrics(y, y_pred):\n",
        "  TP = np.sum(np.logical_and(y_pred == 1., y == 1.))\n",
        "  TN = np.sum(np.logical_and(y_pred == 0., y == 0.))\n",
        "  FP = np.sum(np.logical_and(y_pred == 1., y == 0.))\n",
        "  FN = np.sum(np.logical_and(y_pred == 0., y == 1.))\n",
        "\n",
        "  accuracy = ((TN + TP) / len(y)) * 100\n",
        "  recall = (TP / (FN + TP)) * 100\n",
        "  precision = (TP / (FP + TP)) * 100\n",
        "  F1 = (2 * precision * recall) / (precision + recall)\n",
        "\n",
        "  print(f\"Accuracy: {accuracy:.2f}%\")\n",
        "  print(f\"Recall: {recall:.2f}%\")\n",
        "  print(f\"Precision: {precision:.2f}%\")\n",
        "  print(f\"F1: {F1:.2f}%\")\n",
        "  print(f\"TP: {TP}\")\n",
        "  print(f\"TN: {TN}\")\n",
        "  print(f\"FP: {FP}\")\n",
        "  print(f\"FN: {FN}\")\n",
        "\n",
        "\n",
        "\n",
        "def metrics_from_confusion_matrix(matrix):\n",
        "  TP = matrix[1, 1]\n",
        "  TN = matrix[0, 0]\n",
        "  FP = matrix[0, 1]\n",
        "  FN = matrix[1, 0]\n",
        "\n",
        "  accuracy = ((TN + TP) / (TP+TN+FP+FN)) * 100\n",
        "  recall = (TP / (FN + TP)) * 100\n",
        "  precision = (TP / (FP + TP)) * 100\n",
        "  F1 = (2 * precision * recall) / (precision + recall)\n",
        "\n",
        "  print(f\"Accuracy: {accuracy:.2f}%\")\n",
        "  print(f\"Recall: {recall:.2f}%\")\n",
        "  print(f\"Precision: {precision:.2f}%\")\n",
        "  print(f\"F1: {F1:.2f}%\")\n"
      ],
      "metadata": {
        "id": "VETnFsnTapkb"
      },
      "execution_count": 217,
      "outputs": []
    },
    {
      "cell_type": "code",
      "source": [
        "plt.figure(figsize=(10, 6))\n",
        "sns.scatterplot(x=df_normalized[\"Time\"], y=df_normalized[\"Amount\"], hue=y_true, alpha=0.6)\n",
        "plt.xlabel(\"Time\")\n",
        "plt.ylabel(\"Transaction Amount\")\n",
        "plt.title(\"Transaction Amount Distribution Over Time \")\n",
        "plt.legend(title=\"Fraudulent Transactions over time\")\n",
        "plt.show()"
      ],
      "metadata": {
        "colab": {
          "base_uri": "https://localhost:8080/",
          "height": 422
        },
        "id": "sfa7lTsHcqyB",
        "outputId": "f75b27a8-0175-4989-bd42-67e92342dc4f"
      },
      "execution_count": 218,
      "outputs": [
        {
          "output_type": "display_data",
          "data": {
            "text/plain": [
              "<Figure size 1000x600 with 1 Axes>"
            ],
            "image/png": "[encoded data removed]"
          },
          "metadata": {}
        }
      ]
    },
    {
      "cell_type": "markdown",
      "source": [
        "## ANN"
      ],
      "metadata": {
        "id": "-pc5yI9le9b8"
      }
    },
    {
      "cell_type": "code",
      "source": [
        "def initialize_params_ANN(layers_size):\n",
        "  np.random.seed(0)\n",
        "  params = list()\n",
        "  for i in range(len(layers_size)-1):\n",
        "    std = np.sqrt(2/(layers_size[i+1]+ layers_size[i]))\n",
        "    w = np.random.randn(layers_size[i+1], layers_size[i]) * std\n",
        "    b = np.zeros((layers_size[i+1], 1))\n",
        "    params.append(w)\n",
        "    params.append(b)\n",
        "  return params"
      ],
      "metadata": {
        "id": "7MwLyAQOdXqM"
      },
      "execution_count": 219,
      "outputs": []
    },
    {
      "cell_type": "code",
      "source": [
        "params = initialize_params_ANN([30, 10, 5, 1])\n",
        "\n",
        "act_fn = jnp.tanh\n",
        "\n",
        "def ANN(x, params):\n",
        "\n",
        "  layer = x.T\n",
        "  num_layers = len(params) // 2 + 1\n",
        "  weights = params[::2]\n",
        "  biases = params[1::2]\n",
        "  for i in range(num_layers-1):\n",
        "    layer = jnp.dot(weights[i], layer) + biases[i]\n",
        "    if i < num_layers - 2: # on the last layer the activation function forces the output to be in the range 0-1\n",
        "      layer = act_fn(layer)\n",
        "    else:\n",
        "      layer = 1 / (1 + jnp.exp(-layer))\n",
        "  return layer.T\n"
      ],
      "metadata": {
        "id": "ILzPMXmKffUM"
      },
      "execution_count": 220,
      "outputs": []
    },
    {
      "cell_type": "code",
      "source": [
        "def loss_mse_ANN(x, y, params):\n",
        "  return jnp.mean((y - ANN(x, params))**2)\n",
        "\n",
        "loss_jit = jax.jit(loss_mse_ANN)\n",
        "grad_jit = jax.jit(jax.grad(loss_jit, argnums= 2))"
      ],
      "metadata": {
        "id": "2sdVJ1tDfg8F"
      },
      "execution_count": 221,
      "outputs": []
    },
    {
      "cell_type": "code",
      "source": [
        "def loss_X_ent_ANN(x, y, params):\n",
        "    y_pred = ANN(x, params)\n",
        "    eps = 1e-6\n",
        "    return -jnp.mean(y * jnp.log(y_pred + eps) + (1-y) * jnp.log(1 - y_pred + eps))"
      ],
      "metadata": {
        "id": "V2ocp16IfiOY"
      },
      "execution_count": 222,
      "outputs": []
    },
    {
      "cell_type": "markdown",
      "source": [
        "### Vanilla Gradient Descent Training"
      ],
      "metadata": {
        "id": "J3YsBbR9tJkb"
      }
    },
    {
      "cell_type": "markdown",
      "source": [
        "It works well but it is slow (indeed it takes more or less 2 minutes to run it)"
      ],
      "metadata": {
        "id": "sYTYItqWuCHY"
      }
    },
    {
      "cell_type": "code",
      "source": [
        "# Hyperparameters\n",
        "layers_size = [30, 20, 10, 1]\n",
        "num_epochs = 500\n",
        "learning_rate = 0.8\n",
        "\n",
        "params = initialize_params_ANN(layers_size)\n",
        "grad = jax.grad(loss_X_ent_ANN, argnums=2)\n",
        "\n",
        "# Just in time compilation\n",
        "loss_jit = jax.jit(loss_X_ent_ANN)\n",
        "grad_jit = jax.jit(grad)\n",
        "\n",
        "n_samples = x_train.shape[0]\n",
        "\n",
        "history_loss_train = []\n",
        "history_loss_test = []\n",
        "\n",
        "\n",
        "history_loss_train.append(loss_X_ent_ANN(x_train, y_train, params))\n",
        "history_loss_test.append(loss_X_ent_ANN(x_test, y_test, params))\n",
        "\n",
        "for epoch in tqdm(range(num_epochs)):\n",
        "  grad_vals = grad_jit(x_train, y_train, params)\n",
        "  for i in range(len(params)):\n",
        "    params[i] = params[i] - learning_rate * grad_vals[i]\n",
        "\n",
        "  history_loss_train.append(loss_X_ent_ANN(x_train, y_train, params))\n",
        "  history_loss_test.append(loss_X_ent_ANN(x_test, y_test, params))\n",
        "\n",
        "plt.loglog(history_loss_train, label=\"train\")\n",
        "plt.loglog(history_loss_test, label=\"test\")\n",
        "plt.legend()\n"
      ],
      "metadata": {
        "colab": {
          "base_uri": "https://localhost:8080/",
          "height": 484,
          "referenced_widgets": [
            "fb5a6ab0ce76447d8b9116b70c203ca2",
            "a5d95f634fd14cd4bee52c02c80d5afd",
            "3d5aba456f8846a3a05b0a2e7f01528b",
            "c7c9bc453d264c38929b5165a2caf4d1",
            "a726d9eb50884ecba05b10175bd940c4",
            "759fd4e031ef41f6a4bd47be7dcd931e",
            "22336ad4b5d949c1b632bc2a767af857",
            "5f1d2ed45da94c6dba2b21448cec8ede",
            "3fe227ee6787454c9d7a3585e9a77cdb",
            "881184d1ffb144fb8dcde58586766469",
            "509864ffa2e44ff6a278865e577ac2c8"
          ]
        },
        "id": "0F234z4dtJDl",
        "outputId": "b629c063-2498-4aba-e251-80b264dfd8b6"
      },
      "execution_count": 223,
      "outputs": [
        {
          "output_type": "display_data",
          "data": {
            "text/plain": [
              "  0%|          | 0/500 [00:00<?, ?it/s]"
            ],
            "application/vnd.jupyter.widget-view+json": {
              "version_major": 2,
              "version_minor": 0,
              "model_id": "fb5a6ab0ce76447d8b9116b70c203ca2"
            }
          },
          "metadata": {}
        },
        {
          "output_type": "execute_result",
          "data": {
            "text/plain": [
              "<matplotlib.legend.Legend at 0x791b4009c4d0>"
            ]
          },
          "metadata": {},
          "execution_count": 223
        },
        {
          "output_type": "display_data",
          "data": {
            "text/plain": [
              "<Figure size 640x480 with 1 Axes>"
            ],
            "image/png": "[encoded data removed]"
          },
          "metadata": {}
        }
      ]
    },
    {
      "cell_type": "code",
      "source": [
        "ANN_pred_test = ANN(x_test, params)\n",
        "y_pred_test = np.where(ANN_pred_test >= 0.5, 1., 0.)\n",
        "compute_metrics(y_test, y_pred_test)\n"
      ],
      "metadata": {
        "colab": {
          "base_uri": "https://localhost:8080/"
        },
        "id": "AYjRfTFivtwt",
        "outputId": "9df325fa-1267-49d0-accc-5a5c8211176d"
      },
      "execution_count": 224,
      "outputs": [
        {
          "output_type": "stream",
          "name": "stdout",
          "text": [
            "Accuracy: 99.94%\n",
            "Recall: 76.24%\n",
            "Precision: 88.51%\n",
            "F1: 81.91%\n",
            "TP: 77\n",
            "TN: 56851\n",
            "FP: 10\n",
            "FN: 24\n"
          ]
        }
      ]
    },
    {
      "cell_type": "code",
      "source": [
        "ConfusionMatrixDisplay(confusion_matrix(y_test, y_pred_test), display_labels=[\"Non Fraud\", \"Fraud\"]).plot()"
      ],
      "metadata": {
        "colab": {
          "base_uri": "https://localhost:8080/",
          "height": 485
        },
        "id": "Xp99XvnonhDo",
        "outputId": "b5fc9a9c-8fab-4cbd-e207-5f0a43e410b3"
      },
      "execution_count": 225,
      "outputs": [
        {
          "output_type": "execute_result",
          "data": {
            "text/plain": [
              "<sklearn.metrics._plot.confusion_matrix.ConfusionMatrixDisplay at 0x791b2ea0afd0>"
            ]
          },
          "metadata": {},
          "execution_count": 225
        },
        {
          "output_type": "display_data",
          "data": {
            "text/plain": [
              "<Figure size 640x480 with 2 Axes>"
            ],
            "image/png": "[encoded data removed]"
          },
          "metadata": {}
        }
      ]
    },
    {
      "cell_type": "markdown",
      "source": [
        "### RMSProp Training\n",
        "\n",
        "It works well and it's faster (it only takes about a minute to run)"
      ],
      "metadata": {
        "id": "E8oVG08otEwl"
      }
    },
    {
      "cell_type": "code",
      "source": [
        "# Hyperparameters\n",
        "layers_size = [30, 20, 10, 1]\n",
        "num_epochs = 500\n",
        "batch_size = 1000\n",
        "learning_rate = 2e-3\n",
        "decay_rate = 0.9\n",
        "delta = 1e-6\n",
        "\n",
        "# Initialize params and jit objects\n",
        "params = initialize_params_ANN(layers_size)\n",
        "grad = jax.grad(loss_X_ent_ANN, argnums=2)\n",
        "grad_jit = jax.jit(grad)\n",
        "cross_entropy_jit = jax.jit(loss_X_ent_ANN)\n",
        "\n",
        "history_train_Xen = list()\n",
        "history_test_Xen = list()\n",
        "\n",
        "n_train = x_train.shape[0]\n",
        "cumulated_sqr_grad = [0.0 for _ in range(len(params))]\n",
        "\n",
        "for epoch in tqdm(range(num_epochs)):\n",
        "    idxs = np.random.choice(n_train, batch_size, replace=False)\n",
        "    grad_val = grad_jit(x_train[idxs, :], y_train[idxs, :], params)\n",
        "\n",
        "    for i in range(len(params)):\n",
        "        # Cumulated squared gradients\n",
        "        cumulated_sqr_grad[i] = (decay_rate * cumulated_sqr_grad[i] +\n",
        "                                 (1 - decay_rate) * grad_val[i] * grad_val[i])\n",
        "\n",
        "        # Update parameters using adaptive learning rate\n",
        "        params[i] -= grad_val[i] * learning_rate * (1 / (delta + jnp.sqrt(cumulated_sqr_grad[i])))\n",
        "\n",
        "    # Compute loss once per epoch\n",
        "    history_train_Xen.append(cross_entropy_jit(x_train, y_train, params))\n",
        "    history_test_Xen.append(cross_entropy_jit(x_test, y_test, params))\n",
        "\n",
        "# Plot loss curves\n",
        "plt.figure(figsize=(10, 6))\n",
        "plt.loglog(history_train_Xen, label=\"train\")\n",
        "plt.loglog(history_test_Xen, label=\"test\")\n",
        "plt.legend()\n",
        "plt.xlabel(\"Epochs\")\n",
        "plt.ylabel(\"Loss\")\n",
        "plt.title(\"Training vs Test Loss\")\n",
        "plt.show()\n",
        "\n",
        "print(\"Final Train Loss:\", history_train_Xen[-1])\n",
        "print(\"Final Test Loss:\", history_test_Xen[-1])"
      ],
      "metadata": {
        "colab": {
          "base_uri": "https://localhost:8080/",
          "height": 490,
          "referenced_widgets": [
            "fb4c51c9ae034476855bab72f78b9d0b",
            "58fca1097f904c99837834bf32e8916c",
            "1dc6bdc5f3e94f0c8ef71ba392386c76",
            "7aca59d6822a4dd7a2d2d0bfbb7fb2d0",
            "1f477581f6e84a75a73f8c8538003147",
            "e360322b0dcc4af3801312f4dba27183",
            "1f99935009c148ed990fe7879ec7963d",
            "bcf74004208443d998954f0c54225d8b",
            "7c1972bb359849a2a8eac5cec9d5daf3",
            "750687d59403455caa4bf4d8366e85ac",
            "cff70bcc992346bea6ad90dc65d23d1d"
          ]
        },
        "id": "0sdjo8NUe9B7",
        "outputId": "cb9f22d1-9ffa-4346-8d0b-2b5892360b5c"
      },
      "execution_count": 226,
      "outputs": [
        {
          "output_type": "display_data",
          "data": {
            "text/plain": [
              "  0%|          | 0/500 [00:00<?, ?it/s]"
            ],
            "application/vnd.jupyter.widget-view+json": {
              "version_major": 2,
              "version_minor": 0,
              "model_id": "fb4c51c9ae034476855bab72f78b9d0b"
            }
          },
          "metadata": {}
        },
        {
          "output_type": "display_data",
          "data": {
            "text/plain": [
              "<Figure size 1000x600 with 1 Axes>"
            ],
            "image/png": "[encoded data removed]"
          },
          "metadata": {}
        },
        {
          "output_type": "stream",
          "name": "stdout",
          "text": [
            "Final Train Loss: 0.0028517472\n",
            "Final Test Loss: 0.0027946574\n"
          ]
        }
      ]
    },
    {
      "cell_type": "code",
      "source": [
        "ANN_pred_test = ANN(x_test, params)\n",
        "y_pred_test = np.where(ANN_pred_test >= 0.5, 1., 0.)\n",
        "compute_metrics(y_test, y_pred_test)"
      ],
      "metadata": {
        "colab": {
          "base_uri": "https://localhost:8080/"
        },
        "id": "jbObdtIrfB5X",
        "outputId": "d2a20f0b-7ac0-4e04-8bec-a3c5f9094fc8"
      },
      "execution_count": 227,
      "outputs": [
        {
          "output_type": "stream",
          "name": "stdout",
          "text": [
            "Accuracy: 99.94%\n",
            "Recall: 72.28%\n",
            "Precision: 90.12%\n",
            "F1: 80.22%\n",
            "TP: 73\n",
            "TN: 56853\n",
            "FP: 8\n",
            "FN: 28\n"
          ]
        }
      ]
    },
    {
      "cell_type": "code",
      "source": [
        "ConfusionMatrixDisplay(confusion_matrix(y_test, y_pred_test), display_labels=[\"Non Fraud\", \"Fraud\"]).plot()"
      ],
      "metadata": {
        "colab": {
          "base_uri": "https://localhost:8080/",
          "height": 485
        },
        "id": "xD0SHWquYPP_",
        "outputId": "853033b8-647c-4a43-af6c-065bfbcea915"
      },
      "execution_count": 228,
      "outputs": [
        {
          "output_type": "execute_result",
          "data": {
            "text/plain": [
              "<sklearn.metrics._plot.confusion_matrix.ConfusionMatrixDisplay at 0x791b5b527d90>"
            ]
          },
          "metadata": {},
          "execution_count": 228
        },
        {
          "output_type": "display_data",
          "data": {
            "text/plain": [
              "<Figure size 640x480 with 2 Axes>"
            ],
            "image/png": "[encoded data removed]"
          },
          "metadata": {}
        }
      ]
    },
    {
      "cell_type": "markdown",
      "source": [
        "## Autoencoder"
      ],
      "metadata": {
        "id": "j4-rw-BLgATp"
      }
    },
    {
      "cell_type": "markdown",
      "source": [
        "### Autoencoder trained on fraudulent transactions"
      ],
      "metadata": {
        "id": "AXhtHqXSgaBe"
      }
    },
    {
      "cell_type": "markdown",
      "source": [
        "As the paper says I trained the autoencoder only on the fraudulent transactions so that he learns how to represent them in the best way possible. The autoencoder training is really fast."
      ],
      "metadata": {
        "id": "lf1_dBwNeupI"
      }
    },
    {
      "cell_type": "code",
      "source": [
        "x_train_ae = x_train[y_train[:, 0] == 1]\n",
        "\n",
        "# Normalize x_train_ae\n",
        "mean = x_train_ae.mean(axis=0)\n",
        "std = x_train_ae.std(axis=0)\n",
        "x_train_ae = (x_train_ae - mean) / std\n",
        "\n",
        "print(x_train_ae.shape)"
      ],
      "metadata": {
        "colab": {
          "base_uri": "https://localhost:8080/"
        },
        "id": "zA1_wclIffyt",
        "outputId": "9c4bddc6-98d4-4d41-cba6-dd5a7b468a26"
      },
      "execution_count": 229,
      "outputs": [
        {
          "output_type": "stream",
          "name": "stdout",
          "text": [
            "(391, 30)\n"
          ]
        }
      ]
    },
    {
      "cell_type": "code",
      "source": [
        "def initialize_params(layers_size):\n",
        "  np.random.seed(0)\n",
        "  params = list()\n",
        "  for i in range(len(layers_size)-1):\n",
        "    std = np.sqrt(2/(layers_size[i+1]+ layers_size[i]))\n",
        "    w = np.random.randn(layers_size[i+1], layers_size[i]) * std\n",
        "    b = np.zeros((layers_size[i+1], 1))\n",
        "    params.append(w)\n",
        "    params.append(b)\n",
        "  return params\n",
        "\n",
        "def sigm(z):\n",
        "    return (jnp.tanh(2*z)+1)/2\n",
        "\n",
        "params_enc = initialize_params([30, 15])\n",
        "\n",
        "act_fn = jnp.tanh\n",
        "\n",
        "def encoder(x, params):\n",
        "\n",
        "  layer = x.T\n",
        "  num_layers = len(params) // 2 + 1\n",
        "  weights = params[::2]\n",
        "  biases = params[1::2]\n",
        "  for i in range(num_layers-1):\n",
        "    layer = jnp.dot(weights[i], layer) + biases[i]\n",
        "    if i < num_layers - 2: # on the last layer the activation function forces the output to be in the range 0-1\n",
        "      layer = act_fn(layer)\n",
        "    else:\n",
        "      layer = sigm(layer)\n",
        "  return layer.T\n",
        "\n",
        "params_dec = initialize_params([15, 30])\n",
        "\n",
        "def decoder(x, params):\n",
        "\n",
        "  layer = x.T\n",
        "  num_layers = len(params) // 2 + 1\n",
        "  weights = params[::2]\n",
        "  biases = params[1::2]\n",
        "  for i in range(num_layers-1):\n",
        "    layer = jnp.dot(weights[i], layer) + biases[i]\n",
        "    if i < num_layers - 2: # on the last layer the activation function forces the output to be in the range 0-1\n",
        "      layer = act_fn(layer)\n",
        "    else:\n",
        "      layer = sigm(layer)\n",
        "  return layer.T\n",
        "\n",
        "def autoencoder(x, params_enc, params_dec):\n",
        "    encoded = encoder(x, params_enc)\n",
        "    reconstructed = decoder(encoded, params_dec)\n",
        "    return reconstructed\n",
        "\n",
        "# Loss function\n",
        "def loss_mse_ae(x, params_enc, params_dec):\n",
        "    x_reconstructed = autoencoder(x, params_enc, params_dec)\n",
        "    return jnp.mean((x - x_reconstructed) ** 2)\n"
      ],
      "metadata": {
        "id": "PnEeDGfRf_Yq"
      },
      "execution_count": 230,
      "outputs": []
    },
    {
      "cell_type": "code",
      "source": [
        "# Hyperparameters\n",
        "num_epochs = 3000\n",
        "batch_size = 5\n",
        "learning_rate = 1.75e-2\n",
        "decay_rate = 0.9\n",
        "delta = 1e-6\n",
        "layers_size = [30, 15, 30]\n",
        "\n",
        "# Initialize encoder and decoder parameters\n",
        "\n",
        "# Just 2 layers to avoid overfitting\n",
        "params_enc = initialize_params([30, 15])\n",
        "params_dec = initialize_params([15, 30])\n",
        "\n",
        "# Compute gradients\n",
        "grad = jax.grad(loss_mse_ae, argnums=(1, 2))  # Compute gradients w.r.t. encoder and decoder\n",
        "grad_jit = jax.jit(grad)  # JIT compilation for faster execution\n",
        "mse_ae_jit = jax.jit(loss_mse_ae)\n",
        "\n",
        "# Training loop\n",
        "history_train = []\n",
        "n_train = x_train_ae.shape[0]\n",
        "print(n_train)\n",
        "cumulated_sqr_grad_enc = [0.0 for _ in range(len(params_enc))]\n",
        "cumulated_sqr_grad_dec = [0.0 for _ in range(len(params_dec))]\n",
        "\n",
        "for epoch in tqdm(range(num_epochs)):\n",
        "    idxs = np.random.choice(n_train, batch_size, replace=False)\n",
        "\n",
        "    # Compute gradients\n",
        "    grad_enc, grad_dec = grad_jit(x_train_ae[idxs, :], params_enc, params_dec)\n",
        "\n",
        "    # Update encoder parameters\n",
        "    for i in range(len(params_enc)):\n",
        "        cumulated_sqr_grad_enc[i] = (decay_rate * cumulated_sqr_grad_enc[i] + (1 - decay_rate) * grad_enc[i] ** 2)\n",
        "        params_enc[i] -= grad_enc[i] * learning_rate * (1 / (delta + jnp.sqrt(cumulated_sqr_grad_enc[i])))\n",
        "\n",
        "    # Update decoder parameters\n",
        "    for i in range(len(params_dec)):\n",
        "        cumulated_sqr_grad_dec[i] = (decay_rate * cumulated_sqr_grad_dec[i] + (1 - decay_rate) * grad_dec[i] ** 2)\n",
        "        params_dec[i] -= grad_dec[i] * learning_rate * (1 / (delta + jnp.sqrt(cumulated_sqr_grad_dec[i])))\n",
        "\n",
        "    # Compute loss\n",
        "    history_train.append(mse_ae_jit(x_train_ae, params_enc, params_dec))\n",
        "\n",
        "# Plot training loss\n",
        "plt.figure(figsize=(10, 6))\n",
        "plt.loglog(history_train, label=\"Train Loss\")\n",
        "plt.legend()\n",
        "plt.xlabel(\"Epochs\")\n",
        "plt.ylabel(\"Loss\")\n",
        "plt.title(\"Autoencoder Training Loss\")\n",
        "plt.show()\n",
        "\n",
        "print(\"Final Train Loss:\", history_train[-1])"
      ],
      "metadata": {
        "colab": {
          "base_uri": "https://localhost:8080/",
          "height": 479,
          "referenced_widgets": [
            "85aa94d6498f4ac49cb0a2b3dd2114d2",
            "2dd64f4591a2491da01352fa7d8dc06f",
            "1f20f84cab7340b38ba7b526927d48fe",
            "533c7f4b3ee043eca7d00659ebe4a886",
            "d6d5b8aea7f94fa892303436ac9aa868",
            "f17d456feeac4d2f8f7f0aba463dae38",
            "9ba51284b14f4591af7f1859526daa9e",
            "d325c21b3dfc4a3d92c9c26495fe52e9",
            "f866415a60c44420a92ad7195f0adce2",
            "2b8049617022492f9ff75ff7b8f2e5dd",
            "58d03452a25941f0b95ba75a2fbc21fe"
          ]
        },
        "id": "llxck8ZknFWD",
        "outputId": "26ffed97-6e10-431b-b0ea-686cd44c3379"
      },
      "execution_count": 231,
      "outputs": [
        {
          "output_type": "stream",
          "name": "stdout",
          "text": [
            "391\n"
          ]
        },
        {
          "output_type": "display_data",
          "data": {
            "text/plain": [
              "  0%|          | 0/3000 [00:00<?, ?it/s]"
            ],
            "application/vnd.jupyter.widget-view+json": {
              "version_major": 2,
              "version_minor": 0,
              "model_id": "85aa94d6498f4ac49cb0a2b3dd2114d2"
            }
          },
          "metadata": {}
        },
        {
          "output_type": "display_data",
          "data": {
            "text/plain": [
              "<Figure size 1000x600 with 1 Axes>"
            ],
            "image/png": "[encoded data removed]"
          },
          "metadata": {}
        },
        {
          "output_type": "stream",
          "name": "stdout",
          "text": [
            "Final Train Loss: 0.6867936\n"
          ]
        }
      ]
    },
    {
      "cell_type": "code",
      "source": [
        "encoded_train = encoder(x_train, params_enc)\n",
        "encoded_test = encoder(x_test, params_enc)"
      ],
      "metadata": {
        "id": "MHMWVaiQMUeg"
      },
      "execution_count": 232,
      "outputs": []
    },
    {
      "cell_type": "markdown",
      "source": [
        "### Logistic Regression from Sklearn library"
      ],
      "metadata": {
        "id": "_vUNAfL1hEUp"
      }
    },
    {
      "cell_type": "code",
      "source": [
        "from sklearn.linear_model import LogisticRegression\n",
        "from sklearn.metrics import confusion_matrix, classification_report\n",
        "\n",
        "model = LogisticRegression()\n",
        "model.fit(encoded_train, y_train)\n",
        "y_pred = model.predict(encoded_test)\n",
        "\n",
        "\n",
        "print(\"Confusion Matrix:\")\n",
        "print(confusion_matrix(y_test, y_pred))\n",
        "\n",
        "print(\"\\nClassification Report:\")\n",
        "print(classification_report(y_test, y_pred))"
      ],
      "metadata": {
        "colab": {
          "base_uri": "https://localhost:8080/"
        },
        "id": "wng3hmbpMVD2",
        "outputId": "07d58785-ec34-4502-d68b-e0f07dbaa235"
      },
      "execution_count": 233,
      "outputs": [
        {
          "output_type": "stream",
          "name": "stderr",
          "text": [
            "/usr/local/lib/python3.11/dist-packages/sklearn/utils/validation.py:1408: DataConversionWarning: A column-vector y was passed when a 1d array was expected. Please change the shape of y to (n_samples, ), for example using ravel().\n",
            "  y = column_or_1d(y, warn=True)\n"
          ]
        },
        {
          "output_type": "stream",
          "name": "stdout",
          "text": [
            "Confusion Matrix:\n",
            "[[56853     8]\n",
            " [   48    53]]\n",
            "\n",
            "Classification Report:\n",
            "              precision    recall  f1-score   support\n",
            "\n",
            "         0.0       1.00      1.00      1.00     56861\n",
            "         1.0       0.87      0.52      0.65       101\n",
            "\n",
            "    accuracy                           1.00     56962\n",
            "   macro avg       0.93      0.76      0.83     56962\n",
            "weighted avg       1.00      1.00      1.00     56962\n",
            "\n"
          ]
        }
      ]
    },
    {
      "cell_type": "code",
      "source": [
        "ConfusionMatrixDisplay(confusion_matrix(y_test, y_pred), display_labels=[\"Non Fraud\", \"Fraud\"]).plot()"
      ],
      "metadata": {
        "colab": {
          "base_uri": "https://localhost:8080/",
          "height": 485
        },
        "id": "cSR9aVSxCA3u",
        "outputId": "aaab5702-739b-4f43-b201-c1a39fd276ba"
      },
      "execution_count": 234,
      "outputs": [
        {
          "output_type": "execute_result",
          "data": {
            "text/plain": [
              "<sklearn.metrics._plot.confusion_matrix.ConfusionMatrixDisplay at 0x791b40267ed0>"
            ]
          },
          "metadata": {},
          "execution_count": 234
        },
        {
          "output_type": "display_data",
          "data": {
            "text/plain": [
              "<Figure size 640x480 with 2 Axes>"
            ],
            "image/png": "[encoded data removed]"
          },
          "metadata": {}
        }
      ]
    },
    {
      "cell_type": "markdown",
      "source": [
        "### Random Forest from Sklearn library"
      ],
      "metadata": {
        "id": "Ge5JEBRdlC8G"
      }
    },
    {
      "cell_type": "code",
      "source": [
        "from sklearn.ensemble import RandomForestClassifier\n",
        "\n",
        "model = RandomForestClassifier()\n",
        "model.fit(encoded_train, y_train)\n",
        "y_pred = model.predict(encoded_test)\n",
        "confusion_matrix(y_test, y_pred)\n",
        "\n",
        "print(\"Confusion Matrix:\")\n",
        "print(confusion_matrix(y_test, y_pred))\n",
        "\n",
        "print(\"\\nClassification Report:\")\n",
        "print(classification_report(y_test, y_pred))"
      ],
      "metadata": {
        "id": "GXKhj9xRf4xV",
        "colab": {
          "base_uri": "https://localhost:8080/"
        },
        "outputId": "a96aec0f-c7ba-454e-cf61-b96ba722b35c"
      },
      "execution_count": 235,
      "outputs": [
        {
          "output_type": "stream",
          "name": "stderr",
          "text": [
            "/usr/local/lib/python3.11/dist-packages/sklearn/base.py:1389: DataConversionWarning: A column-vector y was passed when a 1d array was expected. Please change the shape of y to (n_samples,), for example using ravel().\n",
            "  return fit_method(estimator, *args, **kwargs)\n"
          ]
        },
        {
          "output_type": "stream",
          "name": "stdout",
          "text": [
            "Confusion Matrix:\n",
            "[[56857     4]\n",
            " [   23    78]]\n",
            "\n",
            "Classification Report:\n",
            "              precision    recall  f1-score   support\n",
            "\n",
            "         0.0       1.00      1.00      1.00     56861\n",
            "         1.0       0.95      0.77      0.85       101\n",
            "\n",
            "    accuracy                           1.00     56962\n",
            "   macro avg       0.98      0.89      0.93     56962\n",
            "weighted avg       1.00      1.00      1.00     56962\n",
            "\n"
          ]
        }
      ]
    },
    {
      "cell_type": "code",
      "source": [
        "ConfusionMatrixDisplay(confusion_matrix(y_test, y_pred), display_labels=[\"Non Fraud\", \"Fraud\"]).plot()"
      ],
      "metadata": {
        "colab": {
          "base_uri": "https://localhost:8080/",
          "height": 485
        },
        "id": "h13Gu-tHB_1E",
        "outputId": "5781f163-5802-49ef-a380-01b295d4034e"
      },
      "execution_count": 236,
      "outputs": [
        {
          "output_type": "execute_result",
          "data": {
            "text/plain": [
              "<sklearn.metrics._plot.confusion_matrix.ConfusionMatrixDisplay at 0x791b2e915e90>"
            ]
          },
          "metadata": {},
          "execution_count": 236
        },
        {
          "output_type": "display_data",
          "data": {
            "text/plain": [
              "<Figure size 640x480 with 2 Axes>"
            ],
            "image/png": "[encoded data removed]"
          },
          "metadata": {}
        }
      ]
    },
    {
      "cell_type": "markdown",
      "source": [
        "### Support Vector Regression from Sklearn library"
      ],
      "metadata": {
        "id": "HvnZ8r07yDX3"
      }
    },
    {
      "cell_type": "code",
      "source": [
        "from sklearn.svm import SVC\n",
        "\n",
        "model = SVC()\n",
        "model.fit(encoded_train, y_train)\n",
        "y_pred = model.predict(encoded_test)\n",
        "confusion_matrix(y_test, y_pred)\n",
        "\n",
        "print(\"Confusion Matrix:\")\n",
        "print(confusion_matrix(y_test, y_pred))\n",
        "\n",
        "print(\"\\nClassification Report:\")\n",
        "print(classification_report(y_test, y_pred))"
      ],
      "metadata": {
        "colab": {
          "base_uri": "https://localhost:8080/"
        },
        "id": "hFz3vGNlmJcQ",
        "outputId": "80078b4d-fccf-4738-be8b-bf5e55729d34"
      },
      "execution_count": 237,
      "outputs": [
        {
          "output_type": "stream",
          "name": "stderr",
          "text": [
            "/usr/local/lib/python3.11/dist-packages/sklearn/utils/validation.py:1408: DataConversionWarning: A column-vector y was passed when a 1d array was expected. Please change the shape of y to (n_samples, ), for example using ravel().\n",
            "  y = column_or_1d(y, warn=True)\n"
          ]
        },
        {
          "output_type": "stream",
          "name": "stdout",
          "text": [
            "Confusion Matrix:\n",
            "[[56852     9]\n",
            " [   33    68]]\n",
            "\n",
            "Classification Report:\n",
            "              precision    recall  f1-score   support\n",
            "\n",
            "         0.0       1.00      1.00      1.00     56861\n",
            "         1.0       0.88      0.67      0.76       101\n",
            "\n",
            "    accuracy                           1.00     56962\n",
            "   macro avg       0.94      0.84      0.88     56962\n",
            "weighted avg       1.00      1.00      1.00     56962\n",
            "\n"
          ]
        }
      ]
    },
    {
      "cell_type": "code",
      "source": [
        "ConfusionMatrixDisplay(confusion_matrix(y_test, y_pred), display_labels=[\"Non Fraud\", \"Fraud\"]).plot()"
      ],
      "metadata": {
        "colab": {
          "base_uri": "https://localhost:8080/",
          "height": 485
        },
        "id": "q7_KoXfVB-dk",
        "outputId": "9a659ee3-2fda-483b-942f-e3c3a2cf6743"
      },
      "execution_count": 238,
      "outputs": [
        {
          "output_type": "execute_result",
          "data": {
            "text/plain": [
              "<sklearn.metrics._plot.confusion_matrix.ConfusionMatrixDisplay at 0x791b333b1390>"
            ]
          },
          "metadata": {},
          "execution_count": 238
        },
        {
          "output_type": "display_data",
          "data": {
            "text/plain": [
              "<Figure size 640x480 with 2 Axes>"
            ],
            "image/png": "[encoded data removed]"
          },
          "metadata": {}
        }
      ]
    },
    {
      "cell_type": "markdown",
      "source": [
        "### Logistic Regression by me"
      ],
      "metadata": {
        "id": "y7Bd3CizjqrY"
      }
    },
    {
      "cell_type": "code",
      "source": [
        "def initialize_w_b(seed=0):\n",
        "  np.random.seed(seed)\n",
        "  w = np.random.randn(15, 1) * np.sqrt(2 / 15)\n",
        "  b = jnp.array([0.0])\n",
        "\n",
        "  print(w.shape)\n",
        "  print(b.shape)\n",
        "\n",
        "  params = list()\n",
        "  params.append(w)\n",
        "  params.append(b)\n",
        "\n",
        "  return params\n"
      ],
      "metadata": {
        "id": "SDgugCr3cvfw"
      },
      "execution_count": 239,
      "outputs": []
    },
    {
      "cell_type": "code",
      "source": [
        "def sigm(z):\n",
        "    return (jnp.tanh(2*z)+1)/2\n",
        "\n",
        "def loss_X_ent(x, y, params):\n",
        "    y_pred = sigm(x @ params[0] + params[1])\n",
        "    eps = 1e-6\n",
        "    return -jnp.mean( y * jnp.log(y_pred + eps) + (1-y) * jnp.log(1 - y_pred + eps))\n",
        "\n",
        "def mse_loss(x, y, params):\n",
        "    y_pred = x @ params[0] + params[1]\n",
        "    return jnp.mean((y - y_pred)**2)"
      ],
      "metadata": {
        "id": "4c4GIn65cyMc"
      },
      "execution_count": 240,
      "outputs": []
    },
    {
      "cell_type": "code",
      "source": [
        "def LR_BGD(x_train, y_train, x_test, y_test, num_epochs=100, learning_rate_max=3.3e-1, learning_rate_min = 1e-2, learning_rate_decay = 200, batch_size = 1000):\n",
        "\n",
        "\n",
        "  params = initialize_w_b()\n",
        "  num_epochs = int(num_epochs)\n",
        "\n",
        "\n",
        "  ########################################\n",
        "\n",
        "  grad = jax.jit(jax.grad(loss_X_ent, argnums=2))\n",
        "  loss_jit = jax.jit(loss_X_ent)\n",
        "\n",
        "  n_samples = x_train.shape[0]\n",
        "\n",
        "  history_train = list()\n",
        "  history_test = list()\n",
        "  history_train.append(loss_jit(x_train, y_train, params))\n",
        "  history_test.append(loss_jit(x_test, y_test, params))\n",
        "\n",
        "\n",
        "  for epoch in tqdm(range(num_epochs)):\n",
        "      learning_rate = max(\n",
        "          learning_rate_min, learning_rate_max * (1 - epoch / learning_rate_decay)\n",
        "      )\n",
        "\n",
        "      perm = np.random.permutation(n_samples)\n",
        "      for i in range(0, n_samples, batch_size):\n",
        "          batch_idx = perm[i : i + batch_size]\n",
        "          x_batch = x_train[batch_idx]\n",
        "          y_batch = y_train[batch_idx]\n",
        "          grads = grad(x_batch, y_batch, params)\n",
        "\n",
        "          for i in range(len(params)):\n",
        "              params[i] -= learning_rate * grads[i]\n",
        "      #print(loss_jit(x_train, y_train, params))\n",
        "      #print(loss_jit(x_test, y_test, params))\n",
        "      history_train.append(loss_jit(x_train, y_train, params))\n",
        "      history_test.append(loss_jit(x_test, y_test, params))\n",
        "  show_results(history_train, history_test)\n",
        "\n",
        "  return params\n",
        "\n",
        "def show_results(history_train, history_test):\n",
        "\n",
        "  print(\"loss train: %1.3e\" % history_train[-1])\n",
        "  print(\"loss test: %1.3e\" % history_test[-1])\n",
        "\n",
        "  fig, axs = plt.subplots(1, figsize=(16, 8))\n",
        "  axs.loglog(history_train, label=\"train\")\n",
        "  axs.loglog(history_test, label=\"test\")\n",
        "  plt.legend()"
      ],
      "metadata": {
        "id": "UMIZnzovcrlO"
      },
      "execution_count": 241,
      "outputs": []
    },
    {
      "cell_type": "code",
      "source": [
        "params = LR_BGD(encoded_train, y_train, encoded_test, y_test)"
      ],
      "metadata": {
        "colab": {
          "base_uri": "https://localhost:8080/",
          "height": 441,
          "referenced_widgets": [
            "de63f820007a4000b2adcf8e051ace8a",
            "399c800bcbf044f2ac2fd1eb14e66d6a",
            "64856de572cb44afafe8163d6da992d9",
            "5a0260f6d275494fbb2ad49dc16ee917",
            "09f7706ccc0a4ae599c7425a232ca141",
            "2d6bfc9eae784e18ab1aceea7bc797cd",
            "8cb2cc54a8a84243bdfb3e49a8410afd",
            "b741d022460d41909921510c326618c3",
            "63a3a39c0f46402f9c6cdaf9541ea0de",
            "cd1f96331acb4c6d9083df81687bf047",
            "b1ab720c4f734e2b827f256f9528a135"
          ]
        },
        "id": "w438LoAodh8K",
        "outputId": "f1508fce-99ab-49ee-93c2-6c1c90119c71"
      },
      "execution_count": 242,
      "outputs": [
        {
          "output_type": "stream",
          "name": "stdout",
          "text": [
            "(15, 1)\n",
            "(1,)\n"
          ]
        },
        {
          "output_type": "display_data",
          "data": {
            "text/plain": [
              "  0%|          | 0/100 [00:00<?, ?it/s]"
            ],
            "application/vnd.jupyter.widget-view+json": {
              "version_major": 2,
              "version_minor": 0,
              "model_id": "de63f820007a4000b2adcf8e051ace8a"
            }
          },
          "metadata": {}
        },
        {
          "output_type": "stream",
          "name": "stdout",
          "text": [
            "loss train: 5.094e-03\n",
            "loss test: 4.332e-03\n"
          ]
        },
        {
          "output_type": "display_data",
          "data": {
            "text/plain": [
              "<Figure size 1600x800 with 1 Axes>"
            ],
            "image/png": "[encoded data removed]"
          },
          "metadata": {}
        }
      ]
    },
    {
      "cell_type": "code",
      "source": [
        "compute_metrics(y_test, np.where(sigm(encoded_test @ params[0] + params[1]) >= 0.5, 1., 0.))"
      ],
      "metadata": {
        "colab": {
          "base_uri": "https://localhost:8080/"
        },
        "id": "1q0lYhqTpTGM",
        "outputId": "315c36a9-3d6a-41d8-ec78-665a300621b3"
      },
      "execution_count": 243,
      "outputs": [
        {
          "output_type": "stream",
          "name": "stdout",
          "text": [
            "Accuracy: 99.90%\n",
            "Recall: 49.50%\n",
            "Precision: 86.21%\n",
            "F1: 62.89%\n",
            "TP: 50\n",
            "TN: 56853\n",
            "FP: 8\n",
            "FN: 51\n"
          ]
        }
      ]
    },
    {
      "cell_type": "code",
      "source": [
        "ConfusionMatrixDisplay(confusion_matrix(y_test, np.where(sigm(encoded_test @ params[0] + params[1]) >= 0.5, 1., 0.)), display_labels=[\"Non Fraud\", \"Fraud\"]).plot()"
      ],
      "metadata": {
        "colab": {
          "base_uri": "https://localhost:8080/",
          "height": 485
        },
        "id": "3T1wia11njIN",
        "outputId": "2b8f34ff-4eb3-4b99-9689-857fc677cb30"
      },
      "execution_count": 244,
      "outputs": [
        {
          "output_type": "execute_result",
          "data": {
            "text/plain": [
              "<sklearn.metrics._plot.confusion_matrix.ConfusionMatrixDisplay at 0x791b33223490>"
            ]
          },
          "metadata": {},
          "execution_count": 244
        },
        {
          "output_type": "display_data",
          "data": {
            "text/plain": [
              "<Figure size 640x480 with 2 Axes>"
            ],
            "image/png": "[encoded data removed]"
          },
          "metadata": {}
        }
      ]
    },
    {
      "cell_type": "markdown",
      "source": [
        "## Extra: Autoencoder trained on non fraudulent transactions"
      ],
      "metadata": {
        "id": "3wZKHsVngCl_"
      }
    },
    {
      "cell_type": "code",
      "source": [
        "x_train_ae = x_train[y_train[:, 0] == 0] # Training set composed of only fraudulent transactions\n",
        "\n",
        "# Normalize x_train_ae\n",
        "mean = x_train_ae.mean(axis=0)\n",
        "std = x_train_ae.std(axis=0)\n",
        "x_train_ae = (x_train_ae - mean) / std\n"
      ],
      "metadata": {
        "id": "VQ48FIMTsOFn"
      },
      "execution_count": 245,
      "outputs": []
    },
    {
      "cell_type": "code",
      "source": [
        "num_epochs = 250\n",
        "batch_size = 1000\n",
        "learning_rate = 1.75e-2\n",
        "decay_rate = 0.9\n",
        "delta = 1e-6\n",
        "layers_size = [30, 15, 30]\n",
        "\n",
        "# Initialize encoder and decoder parameters\n",
        "params_enc = initialize_params([30, 15])\n",
        "params_dec = initialize_params([15, 30])\n",
        "\n",
        "# Compute gradients\n",
        "grad = jax.grad(loss_mse_ae, argnums=(1, 2))  # Compute gradients w.r.t. encoder and decoder\n",
        "grad_jit = jax.jit(grad)\n",
        "mse_ae_jit = jax.jit(loss_mse_ae)\n",
        "\n",
        "history_train = []\n",
        "n_train = x_train_ae.shape[0]\n",
        "cumulated_sqr_grad_enc = [0.0 for _ in range(len(params_enc))]\n",
        "cumulated_sqr_grad_dec = [0.0 for _ in range(len(params_dec))]\n",
        "\n",
        "for epoch in tqdm(range(num_epochs)):\n",
        "    idxs = np.random.choice(n_train, batch_size, replace=False)\n",
        "\n",
        "    # Compute gradients\n",
        "    grad_enc, grad_dec = grad_jit(x_train_ae[idxs, :], params_enc, params_dec)\n",
        "\n",
        "    # Update encoder parameters\n",
        "    for i in range(len(params_enc)):\n",
        "        cumulated_sqr_grad_enc[i] = (decay_rate * cumulated_sqr_grad_enc[i] + (1 - decay_rate) * grad_enc[i] ** 2)\n",
        "        params_enc[i] -= grad_enc[i] * learning_rate * (1 / (delta + jnp.sqrt(cumulated_sqr_grad_enc[i])))\n",
        "\n",
        "    # Update decoder parameters\n",
        "    for i in range(len(params_dec)):\n",
        "        cumulated_sqr_grad_dec[i] = (decay_rate * cumulated_sqr_grad_dec[i] + (1 - decay_rate) * grad_dec[i] ** 2)\n",
        "        params_dec[i] -= grad_dec[i] * learning_rate * (1 / (delta + jnp.sqrt(cumulated_sqr_grad_dec[i])))\n",
        "\n",
        "    # Compute loss\n",
        "    history_train.append(mse_ae_jit(x_train_ae, params_enc, params_dec))\n",
        "\n",
        "# Plot training loss\n",
        "plt.figure(figsize=(10, 6))\n",
        "plt.loglog(history_train, label=\"Train Loss\")\n",
        "plt.legend()\n",
        "plt.xlabel(\"Epochs\")\n",
        "plt.ylabel(\"Loss\")\n",
        "plt.title(\"Autoencoder Training Loss\")\n",
        "plt.show()\n",
        "\n",
        "print(\"Final Train Loss:\", history_train[-1])"
      ],
      "metadata": {
        "colab": {
          "base_uri": "https://localhost:8080/",
          "height": 461,
          "referenced_widgets": [
            "5e894b301b364aae9b1bb655427950e1",
            "46bab928aaf94d4f96bbae9324c675c2",
            "c43eb8819f7a40c9aebcb364be2007ed",
            "62cb1b5eefad47d1bea51252ea991b61",
            "bc36fb9b02214995ad14da2d938c7ec2",
            "9620fb091dd140f1bc2b5d20b0215b4a",
            "53365d3af2594e25ac9ef7ace42dad07",
            "f5291f1c811d4324ae35bda0b5df12e7",
            "d6ffa6a31bac49149dbbb84e3462f917",
            "7f200862195a46b99f7180d1f9730cd2",
            "2af70dbb3fb547218132ce2469cf2ef4"
          ]
        },
        "id": "RfKlZ-nibXEr",
        "outputId": "69da11ef-ea9f-4e44-d755-2861d37e38b1"
      },
      "execution_count": 246,
      "outputs": [
        {
          "output_type": "display_data",
          "data": {
            "text/plain": [
              "  0%|          | 0/250 [00:00<?, ?it/s]"
            ],
            "application/vnd.jupyter.widget-view+json": {
              "version_major": 2,
              "version_minor": 0,
              "model_id": "5e894b301b364aae9b1bb655427950e1"
            }
          },
          "metadata": {}
        },
        {
          "output_type": "display_data",
          "data": {
            "text/plain": [
              "<Figure size 1000x600 with 1 Axes>"
            ],
            "image/png": "[encoded data removed]"
          },
          "metadata": {}
        },
        {
          "output_type": "stream",
          "name": "stdout",
          "text": [
            "Final Train Loss: 0.7438449\n"
          ]
        }
      ]
    },
    {
      "cell_type": "code",
      "source": [
        "encoded_train = encoder(x_train, params_enc)\n",
        "encoded_test = encoder(x_test, params_enc)"
      ],
      "metadata": {
        "id": "ijkgbVHAbmQw"
      },
      "execution_count": 247,
      "outputs": []
    },
    {
      "cell_type": "code",
      "source": [
        "from sklearn.linear_model import LogisticRegression\n",
        "from sklearn.metrics import confusion_matrix, classification_report\n",
        "\n",
        "model = LogisticRegression()\n",
        "model.fit(encoded_train, y_train)\n",
        "y_pred = model.predict(encoded_test)\n",
        "\n",
        "print(\"Confusion Matrix:\")\n",
        "print(confusion_matrix(y_test, y_pred))\n",
        "\n",
        "print(\"\\nClassification Report:\")\n",
        "print(classification_report(y_test, y_pred))"
      ],
      "metadata": {
        "colab": {
          "base_uri": "https://localhost:8080/"
        },
        "id": "Igf75IyyeS4v",
        "outputId": "db1b2c79-82f5-423b-8dde-b429f362d22b"
      },
      "execution_count": 248,
      "outputs": [
        {
          "output_type": "stream",
          "name": "stderr",
          "text": [
            "/usr/local/lib/python3.11/dist-packages/sklearn/utils/validation.py:1408: DataConversionWarning: A column-vector y was passed when a 1d array was expected. Please change the shape of y to (n_samples, ), for example using ravel().\n",
            "  y = column_or_1d(y, warn=True)\n"
          ]
        },
        {
          "output_type": "stream",
          "name": "stdout",
          "text": [
            "Confusion Matrix:\n",
            "[[56847    14]\n",
            " [   31    70]]\n",
            "\n",
            "Classification Report:\n",
            "              precision    recall  f1-score   support\n",
            "\n",
            "         0.0       1.00      1.00      1.00     56861\n",
            "         1.0       0.83      0.69      0.76       101\n",
            "\n",
            "    accuracy                           1.00     56962\n",
            "   macro avg       0.92      0.85      0.88     56962\n",
            "weighted avg       1.00      1.00      1.00     56962\n",
            "\n"
          ]
        }
      ]
    },
    {
      "cell_type": "code",
      "source": [
        "ConfusionMatrixDisplay(confusion_matrix(y_test, y_pred), display_labels=[\"Non Fraud\", \"Fraud\"]).plot()"
      ],
      "metadata": {
        "id": "OzxV3C5dvWhG",
        "colab": {
          "base_uri": "https://localhost:8080/",
          "height": 485
        },
        "outputId": "7e72b712-3bbe-40dc-d374-09c958a8c83b"
      },
      "execution_count": 249,
      "outputs": [
        {
          "output_type": "execute_result",
          "data": {
            "text/plain": [
              "<sklearn.metrics._plot.confusion_matrix.ConfusionMatrixDisplay at 0x791b32f45610>"
            ]
          },
          "metadata": {},
          "execution_count": 249
        },
        {
          "output_type": "display_data",
          "data": {
            "text/plain": [
              "<Figure size 640x480 with 2 Axes>"
            ],
            "image/png": "[encoded data removed]"
          },
          "metadata": {}
        }
      ]
    },
    {
      "cell_type": "code",
      "source": [
        "from sklearn.svm import SVC\n",
        "\n",
        "model = SVC()\n",
        "model.fit(encoded_train, y_train)\n",
        "y_pred = model.predict(encoded_test)\n",
        "confusion_matrix(y_test, y_pred)\n",
        "\n",
        "print(\"Confusion Matrix:\")\n",
        "print(confusion_matrix(y_test, y_pred))\n",
        "\n",
        "print(\"\\nClassification Report:\")\n",
        "print(classification_report(y_test, y_pred))"
      ],
      "metadata": {
        "colab": {
          "base_uri": "https://localhost:8080/"
        },
        "id": "ugo5_r1fsiZE",
        "outputId": "05eabfc4-16b3-433e-d069-81dc2ff66ea7"
      },
      "execution_count": 250,
      "outputs": [
        {
          "output_type": "stream",
          "name": "stderr",
          "text": [
            "/usr/local/lib/python3.11/dist-packages/sklearn/utils/validation.py:1408: DataConversionWarning: A column-vector y was passed when a 1d array was expected. Please change the shape of y to (n_samples, ), for example using ravel().\n",
            "  y = column_or_1d(y, warn=True)\n"
          ]
        },
        {
          "output_type": "stream",
          "name": "stdout",
          "text": [
            "Confusion Matrix:\n",
            "[[56847    14]\n",
            " [   21    80]]\n",
            "\n",
            "Classification Report:\n",
            "              precision    recall  f1-score   support\n",
            "\n",
            "         0.0       1.00      1.00      1.00     56861\n",
            "         1.0       0.85      0.79      0.82       101\n",
            "\n",
            "    accuracy                           1.00     56962\n",
            "   macro avg       0.93      0.90      0.91     56962\n",
            "weighted avg       1.00      1.00      1.00     56962\n",
            "\n"
          ]
        }
      ]
    },
    {
      "cell_type": "code",
      "source": [
        "ConfusionMatrixDisplay(confusion_matrix(y_test, y_pred), display_labels=[\"Non Fraud\", \"Fraud\"]).plot()"
      ],
      "metadata": {
        "colab": {
          "base_uri": "https://localhost:8080/",
          "height": 485
        },
        "id": "Ug4zGPOiB4-h",
        "outputId": "50351dec-32c7-4db2-d70c-1249f34bab0d"
      },
      "execution_count": 251,
      "outputs": [
        {
          "output_type": "execute_result",
          "data": {
            "text/plain": [
              "<sklearn.metrics._plot.confusion_matrix.ConfusionMatrixDisplay at 0x791b32ed7910>"
            ]
          },
          "metadata": {},
          "execution_count": 251
        },
        {
          "output_type": "display_data",
          "data": {
            "text/plain": [
              "<Figure size 640x480 with 2 Axes>"
            ],
            "image/png": "[encoded data removed]"
          },
          "metadata": {}
        }
      ]
    },
    {
      "cell_type": "code",
      "source": [
        "from sklearn.ensemble import RandomForestClassifier\n",
        "\n",
        "model = RandomForestClassifier()\n",
        "model.fit(encoded_train, y_train)\n",
        "y_pred = model.predict(encoded_test)\n",
        "confusion_matrix(y_test, y_pred)\n",
        "\n",
        "print(\"Confusion Matrix:\")\n",
        "print(confusion_matrix(y_test, y_pred))\n",
        "\n",
        "print(\"\\nClassification Report:\")\n",
        "print(classification_report(y_test, y_pred))"
      ],
      "metadata": {
        "colab": {
          "base_uri": "https://localhost:8080/"
        },
        "id": "Vl8muIMJQ8fa",
        "outputId": "b1a689f7-071a-4e07-9c7a-52ae418ca23d"
      },
      "execution_count": 252,
      "outputs": [
        {
          "output_type": "stream",
          "name": "stderr",
          "text": [
            "/usr/local/lib/python3.11/dist-packages/sklearn/base.py:1389: DataConversionWarning: A column-vector y was passed when a 1d array was expected. Please change the shape of y to (n_samples,), for example using ravel().\n",
            "  return fit_method(estimator, *args, **kwargs)\n"
          ]
        },
        {
          "output_type": "stream",
          "name": "stdout",
          "text": [
            "Confusion Matrix:\n",
            "[[56856     5]\n",
            " [   26    75]]\n",
            "\n",
            "Classification Report:\n",
            "              precision    recall  f1-score   support\n",
            "\n",
            "         0.0       1.00      1.00      1.00     56861\n",
            "         1.0       0.94      0.74      0.83       101\n",
            "\n",
            "    accuracy                           1.00     56962\n",
            "   macro avg       0.97      0.87      0.91     56962\n",
            "weighted avg       1.00      1.00      1.00     56962\n",
            "\n"
          ]
        }
      ]
    },
    {
      "cell_type": "code",
      "source": [
        "ConfusionMatrixDisplay(confusion_matrix(y_test, y_pred), display_labels=[\"Non Fraud\", \"Fraud\"]).plot()"
      ],
      "metadata": {
        "colab": {
          "base_uri": "https://localhost:8080/",
          "height": 485
        },
        "id": "9uCxJqC6B4IX",
        "outputId": "17169cc1-f569-49cd-d1fa-a5507089b70d"
      },
      "execution_count": 253,
      "outputs": [
        {
          "output_type": "execute_result",
          "data": {
            "text/plain": [
              "<sklearn.metrics._plot.confusion_matrix.ConfusionMatrixDisplay at 0x791b32fe2750>"
            ]
          },
          "metadata": {},
          "execution_count": 253
        },
        {
          "output_type": "display_data",
          "data": {
            "text/plain": [
              "<Figure size 640x480 with 2 Axes>"
            ],
            "image/png": "[encoded data removed]"
          },
          "metadata": {}
        }
      ]
    }
  ]
}