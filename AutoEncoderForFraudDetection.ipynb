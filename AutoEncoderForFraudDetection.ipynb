{
  "nbformat": 4,
  "nbformat_minor": 0,
  "metadata": {
    "colab": {
      "provenance": [],
      "collapsed_sections": [
        "wEDy05J80JB5",
        "M9y1dd7lzrL6",
        "-pc5yI9le9b8",
        "AXhtHqXSgaBe",
        "_vUNAfL1hEUp",
        "Ge5JEBRdlC8G",
        "y7Bd3CizjqrY"
      ],
      "authorship_tag": "ABX9TyMawkXalyrWRuBNO+THUhtl",
      "include_colab_link": true
    },
    "kernelspec": {
      "name": "python3",
      "display_name": "Python 3"
    },
    "language_info": {
      "name": "python"
    },
    "widgets": {
      "application/vnd.jupyter.widget-state+json": {
        "fdd152296fd944bd89852aed2a8ade3a": {
          "model_module": "@jupyter-widgets/controls",
          "model_name": "HBoxModel",
          "model_module_version": "1.5.0",
          "state": {
            "_dom_classes": [],
            "_model_module": "@jupyter-widgets/controls",
            "_model_module_version": "1.5.0",
            "_model_name": "HBoxModel",
            "_view_count": null,
            "_view_module": "@jupyter-widgets/controls",
            "_view_module_version": "1.5.0",
            "_view_name": "HBoxView",
            "box_style": "",
            "children": [
              "IPY_MODEL_9e47a72a14734a068dee8b4be24127cb",
              "IPY_MODEL_d7826c1e60b84eaeaf97a35e61e92b12",
              "IPY_MODEL_ca783f8c0aac4100b27144ae5098ce95"
            ],
            "layout": "IPY_MODEL_90608cc0ab6d43a5878a916605c82818"
          }
        },
        "9e47a72a14734a068dee8b4be24127cb": {
          "model_module": "@jupyter-widgets/controls",
          "model_name": "HTMLModel",
          "model_module_version": "1.5.0",
          "state": {
            "_dom_classes": [],
            "_model_module": "@jupyter-widgets/controls",
            "_model_module_version": "1.5.0",
            "_model_name": "HTMLModel",
            "_view_count": null,
            "_view_module": "@jupyter-widgets/controls",
            "_view_module_version": "1.5.0",
            "_view_name": "HTMLView",
            "description": "",
            "description_tooltip": null,
            "layout": "IPY_MODEL_dda56757471947c0bb988a03afaeef6b",
            "placeholder": "​",
            "style": "IPY_MODEL_5aee4f0718644cd18aa89bf4d3c377f5",
            "value": "100%"
          }
        },
        "d7826c1e60b84eaeaf97a35e61e92b12": {
          "model_module": "@jupyter-widgets/controls",
          "model_name": "FloatProgressModel",
          "model_module_version": "1.5.0",
          "state": {
            "_dom_classes": [],
            "_model_module": "@jupyter-widgets/controls",
            "_model_module_version": "1.5.0",
            "_model_name": "FloatProgressModel",
            "_view_count": null,
            "_view_module": "@jupyter-widgets/controls",
            "_view_module_version": "1.5.0",
            "_view_name": "ProgressView",
            "bar_style": "success",
            "description": "",
            "description_tooltip": null,
            "layout": "IPY_MODEL_3169396b123a4637bf854f9d2420a910",
            "max": 1500,
            "min": 0,
            "orientation": "horizontal",
            "style": "IPY_MODEL_ea67ff68be584aee97803dd96dea1c7a",
            "value": 1500
          }
        },
        "ca783f8c0aac4100b27144ae5098ce95": {
          "model_module": "@jupyter-widgets/controls",
          "model_name": "HTMLModel",
          "model_module_version": "1.5.0",
          "state": {
            "_dom_classes": [],
            "_model_module": "@jupyter-widgets/controls",
            "_model_module_version": "1.5.0",
            "_model_name": "HTMLModel",
            "_view_count": null,
            "_view_module": "@jupyter-widgets/controls",
            "_view_module_version": "1.5.0",
            "_view_name": "HTMLView",
            "description": "",
            "description_tooltip": null,
            "layout": "IPY_MODEL_acc82ce0f65c4f878f9aa74ea299087a",
            "placeholder": "​",
            "style": "IPY_MODEL_505cd3d47bf24dfcafbe1d2e8de7a55e",
            "value": " 1500/1500 [06:17&lt;00:00,  2.37it/s]"
          }
        },
        "90608cc0ab6d43a5878a916605c82818": {
          "model_module": "@jupyter-widgets/base",
          "model_name": "LayoutModel",
          "model_module_version": "1.2.0",
          "state": {
            "_model_module": "@jupyter-widgets/base",
            "_model_module_version": "1.2.0",
            "_model_name": "LayoutModel",
            "_view_count": null,
            "_view_module": "@jupyter-widgets/base",
            "_view_module_version": "1.2.0",
            "_view_name": "LayoutView",
            "align_content": null,
            "align_items": null,
            "align_self": null,
            "border": null,
            "bottom": null,
            "display": null,
            "flex": null,
            "flex_flow": null,
            "grid_area": null,
            "grid_auto_columns": null,
            "grid_auto_flow": null,
            "grid_auto_rows": null,
            "grid_column": null,
            "grid_gap": null,
            "grid_row": null,
            "grid_template_areas": null,
            "grid_template_columns": null,
            "grid_template_rows": null,
            "height": null,
            "justify_content": null,
            "justify_items": null,
            "left": null,
            "margin": null,
            "max_height": null,
            "max_width": null,
            "min_height": null,
            "min_width": null,
            "object_fit": null,
            "object_position": null,
            "order": null,
            "overflow": null,
            "overflow_x": null,
            "overflow_y": null,
            "padding": null,
            "right": null,
            "top": null,
            "visibility": null,
            "width": null
          }
        },
        "dda56757471947c0bb988a03afaeef6b": {
          "model_module": "@jupyter-widgets/base",
          "model_name": "LayoutModel",
          "model_module_version": "1.2.0",
          "state": {
            "_model_module": "@jupyter-widgets/base",
            "_model_module_version": "1.2.0",
            "_model_name": "LayoutModel",
            "_view_count": null,
            "_view_module": "@jupyter-widgets/base",
            "_view_module_version": "1.2.0",
            "_view_name": "LayoutView",
            "align_content": null,
            "align_items": null,
            "align_self": null,
            "border": null,
            "bottom": null,
            "display": null,
            "flex": null,
            "flex_flow": null,
            "grid_area": null,
            "grid_auto_columns": null,
            "grid_auto_flow": null,
            "grid_auto_rows": null,
            "grid_column": null,
            "grid_gap": null,
            "grid_row": null,
            "grid_template_areas": null,
            "grid_template_columns": null,
            "grid_template_rows": null,
            "height": null,
            "justify_content": null,
            "justify_items": null,
            "left": null,
            "margin": null,
            "max_height": null,
            "max_width": null,
            "min_height": null,
            "min_width": null,
            "object_fit": null,
            "object_position": null,
            "order": null,
            "overflow": null,
            "overflow_x": null,
            "overflow_y": null,
            "padding": null,
            "right": null,
            "top": null,
            "visibility": null,
            "width": null
          }
        },
        "5aee4f0718644cd18aa89bf4d3c377f5": {
          "model_module": "@jupyter-widgets/controls",
          "model_name": "DescriptionStyleModel",
          "model_module_version": "1.5.0",
          "state": {
            "_model_module": "@jupyter-widgets/controls",
            "_model_module_version": "1.5.0",
            "_model_name": "DescriptionStyleModel",
            "_view_count": null,
            "_view_module": "@jupyter-widgets/base",
            "_view_module_version": "1.2.0",
            "_view_name": "StyleView",
            "description_width": ""
          }
        },
        "3169396b123a4637bf854f9d2420a910": {
          "model_module": "@jupyter-widgets/base",
          "model_name": "LayoutModel",
          "model_module_version": "1.2.0",
          "state": {
            "_model_module": "@jupyter-widgets/base",
            "_model_module_version": "1.2.0",
            "_model_name": "LayoutModel",
            "_view_count": null,
            "_view_module": "@jupyter-widgets/base",
            "_view_module_version": "1.2.0",
            "_view_name": "LayoutView",
            "align_content": null,
            "align_items": null,
            "align_self": null,
            "border": null,
            "bottom": null,
            "display": null,
            "flex": null,
            "flex_flow": null,
            "grid_area": null,
            "grid_auto_columns": null,
            "grid_auto_flow": null,
            "grid_auto_rows": null,
            "grid_column": null,
            "grid_gap": null,
            "grid_row": null,
            "grid_template_areas": null,
            "grid_template_columns": null,
            "grid_template_rows": null,
            "height": null,
            "justify_content": null,
            "justify_items": null,
            "left": null,
            "margin": null,
            "max_height": null,
            "max_width": null,
            "min_height": null,
            "min_width": null,
            "object_fit": null,
            "object_position": null,
            "order": null,
            "overflow": null,
            "overflow_x": null,
            "overflow_y": null,
            "padding": null,
            "right": null,
            "top": null,
            "visibility": null,
            "width": null
          }
        },
        "ea67ff68be584aee97803dd96dea1c7a": {
          "model_module": "@jupyter-widgets/controls",
          "model_name": "ProgressStyleModel",
          "model_module_version": "1.5.0",
          "state": {
            "_model_module": "@jupyter-widgets/controls",
            "_model_module_version": "1.5.0",
            "_model_name": "ProgressStyleModel",
            "_view_count": null,
            "_view_module": "@jupyter-widgets/base",
            "_view_module_version": "1.2.0",
            "_view_name": "StyleView",
            "bar_color": null,
            "description_width": ""
          }
        },
        "acc82ce0f65c4f878f9aa74ea299087a": {
          "model_module": "@jupyter-widgets/base",
          "model_name": "LayoutModel",
          "model_module_version": "1.2.0",
          "state": {
            "_model_module": "@jupyter-widgets/base",
            "_model_module_version": "1.2.0",
            "_model_name": "LayoutModel",
            "_view_count": null,
            "_view_module": "@jupyter-widgets/base",
            "_view_module_version": "1.2.0",
            "_view_name": "LayoutView",
            "align_content": null,
            "align_items": null,
            "align_self": null,
            "border": null,
            "bottom": null,
            "display": null,
            "flex": null,
            "flex_flow": null,
            "grid_area": null,
            "grid_auto_columns": null,
            "grid_auto_flow": null,
            "grid_auto_rows": null,
            "grid_column": null,
            "grid_gap": null,
            "grid_row": null,
            "grid_template_areas": null,
            "grid_template_columns": null,
            "grid_template_rows": null,
            "height": null,
            "justify_content": null,
            "justify_items": null,
            "left": null,
            "margin": null,
            "max_height": null,
            "max_width": null,
            "min_height": null,
            "min_width": null,
            "object_fit": null,
            "object_position": null,
            "order": null,
            "overflow": null,
            "overflow_x": null,
            "overflow_y": null,
            "padding": null,
            "right": null,
            "top": null,
            "visibility": null,
            "width": null
          }
        },
        "505cd3d47bf24dfcafbe1d2e8de7a55e": {
          "model_module": "@jupyter-widgets/controls",
          "model_name": "DescriptionStyleModel",
          "model_module_version": "1.5.0",
          "state": {
            "_model_module": "@jupyter-widgets/controls",
            "_model_module_version": "1.5.0",
            "_model_name": "DescriptionStyleModel",
            "_view_count": null,
            "_view_module": "@jupyter-widgets/base",
            "_view_module_version": "1.2.0",
            "_view_name": "StyleView",
            "description_width": ""
          }
        },
        "350a955380174c08b8d4184b474ddfa7": {
          "model_module": "@jupyter-widgets/controls",
          "model_name": "HBoxModel",
          "model_module_version": "1.5.0",
          "state": {
            "_dom_classes": [],
            "_model_module": "@jupyter-widgets/controls",
            "_model_module_version": "1.5.0",
            "_model_name": "HBoxModel",
            "_view_count": null,
            "_view_module": "@jupyter-widgets/controls",
            "_view_module_version": "1.5.0",
            "_view_name": "HBoxView",
            "box_style": "",
            "children": [
              "IPY_MODEL_1361293e01514eb3841ffab673888fed",
              "IPY_MODEL_292abbe772fe4b359ad0f5e77d75f0d5",
              "IPY_MODEL_2451c657fdc8461a817fd2773f98c5cc"
            ],
            "layout": "IPY_MODEL_365fe2052b19420f960f4be25dc81dde"
          }
        },
        "1361293e01514eb3841ffab673888fed": {
          "model_module": "@jupyter-widgets/controls",
          "model_name": "HTMLModel",
          "model_module_version": "1.5.0",
          "state": {
            "_dom_classes": [],
            "_model_module": "@jupyter-widgets/controls",
            "_model_module_version": "1.5.0",
            "_model_name": "HTMLModel",
            "_view_count": null,
            "_view_module": "@jupyter-widgets/controls",
            "_view_module_version": "1.5.0",
            "_view_name": "HTMLView",
            "description": "",
            "description_tooltip": null,
            "layout": "IPY_MODEL_22b90972486542cebe705e93c4474cf7",
            "placeholder": "​",
            "style": "IPY_MODEL_010e17fdc049403ca4dbdffd065a3357",
            "value": "100%"
          }
        },
        "292abbe772fe4b359ad0f5e77d75f0d5": {
          "model_module": "@jupyter-widgets/controls",
          "model_name": "FloatProgressModel",
          "model_module_version": "1.5.0",
          "state": {
            "_dom_classes": [],
            "_model_module": "@jupyter-widgets/controls",
            "_model_module_version": "1.5.0",
            "_model_name": "FloatProgressModel",
            "_view_count": null,
            "_view_module": "@jupyter-widgets/controls",
            "_view_module_version": "1.5.0",
            "_view_name": "ProgressView",
            "bar_style": "success",
            "description": "",
            "description_tooltip": null,
            "layout": "IPY_MODEL_5be1f381704f4007a523a12b8d36b533",
            "max": 500,
            "min": 0,
            "orientation": "horizontal",
            "style": "IPY_MODEL_118e3ad3b890421cad6271e611883e2f",
            "value": 500
          }
        },
        "2451c657fdc8461a817fd2773f98c5cc": {
          "model_module": "@jupyter-widgets/controls",
          "model_name": "HTMLModel",
          "model_module_version": "1.5.0",
          "state": {
            "_dom_classes": [],
            "_model_module": "@jupyter-widgets/controls",
            "_model_module_version": "1.5.0",
            "_model_name": "HTMLModel",
            "_view_count": null,
            "_view_module": "@jupyter-widgets/controls",
            "_view_module_version": "1.5.0",
            "_view_name": "HTMLView",
            "description": "",
            "description_tooltip": null,
            "layout": "IPY_MODEL_8ae8a3a6c280492ca0118a4a1c695c68",
            "placeholder": "​",
            "style": "IPY_MODEL_329e39ffe6a34edaa783b297bf4760f1",
            "value": " 500/500 [01:05&lt;00:00, 10.19it/s]"
          }
        },
        "365fe2052b19420f960f4be25dc81dde": {
          "model_module": "@jupyter-widgets/base",
          "model_name": "LayoutModel",
          "model_module_version": "1.2.0",
          "state": {
            "_model_module": "@jupyter-widgets/base",
            "_model_module_version": "1.2.0",
            "_model_name": "LayoutModel",
            "_view_count": null,
            "_view_module": "@jupyter-widgets/base",
            "_view_module_version": "1.2.0",
            "_view_name": "LayoutView",
            "align_content": null,
            "align_items": null,
            "align_self": null,
            "border": null,
            "bottom": null,
            "display": null,
            "flex": null,
            "flex_flow": null,
            "grid_area": null,
            "grid_auto_columns": null,
            "grid_auto_flow": null,
            "grid_auto_rows": null,
            "grid_column": null,
            "grid_gap": null,
            "grid_row": null,
            "grid_template_areas": null,
            "grid_template_columns": null,
            "grid_template_rows": null,
            "height": null,
            "justify_content": null,
            "justify_items": null,
            "left": null,
            "margin": null,
            "max_height": null,
            "max_width": null,
            "min_height": null,
            "min_width": null,
            "object_fit": null,
            "object_position": null,
            "order": null,
            "overflow": null,
            "overflow_x": null,
            "overflow_y": null,
            "padding": null,
            "right": null,
            "top": null,
            "visibility": null,
            "width": null
          }
        },
        "22b90972486542cebe705e93c4474cf7": {
          "model_module": "@jupyter-widgets/base",
          "model_name": "LayoutModel",
          "model_module_version": "1.2.0",
          "state": {
            "_model_module": "@jupyter-widgets/base",
            "_model_module_version": "1.2.0",
            "_model_name": "LayoutModel",
            "_view_count": null,
            "_view_module": "@jupyter-widgets/base",
            "_view_module_version": "1.2.0",
            "_view_name": "LayoutView",
            "align_content": null,
            "align_items": null,
            "align_self": null,
            "border": null,
            "bottom": null,
            "display": null,
            "flex": null,
            "flex_flow": null,
            "grid_area": null,
            "grid_auto_columns": null,
            "grid_auto_flow": null,
            "grid_auto_rows": null,
            "grid_column": null,
            "grid_gap": null,
            "grid_row": null,
            "grid_template_areas": null,
            "grid_template_columns": null,
            "grid_template_rows": null,
            "height": null,
            "justify_content": null,
            "justify_items": null,
            "left": null,
            "margin": null,
            "max_height": null,
            "max_width": null,
            "min_height": null,
            "min_width": null,
            "object_fit": null,
            "object_position": null,
            "order": null,
            "overflow": null,
            "overflow_x": null,
            "overflow_y": null,
            "padding": null,
            "right": null,
            "top": null,
            "visibility": null,
            "width": null
          }
        },
        "010e17fdc049403ca4dbdffd065a3357": {
          "model_module": "@jupyter-widgets/controls",
          "model_name": "DescriptionStyleModel",
          "model_module_version": "1.5.0",
          "state": {
            "_model_module": "@jupyter-widgets/controls",
            "_model_module_version": "1.5.0",
            "_model_name": "DescriptionStyleModel",
            "_view_count": null,
            "_view_module": "@jupyter-widgets/base",
            "_view_module_version": "1.2.0",
            "_view_name": "StyleView",
            "description_width": ""
          }
        },
        "5be1f381704f4007a523a12b8d36b533": {
          "model_module": "@jupyter-widgets/base",
          "model_name": "LayoutModel",
          "model_module_version": "1.2.0",
          "state": {
            "_model_module": "@jupyter-widgets/base",
            "_model_module_version": "1.2.0",
            "_model_name": "LayoutModel",
            "_view_count": null,
            "_view_module": "@jupyter-widgets/base",
            "_view_module_version": "1.2.0",
            "_view_name": "LayoutView",
            "align_content": null,
            "align_items": null,
            "align_self": null,
            "border": null,
            "bottom": null,
            "display": null,
            "flex": null,
            "flex_flow": null,
            "grid_area": null,
            "grid_auto_columns": null,
            "grid_auto_flow": null,
            "grid_auto_rows": null,
            "grid_column": null,
            "grid_gap": null,
            "grid_row": null,
            "grid_template_areas": null,
            "grid_template_columns": null,
            "grid_template_rows": null,
            "height": null,
            "justify_content": null,
            "justify_items": null,
            "left": null,
            "margin": null,
            "max_height": null,
            "max_width": null,
            "min_height": null,
            "min_width": null,
            "object_fit": null,
            "object_position": null,
            "order": null,
            "overflow": null,
            "overflow_x": null,
            "overflow_y": null,
            "padding": null,
            "right": null,
            "top": null,
            "visibility": null,
            "width": null
          }
        },
        "118e3ad3b890421cad6271e611883e2f": {
          "model_module": "@jupyter-widgets/controls",
          "model_name": "ProgressStyleModel",
          "model_module_version": "1.5.0",
          "state": {
            "_model_module": "@jupyter-widgets/controls",
            "_model_module_version": "1.5.0",
            "_model_name": "ProgressStyleModel",
            "_view_count": null,
            "_view_module": "@jupyter-widgets/base",
            "_view_module_version": "1.2.0",
            "_view_name": "StyleView",
            "bar_color": null,
            "description_width": ""
          }
        },
        "8ae8a3a6c280492ca0118a4a1c695c68": {
          "model_module": "@jupyter-widgets/base",
          "model_name": "LayoutModel",
          "model_module_version": "1.2.0",
          "state": {
            "_model_module": "@jupyter-widgets/base",
            "_model_module_version": "1.2.0",
            "_model_name": "LayoutModel",
            "_view_count": null,
            "_view_module": "@jupyter-widgets/base",
            "_view_module_version": "1.2.0",
            "_view_name": "LayoutView",
            "align_content": null,
            "align_items": null,
            "align_self": null,
            "border": null,
            "bottom": null,
            "display": null,
            "flex": null,
            "flex_flow": null,
            "grid_area": null,
            "grid_auto_columns": null,
            "grid_auto_flow": null,
            "grid_auto_rows": null,
            "grid_column": null,
            "grid_gap": null,
            "grid_row": null,
            "grid_template_areas": null,
            "grid_template_columns": null,
            "grid_template_rows": null,
            "height": null,
            "justify_content": null,
            "justify_items": null,
            "left": null,
            "margin": null,
            "max_height": null,
            "max_width": null,
            "min_height": null,
            "min_width": null,
            "object_fit": null,
            "object_position": null,
            "order": null,
            "overflow": null,
            "overflow_x": null,
            "overflow_y": null,
            "padding": null,
            "right": null,
            "top": null,
            "visibility": null,
            "width": null
          }
        },
        "329e39ffe6a34edaa783b297bf4760f1": {
          "model_module": "@jupyter-widgets/controls",
          "model_name": "DescriptionStyleModel",
          "model_module_version": "1.5.0",
          "state": {
            "_model_module": "@jupyter-widgets/controls",
            "_model_module_version": "1.5.0",
            "_model_name": "DescriptionStyleModel",
            "_view_count": null,
            "_view_module": "@jupyter-widgets/base",
            "_view_module_version": "1.2.0",
            "_view_name": "StyleView",
            "description_width": ""
          }
        },
        "07b3e031c0da4e03909b222a2a4c63f5": {
          "model_module": "@jupyter-widgets/controls",
          "model_name": "HBoxModel",
          "model_module_version": "1.5.0",
          "state": {
            "_dom_classes": [],
            "_model_module": "@jupyter-widgets/controls",
            "_model_module_version": "1.5.0",
            "_model_name": "HBoxModel",
            "_view_count": null,
            "_view_module": "@jupyter-widgets/controls",
            "_view_module_version": "1.5.0",
            "_view_name": "HBoxView",
            "box_style": "",
            "children": [
              "IPY_MODEL_6edad5613e7e4c8eaa1f73c75cf3954f",
              "IPY_MODEL_8530dcdd9c04487db17a9883d02336ac",
              "IPY_MODEL_56875fa72b95488698296f34d4f0bfc6"
            ],
            "layout": "IPY_MODEL_081e11c6e6fd4f84a9f4cc9520182959"
          }
        },
        "6edad5613e7e4c8eaa1f73c75cf3954f": {
          "model_module": "@jupyter-widgets/controls",
          "model_name": "HTMLModel",
          "model_module_version": "1.5.0",
          "state": {
            "_dom_classes": [],
            "_model_module": "@jupyter-widgets/controls",
            "_model_module_version": "1.5.0",
            "_model_name": "HTMLModel",
            "_view_count": null,
            "_view_module": "@jupyter-widgets/controls",
            "_view_module_version": "1.5.0",
            "_view_name": "HTMLView",
            "description": "",
            "description_tooltip": null,
            "layout": "IPY_MODEL_d3e3c57f4e5f48c188f824baa4e8f931",
            "placeholder": "​",
            "style": "IPY_MODEL_3182ab508ad04e62a3b6ff6fd878d463",
            "value": "100%"
          }
        },
        "8530dcdd9c04487db17a9883d02336ac": {
          "model_module": "@jupyter-widgets/controls",
          "model_name": "FloatProgressModel",
          "model_module_version": "1.5.0",
          "state": {
            "_dom_classes": [],
            "_model_module": "@jupyter-widgets/controls",
            "_model_module_version": "1.5.0",
            "_model_name": "FloatProgressModel",
            "_view_count": null,
            "_view_module": "@jupyter-widgets/controls",
            "_view_module_version": "1.5.0",
            "_view_name": "ProgressView",
            "bar_style": "success",
            "description": "",
            "description_tooltip": null,
            "layout": "IPY_MODEL_0a32f10246484e63bcdc9fffbd8bbb84",
            "max": 3000,
            "min": 0,
            "orientation": "horizontal",
            "style": "IPY_MODEL_4aef790fb54c470bbd57c251ae35ee46",
            "value": 3000
          }
        },
        "56875fa72b95488698296f34d4f0bfc6": {
          "model_module": "@jupyter-widgets/controls",
          "model_name": "HTMLModel",
          "model_module_version": "1.5.0",
          "state": {
            "_dom_classes": [],
            "_model_module": "@jupyter-widgets/controls",
            "_model_module_version": "1.5.0",
            "_model_name": "HTMLModel",
            "_view_count": null,
            "_view_module": "@jupyter-widgets/controls",
            "_view_module_version": "1.5.0",
            "_view_name": "HTMLView",
            "description": "",
            "description_tooltip": null,
            "layout": "IPY_MODEL_94e2ea305ab945e4b2995b46f7181cf0",
            "placeholder": "​",
            "style": "IPY_MODEL_e02bb1ece47a40d4bd99add9a5f9194b",
            "value": " 3000/3000 [00:07&lt;00:00, 525.77it/s]"
          }
        },
        "081e11c6e6fd4f84a9f4cc9520182959": {
          "model_module": "@jupyter-widgets/base",
          "model_name": "LayoutModel",
          "model_module_version": "1.2.0",
          "state": {
            "_model_module": "@jupyter-widgets/base",
            "_model_module_version": "1.2.0",
            "_model_name": "LayoutModel",
            "_view_count": null,
            "_view_module": "@jupyter-widgets/base",
            "_view_module_version": "1.2.0",
            "_view_name": "LayoutView",
            "align_content": null,
            "align_items": null,
            "align_self": null,
            "border": null,
            "bottom": null,
            "display": null,
            "flex": null,
            "flex_flow": null,
            "grid_area": null,
            "grid_auto_columns": null,
            "grid_auto_flow": null,
            "grid_auto_rows": null,
            "grid_column": null,
            "grid_gap": null,
            "grid_row": null,
            "grid_template_areas": null,
            "grid_template_columns": null,
            "grid_template_rows": null,
            "height": null,
            "justify_content": null,
            "justify_items": null,
            "left": null,
            "margin": null,
            "max_height": null,
            "max_width": null,
            "min_height": null,
            "min_width": null,
            "object_fit": null,
            "object_position": null,
            "order": null,
            "overflow": null,
            "overflow_x": null,
            "overflow_y": null,
            "padding": null,
            "right": null,
            "top": null,
            "visibility": null,
            "width": null
          }
        },
        "d3e3c57f4e5f48c188f824baa4e8f931": {
          "model_module": "@jupyter-widgets/base",
          "model_name": "LayoutModel",
          "model_module_version": "1.2.0",
          "state": {
            "_model_module": "@jupyter-widgets/base",
            "_model_module_version": "1.2.0",
            "_model_name": "LayoutModel",
            "_view_count": null,
            "_view_module": "@jupyter-widgets/base",
            "_view_module_version": "1.2.0",
            "_view_name": "LayoutView",
            "align_content": null,
            "align_items": null,
            "align_self": null,
            "border": null,
            "bottom": null,
            "display": null,
            "flex": null,
            "flex_flow": null,
            "grid_area": null,
            "grid_auto_columns": null,
            "grid_auto_flow": null,
            "grid_auto_rows": null,
            "grid_column": null,
            "grid_gap": null,
            "grid_row": null,
            "grid_template_areas": null,
            "grid_template_columns": null,
            "grid_template_rows": null,
            "height": null,
            "justify_content": null,
            "justify_items": null,
            "left": null,
            "margin": null,
            "max_height": null,
            "max_width": null,
            "min_height": null,
            "min_width": null,
            "object_fit": null,
            "object_position": null,
            "order": null,
            "overflow": null,
            "overflow_x": null,
            "overflow_y": null,
            "padding": null,
            "right": null,
            "top": null,
            "visibility": null,
            "width": null
          }
        },
        "3182ab508ad04e62a3b6ff6fd878d463": {
          "model_module": "@jupyter-widgets/controls",
          "model_name": "DescriptionStyleModel",
          "model_module_version": "1.5.0",
          "state": {
            "_model_module": "@jupyter-widgets/controls",
            "_model_module_version": "1.5.0",
            "_model_name": "DescriptionStyleModel",
            "_view_count": null,
            "_view_module": "@jupyter-widgets/base",
            "_view_module_version": "1.2.0",
            "_view_name": "StyleView",
            "description_width": ""
          }
        },
        "0a32f10246484e63bcdc9fffbd8bbb84": {
          "model_module": "@jupyter-widgets/base",
          "model_name": "LayoutModel",
          "model_module_version": "1.2.0",
          "state": {
            "_model_module": "@jupyter-widgets/base",
            "_model_module_version": "1.2.0",
            "_model_name": "LayoutModel",
            "_view_count": null,
            "_view_module": "@jupyter-widgets/base",
            "_view_module_version": "1.2.0",
            "_view_name": "LayoutView",
            "align_content": null,
            "align_items": null,
            "align_self": null,
            "border": null,
            "bottom": null,
            "display": null,
            "flex": null,
            "flex_flow": null,
            "grid_area": null,
            "grid_auto_columns": null,
            "grid_auto_flow": null,
            "grid_auto_rows": null,
            "grid_column": null,
            "grid_gap": null,
            "grid_row": null,
            "grid_template_areas": null,
            "grid_template_columns": null,
            "grid_template_rows": null,
            "height": null,
            "justify_content": null,
            "justify_items": null,
            "left": null,
            "margin": null,
            "max_height": null,
            "max_width": null,
            "min_height": null,
            "min_width": null,
            "object_fit": null,
            "object_position": null,
            "order": null,
            "overflow": null,
            "overflow_x": null,
            "overflow_y": null,
            "padding": null,
            "right": null,
            "top": null,
            "visibility": null,
            "width": null
          }
        },
        "4aef790fb54c470bbd57c251ae35ee46": {
          "model_module": "@jupyter-widgets/controls",
          "model_name": "ProgressStyleModel",
          "model_module_version": "1.5.0",
          "state": {
            "_model_module": "@jupyter-widgets/controls",
            "_model_module_version": "1.5.0",
            "_model_name": "ProgressStyleModel",
            "_view_count": null,
            "_view_module": "@jupyter-widgets/base",
            "_view_module_version": "1.2.0",
            "_view_name": "StyleView",
            "bar_color": null,
            "description_width": ""
          }
        },
        "94e2ea305ab945e4b2995b46f7181cf0": {
          "model_module": "@jupyter-widgets/base",
          "model_name": "LayoutModel",
          "model_module_version": "1.2.0",
          "state": {
            "_model_module": "@jupyter-widgets/base",
            "_model_module_version": "1.2.0",
            "_model_name": "LayoutModel",
            "_view_count": null,
            "_view_module": "@jupyter-widgets/base",
            "_view_module_version": "1.2.0",
            "_view_name": "LayoutView",
            "align_content": null,
            "align_items": null,
            "align_self": null,
            "border": null,
            "bottom": null,
            "display": null,
            "flex": null,
            "flex_flow": null,
            "grid_area": null,
            "grid_auto_columns": null,
            "grid_auto_flow": null,
            "grid_auto_rows": null,
            "grid_column": null,
            "grid_gap": null,
            "grid_row": null,
            "grid_template_areas": null,
            "grid_template_columns": null,
            "grid_template_rows": null,
            "height": null,
            "justify_content": null,
            "justify_items": null,
            "left": null,
            "margin": null,
            "max_height": null,
            "max_width": null,
            "min_height": null,
            "min_width": null,
            "object_fit": null,
            "object_position": null,
            "order": null,
            "overflow": null,
            "overflow_x": null,
            "overflow_y": null,
            "padding": null,
            "right": null,
            "top": null,
            "visibility": null,
            "width": null
          }
        },
        "e02bb1ece47a40d4bd99add9a5f9194b": {
          "model_module": "@jupyter-widgets/controls",
          "model_name": "DescriptionStyleModel",
          "model_module_version": "1.5.0",
          "state": {
            "_model_module": "@jupyter-widgets/controls",
            "_model_module_version": "1.5.0",
            "_model_name": "DescriptionStyleModel",
            "_view_count": null,
            "_view_module": "@jupyter-widgets/base",
            "_view_module_version": "1.2.0",
            "_view_name": "StyleView",
            "description_width": ""
          }
        },
        "9c5c8f86c9274a08a23b219c6605306f": {
          "model_module": "@jupyter-widgets/controls",
          "model_name": "HBoxModel",
          "model_module_version": "1.5.0",
          "state": {
            "_dom_classes": [],
            "_model_module": "@jupyter-widgets/controls",
            "_model_module_version": "1.5.0",
            "_model_name": "HBoxModel",
            "_view_count": null,
            "_view_module": "@jupyter-widgets/controls",
            "_view_module_version": "1.5.0",
            "_view_name": "HBoxView",
            "box_style": "",
            "children": [
              "IPY_MODEL_ee91e04edeec4aeb8aec9802d2516fd7",
              "IPY_MODEL_861d2014e03c46d1beaf02cfeecba2d0",
              "IPY_MODEL_7061c64e872c4e3a8d7e0239252c4fc8"
            ],
            "layout": "IPY_MODEL_b9d6900ff45b4f5c8b3c636d9225e9ea"
          }
        },
        "ee91e04edeec4aeb8aec9802d2516fd7": {
          "model_module": "@jupyter-widgets/controls",
          "model_name": "HTMLModel",
          "model_module_version": "1.5.0",
          "state": {
            "_dom_classes": [],
            "_model_module": "@jupyter-widgets/controls",
            "_model_module_version": "1.5.0",
            "_model_name": "HTMLModel",
            "_view_count": null,
            "_view_module": "@jupyter-widgets/controls",
            "_view_module_version": "1.5.0",
            "_view_name": "HTMLView",
            "description": "",
            "description_tooltip": null,
            "layout": "IPY_MODEL_2d10c05d7df6430c87215f8dc848a878",
            "placeholder": "​",
            "style": "IPY_MODEL_7a7b05292cc647c8bf3a37dea8481a34",
            "value": "100%"
          }
        },
        "861d2014e03c46d1beaf02cfeecba2d0": {
          "model_module": "@jupyter-widgets/controls",
          "model_name": "FloatProgressModel",
          "model_module_version": "1.5.0",
          "state": {
            "_dom_classes": [],
            "_model_module": "@jupyter-widgets/controls",
            "_model_module_version": "1.5.0",
            "_model_name": "FloatProgressModel",
            "_view_count": null,
            "_view_module": "@jupyter-widgets/controls",
            "_view_module_version": "1.5.0",
            "_view_name": "ProgressView",
            "bar_style": "success",
            "description": "",
            "description_tooltip": null,
            "layout": "IPY_MODEL_50f55afc8e154359b6c480bf8a0fb8bb",
            "max": 100,
            "min": 0,
            "orientation": "horizontal",
            "style": "IPY_MODEL_39919b39fb3d4db48700436c7ef5551b",
            "value": 100
          }
        },
        "7061c64e872c4e3a8d7e0239252c4fc8": {
          "model_module": "@jupyter-widgets/controls",
          "model_name": "HTMLModel",
          "model_module_version": "1.5.0",
          "state": {
            "_dom_classes": [],
            "_model_module": "@jupyter-widgets/controls",
            "_model_module_version": "1.5.0",
            "_model_name": "HTMLModel",
            "_view_count": null,
            "_view_module": "@jupyter-widgets/controls",
            "_view_module_version": "1.5.0",
            "_view_name": "HTMLView",
            "description": "",
            "description_tooltip": null,
            "layout": "IPY_MODEL_9ded69e2cf8549de97c94ebae6f98464",
            "placeholder": "​",
            "style": "IPY_MODEL_6e6442c8d26e484dbf7546b309476f34",
            "value": " 100/100 [00:36&lt;00:00,  3.13it/s]"
          }
        },
        "b9d6900ff45b4f5c8b3c636d9225e9ea": {
          "model_module": "@jupyter-widgets/base",
          "model_name": "LayoutModel",
          "model_module_version": "1.2.0",
          "state": {
            "_model_module": "@jupyter-widgets/base",
            "_model_module_version": "1.2.0",
            "_model_name": "LayoutModel",
            "_view_count": null,
            "_view_module": "@jupyter-widgets/base",
            "_view_module_version": "1.2.0",
            "_view_name": "LayoutView",
            "align_content": null,
            "align_items": null,
            "align_self": null,
            "border": null,
            "bottom": null,
            "display": null,
            "flex": null,
            "flex_flow": null,
            "grid_area": null,
            "grid_auto_columns": null,
            "grid_auto_flow": null,
            "grid_auto_rows": null,
            "grid_column": null,
            "grid_gap": null,
            "grid_row": null,
            "grid_template_areas": null,
            "grid_template_columns": null,
            "grid_template_rows": null,
            "height": null,
            "justify_content": null,
            "justify_items": null,
            "left": null,
            "margin": null,
            "max_height": null,
            "max_width": null,
            "min_height": null,
            "min_width": null,
            "object_fit": null,
            "object_position": null,
            "order": null,
            "overflow": null,
            "overflow_x": null,
            "overflow_y": null,
            "padding": null,
            "right": null,
            "top": null,
            "visibility": null,
            "width": null
          }
        },
        "2d10c05d7df6430c87215f8dc848a878": {
          "model_module": "@jupyter-widgets/base",
          "model_name": "LayoutModel",
          "model_module_version": "1.2.0",
          "state": {
            "_model_module": "@jupyter-widgets/base",
            "_model_module_version": "1.2.0",
            "_model_name": "LayoutModel",
            "_view_count": null,
            "_view_module": "@jupyter-widgets/base",
            "_view_module_version": "1.2.0",
            "_view_name": "LayoutView",
            "align_content": null,
            "align_items": null,
            "align_self": null,
            "border": null,
            "bottom": null,
            "display": null,
            "flex": null,
            "flex_flow": null,
            "grid_area": null,
            "grid_auto_columns": null,
            "grid_auto_flow": null,
            "grid_auto_rows": null,
            "grid_column": null,
            "grid_gap": null,
            "grid_row": null,
            "grid_template_areas": null,
            "grid_template_columns": null,
            "grid_template_rows": null,
            "height": null,
            "justify_content": null,
            "justify_items": null,
            "left": null,
            "margin": null,
            "max_height": null,
            "max_width": null,
            "min_height": null,
            "min_width": null,
            "object_fit": null,
            "object_position": null,
            "order": null,
            "overflow": null,
            "overflow_x": null,
            "overflow_y": null,
            "padding": null,
            "right": null,
            "top": null,
            "visibility": null,
            "width": null
          }
        },
        "7a7b05292cc647c8bf3a37dea8481a34": {
          "model_module": "@jupyter-widgets/controls",
          "model_name": "DescriptionStyleModel",
          "model_module_version": "1.5.0",
          "state": {
            "_model_module": "@jupyter-widgets/controls",
            "_model_module_version": "1.5.0",
            "_model_name": "DescriptionStyleModel",
            "_view_count": null,
            "_view_module": "@jupyter-widgets/base",
            "_view_module_version": "1.2.0",
            "_view_name": "StyleView",
            "description_width": ""
          }
        },
        "50f55afc8e154359b6c480bf8a0fb8bb": {
          "model_module": "@jupyter-widgets/base",
          "model_name": "LayoutModel",
          "model_module_version": "1.2.0",
          "state": {
            "_model_module": "@jupyter-widgets/base",
            "_model_module_version": "1.2.0",
            "_model_name": "LayoutModel",
            "_view_count": null,
            "_view_module": "@jupyter-widgets/base",
            "_view_module_version": "1.2.0",
            "_view_name": "LayoutView",
            "align_content": null,
            "align_items": null,
            "align_self": null,
            "border": null,
            "bottom": null,
            "display": null,
            "flex": null,
            "flex_flow": null,
            "grid_area": null,
            "grid_auto_columns": null,
            "grid_auto_flow": null,
            "grid_auto_rows": null,
            "grid_column": null,
            "grid_gap": null,
            "grid_row": null,
            "grid_template_areas": null,
            "grid_template_columns": null,
            "grid_template_rows": null,
            "height": null,
            "justify_content": null,
            "justify_items": null,
            "left": null,
            "margin": null,
            "max_height": null,
            "max_width": null,
            "min_height": null,
            "min_width": null,
            "object_fit": null,
            "object_position": null,
            "order": null,
            "overflow": null,
            "overflow_x": null,
            "overflow_y": null,
            "padding": null,
            "right": null,
            "top": null,
            "visibility": null,
            "width": null
          }
        },
        "39919b39fb3d4db48700436c7ef5551b": {
          "model_module": "@jupyter-widgets/controls",
          "model_name": "ProgressStyleModel",
          "model_module_version": "1.5.0",
          "state": {
            "_model_module": "@jupyter-widgets/controls",
            "_model_module_version": "1.5.0",
            "_model_name": "ProgressStyleModel",
            "_view_count": null,
            "_view_module": "@jupyter-widgets/base",
            "_view_module_version": "1.2.0",
            "_view_name": "StyleView",
            "bar_color": null,
            "description_width": ""
          }
        },
        "9ded69e2cf8549de97c94ebae6f98464": {
          "model_module": "@jupyter-widgets/base",
          "model_name": "LayoutModel",
          "model_module_version": "1.2.0",
          "state": {
            "_model_module": "@jupyter-widgets/base",
            "_model_module_version": "1.2.0",
            "_model_name": "LayoutModel",
            "_view_count": null,
            "_view_module": "@jupyter-widgets/base",
            "_view_module_version": "1.2.0",
            "_view_name": "LayoutView",
            "align_content": null,
            "align_items": null,
            "align_self": null,
            "border": null,
            "bottom": null,
            "display": null,
            "flex": null,
            "flex_flow": null,
            "grid_area": null,
            "grid_auto_columns": null,
            "grid_auto_flow": null,
            "grid_auto_rows": null,
            "grid_column": null,
            "grid_gap": null,
            "grid_row": null,
            "grid_template_areas": null,
            "grid_template_columns": null,
            "grid_template_rows": null,
            "height": null,
            "justify_content": null,
            "justify_items": null,
            "left": null,
            "margin": null,
            "max_height": null,
            "max_width": null,
            "min_height": null,
            "min_width": null,
            "object_fit": null,
            "object_position": null,
            "order": null,
            "overflow": null,
            "overflow_x": null,
            "overflow_y": null,
            "padding": null,
            "right": null,
            "top": null,
            "visibility": null,
            "width": null
          }
        },
        "6e6442c8d26e484dbf7546b309476f34": {
          "model_module": "@jupyter-widgets/controls",
          "model_name": "DescriptionStyleModel",
          "model_module_version": "1.5.0",
          "state": {
            "_model_module": "@jupyter-widgets/controls",
            "_model_module_version": "1.5.0",
            "_model_name": "DescriptionStyleModel",
            "_view_count": null,
            "_view_module": "@jupyter-widgets/base",
            "_view_module_version": "1.2.0",
            "_view_name": "StyleView",
            "description_width": ""
          }
        },
        "ecbd45019e0044f5a986409c7c4e5f6e": {
          "model_module": "@jupyter-widgets/controls",
          "model_name": "HBoxModel",
          "model_module_version": "1.5.0",
          "state": {
            "_dom_classes": [],
            "_model_module": "@jupyter-widgets/controls",
            "_model_module_version": "1.5.0",
            "_model_name": "HBoxModel",
            "_view_count": null,
            "_view_module": "@jupyter-widgets/controls",
            "_view_module_version": "1.5.0",
            "_view_name": "HBoxView",
            "box_style": "",
            "children": [
              "IPY_MODEL_c8b784d790f24bc9829f4cf5a5beacb8",
              "IPY_MODEL_cee8d781881947f3ad05e145647bd91d",
              "IPY_MODEL_c732b3c878cf4c74b6e9ad54c7a96e1e"
            ],
            "layout": "IPY_MODEL_a60a39278f0f4c0f8313f3188d922e88"
          }
        },
        "c8b784d790f24bc9829f4cf5a5beacb8": {
          "model_module": "@jupyter-widgets/controls",
          "model_name": "HTMLModel",
          "model_module_version": "1.5.0",
          "state": {
            "_dom_classes": [],
            "_model_module": "@jupyter-widgets/controls",
            "_model_module_version": "1.5.0",
            "_model_name": "HTMLModel",
            "_view_count": null,
            "_view_module": "@jupyter-widgets/controls",
            "_view_module_version": "1.5.0",
            "_view_name": "HTMLView",
            "description": "",
            "description_tooltip": null,
            "layout": "IPY_MODEL_3494e30b74d342f0ae8db3780e4c082d",
            "placeholder": "​",
            "style": "IPY_MODEL_5a82ca88608d4d5baaf9fb078bc1a16c",
            "value": "100%"
          }
        },
        "cee8d781881947f3ad05e145647bd91d": {
          "model_module": "@jupyter-widgets/controls",
          "model_name": "FloatProgressModel",
          "model_module_version": "1.5.0",
          "state": {
            "_dom_classes": [],
            "_model_module": "@jupyter-widgets/controls",
            "_model_module_version": "1.5.0",
            "_model_name": "FloatProgressModel",
            "_view_count": null,
            "_view_module": "@jupyter-widgets/controls",
            "_view_module_version": "1.5.0",
            "_view_name": "ProgressView",
            "bar_style": "success",
            "description": "",
            "description_tooltip": null,
            "layout": "IPY_MODEL_f3050c0e73b249519d42122d27076b48",
            "max": 250,
            "min": 0,
            "orientation": "horizontal",
            "style": "IPY_MODEL_7b66799eed6d41d38d54a16d8a59cc00",
            "value": 250
          }
        },
        "c732b3c878cf4c74b6e9ad54c7a96e1e": {
          "model_module": "@jupyter-widgets/controls",
          "model_name": "HTMLModel",
          "model_module_version": "1.5.0",
          "state": {
            "_dom_classes": [],
            "_model_module": "@jupyter-widgets/controls",
            "_model_module_version": "1.5.0",
            "_model_name": "HTMLModel",
            "_view_count": null,
            "_view_module": "@jupyter-widgets/controls",
            "_view_module_version": "1.5.0",
            "_view_name": "HTMLView",
            "description": "",
            "description_tooltip": null,
            "layout": "IPY_MODEL_14cc6ed675d74521bfe1be86071f1586",
            "placeholder": "​",
            "style": "IPY_MODEL_dbec582344a242228c7a3273b73400cb",
            "value": " 250/250 [00:32&lt;00:00,  8.87it/s]"
          }
        },
        "a60a39278f0f4c0f8313f3188d922e88": {
          "model_module": "@jupyter-widgets/base",
          "model_name": "LayoutModel",
          "model_module_version": "1.2.0",
          "state": {
            "_model_module": "@jupyter-widgets/base",
            "_model_module_version": "1.2.0",
            "_model_name": "LayoutModel",
            "_view_count": null,
            "_view_module": "@jupyter-widgets/base",
            "_view_module_version": "1.2.0",
            "_view_name": "LayoutView",
            "align_content": null,
            "align_items": null,
            "align_self": null,
            "border": null,
            "bottom": null,
            "display": null,
            "flex": null,
            "flex_flow": null,
            "grid_area": null,
            "grid_auto_columns": null,
            "grid_auto_flow": null,
            "grid_auto_rows": null,
            "grid_column": null,
            "grid_gap": null,
            "grid_row": null,
            "grid_template_areas": null,
            "grid_template_columns": null,
            "grid_template_rows": null,
            "height": null,
            "justify_content": null,
            "justify_items": null,
            "left": null,
            "margin": null,
            "max_height": null,
            "max_width": null,
            "min_height": null,
            "min_width": null,
            "object_fit": null,
            "object_position": null,
            "order": null,
            "overflow": null,
            "overflow_x": null,
            "overflow_y": null,
            "padding": null,
            "right": null,
            "top": null,
            "visibility": null,
            "width": null
          }
        },
        "3494e30b74d342f0ae8db3780e4c082d": {
          "model_module": "@jupyter-widgets/base",
          "model_name": "LayoutModel",
          "model_module_version": "1.2.0",
          "state": {
            "_model_module": "@jupyter-widgets/base",
            "_model_module_version": "1.2.0",
            "_model_name": "LayoutModel",
            "_view_count": null,
            "_view_module": "@jupyter-widgets/base",
            "_view_module_version": "1.2.0",
            "_view_name": "LayoutView",
            "align_content": null,
            "align_items": null,
            "align_self": null,
            "border": null,
            "bottom": null,
            "display": null,
            "flex": null,
            "flex_flow": null,
            "grid_area": null,
            "grid_auto_columns": null,
            "grid_auto_flow": null,
            "grid_auto_rows": null,
            "grid_column": null,
            "grid_gap": null,
            "grid_row": null,
            "grid_template_areas": null,
            "grid_template_columns": null,
            "grid_template_rows": null,
            "height": null,
            "justify_content": null,
            "justify_items": null,
            "left": null,
            "margin": null,
            "max_height": null,
            "max_width": null,
            "min_height": null,
            "min_width": null,
            "object_fit": null,
            "object_position": null,
            "order": null,
            "overflow": null,
            "overflow_x": null,
            "overflow_y": null,
            "padding": null,
            "right": null,
            "top": null,
            "visibility": null,
            "width": null
          }
        },
        "5a82ca88608d4d5baaf9fb078bc1a16c": {
          "model_module": "@jupyter-widgets/controls",
          "model_name": "DescriptionStyleModel",
          "model_module_version": "1.5.0",
          "state": {
            "_model_module": "@jupyter-widgets/controls",
            "_model_module_version": "1.5.0",
            "_model_name": "DescriptionStyleModel",
            "_view_count": null,
            "_view_module": "@jupyter-widgets/base",
            "_view_module_version": "1.2.0",
            "_view_name": "StyleView",
            "description_width": ""
          }
        },
        "f3050c0e73b249519d42122d27076b48": {
          "model_module": "@jupyter-widgets/base",
          "model_name": "LayoutModel",
          "model_module_version": "1.2.0",
          "state": {
            "_model_module": "@jupyter-widgets/base",
            "_model_module_version": "1.2.0",
            "_model_name": "LayoutModel",
            "_view_count": null,
            "_view_module": "@jupyter-widgets/base",
            "_view_module_version": "1.2.0",
            "_view_name": "LayoutView",
            "align_content": null,
            "align_items": null,
            "align_self": null,
            "border": null,
            "bottom": null,
            "display": null,
            "flex": null,
            "flex_flow": null,
            "grid_area": null,
            "grid_auto_columns": null,
            "grid_auto_flow": null,
            "grid_auto_rows": null,
            "grid_column": null,
            "grid_gap": null,
            "grid_row": null,
            "grid_template_areas": null,
            "grid_template_columns": null,
            "grid_template_rows": null,
            "height": null,
            "justify_content": null,
            "justify_items": null,
            "left": null,
            "margin": null,
            "max_height": null,
            "max_width": null,
            "min_height": null,
            "min_width": null,
            "object_fit": null,
            "object_position": null,
            "order": null,
            "overflow": null,
            "overflow_x": null,
            "overflow_y": null,
            "padding": null,
            "right": null,
            "top": null,
            "visibility": null,
            "width": null
          }
        },
        "7b66799eed6d41d38d54a16d8a59cc00": {
          "model_module": "@jupyter-widgets/controls",
          "model_name": "ProgressStyleModel",
          "model_module_version": "1.5.0",
          "state": {
            "_model_module": "@jupyter-widgets/controls",
            "_model_module_version": "1.5.0",
            "_model_name": "ProgressStyleModel",
            "_view_count": null,
            "_view_module": "@jupyter-widgets/base",
            "_view_module_version": "1.2.0",
            "_view_name": "StyleView",
            "bar_color": null,
            "description_width": ""
          }
        },
        "14cc6ed675d74521bfe1be86071f1586": {
          "model_module": "@jupyter-widgets/base",
          "model_name": "LayoutModel",
          "model_module_version": "1.2.0",
          "state": {
            "_model_module": "@jupyter-widgets/base",
            "_model_module_version": "1.2.0",
            "_model_name": "LayoutModel",
            "_view_count": null,
            "_view_module": "@jupyter-widgets/base",
            "_view_module_version": "1.2.0",
            "_view_name": "LayoutView",
            "align_content": null,
            "align_items": null,
            "align_self": null,
            "border": null,
            "bottom": null,
            "display": null,
            "flex": null,
            "flex_flow": null,
            "grid_area": null,
            "grid_auto_columns": null,
            "grid_auto_flow": null,
            "grid_auto_rows": null,
            "grid_column": null,
            "grid_gap": null,
            "grid_row": null,
            "grid_template_areas": null,
            "grid_template_columns": null,
            "grid_template_rows": null,
            "height": null,
            "justify_content": null,
            "justify_items": null,
            "left": null,
            "margin": null,
            "max_height": null,
            "max_width": null,
            "min_height": null,
            "min_width": null,
            "object_fit": null,
            "object_position": null,
            "order": null,
            "overflow": null,
            "overflow_x": null,
            "overflow_y": null,
            "padding": null,
            "right": null,
            "top": null,
            "visibility": null,
            "width": null
          }
        },
        "dbec582344a242228c7a3273b73400cb": {
          "model_module": "@jupyter-widgets/controls",
          "model_name": "DescriptionStyleModel",
          "model_module_version": "1.5.0",
          "state": {
            "_model_module": "@jupyter-widgets/controls",
            "_model_module_version": "1.5.0",
            "_model_name": "DescriptionStyleModel",
            "_view_count": null,
            "_view_module": "@jupyter-widgets/base",
            "_view_module_version": "1.2.0",
            "_view_name": "StyleView",
            "description_width": ""
          }
        }
      }
    }
  },
  "cells": [
    {
      "cell_type": "markdown",
      "metadata": {
        "id": "view-in-github",
        "colab_type": "text"
      },
      "source": [
        "<a href=\"https://colab.research.google.com/github/edogriba/NAML-2024/blob/main/AutoEncoderForFraudDetection.ipynb\" target=\"_parent\"><img src=\"https://colab.research.google.com/assets/colab-badge.svg\" alt=\"Open In Colab\"/></a>"
      ]
    },
    {
      "cell_type": "markdown",
      "source": [
        "# Credit Card Fraud Detection System using Autoencoders\n",
        "*Project for Numerical Analysis for Machine Learning*"
      ],
      "metadata": {
        "id": "L3V-jix0u6s_"
      }
    },
    {
      "cell_type": "markdown",
      "source": [
        "## Framing the problem"
      ],
      "metadata": {
        "id": "wEDy05J80JB5"
      }
    },
    {
      "cell_type": "code",
      "execution_count": 1,
      "metadata": {
        "id": "KT33E2X-Zt3v"
      },
      "outputs": [],
      "source": [
        "import pandas as pd\n",
        "import numpy as np\n",
        "import seaborn as sns\n",
        "import matplotlib.pyplot as plt\n",
        "import jax\n",
        "import jax.numpy as jnp\n",
        "from jax import grad\n",
        "from jax import random\n",
        "from tqdm.notebook import tqdm\n",
        "import time\n",
        "from sklearn.manifold import TSNE\n",
        "from sklearn.metrics import confusion_matrix\n",
        "from sklearn.metrics import ConfusionMatrixDisplay"
      ]
    },
    {
      "cell_type": "code",
      "source": [
        "!kaggle datasets download -d mlg-ulb/creditcardfraud\n",
        "!unzip creditcardfraud.zip"
      ],
      "metadata": {
        "colab": {
          "base_uri": "https://localhost:8080/"
        },
        "id": "GxeM7CnVusI9",
        "outputId": "97b2c8b2-6c21-4305-9a9e-602d436f99b9"
      },
      "execution_count": 2,
      "outputs": [
        {
          "output_type": "stream",
          "name": "stdout",
          "text": [
            "Dataset URL: https://www.kaggle.com/datasets/mlg-ulb/creditcardfraud\n",
            "License(s): DbCL-1.0\n",
            "Downloading creditcardfraud.zip to /content\n",
            " 88% 58.0M/66.0M [00:00<00:00, 107MB/s]\n",
            "100% 66.0M/66.0M [00:00<00:00, 103MB/s]\n",
            "Archive:  creditcardfraud.zip\n",
            "  inflating: creditcard.csv          \n"
          ]
        }
      ]
    },
    {
      "cell_type": "code",
      "source": [
        "df = pd.read_csv('creditcard.csv')"
      ],
      "metadata": {
        "id": "zYONupi8uqQp"
      },
      "execution_count": 3,
      "outputs": []
    },
    {
      "cell_type": "code",
      "source": [
        "df.describe()"
      ],
      "metadata": {
        "colab": {
          "base_uri": "https://localhost:8080/",
          "height": 350
        },
        "id": "34cymra8umxu",
        "outputId": "9ed440e6-3268-4910-e147-434f291a0183"
      },
      "execution_count": 4,
      "outputs": [
        {
          "output_type": "execute_result",
          "data": {
            "text/plain": [
              "                Time            V1            V2            V3            V4  \\\n",
              "count  284807.000000  2.848070e+05  2.848070e+05  2.848070e+05  2.848070e+05   \n",
              "mean    94813.859575  1.168375e-15  3.416908e-16 -1.379537e-15  2.074095e-15   \n",
              "std     47488.145955  1.958696e+00  1.651309e+00  1.516255e+00  1.415869e+00   \n",
              "min         0.000000 -5.640751e+01 -7.271573e+01 -4.832559e+01 -5.683171e+00   \n",
              "25%     54201.500000 -9.203734e-01 -5.985499e-01 -8.903648e-01 -8.486401e-01   \n",
              "50%     84692.000000  1.810880e-02  6.548556e-02  1.798463e-01 -1.984653e-02   \n",
              "75%    139320.500000  1.315642e+00  8.037239e-01  1.027196e+00  7.433413e-01   \n",
              "max    172792.000000  2.454930e+00  2.205773e+01  9.382558e+00  1.687534e+01   \n",
              "\n",
              "                 V5            V6            V7            V8            V9  \\\n",
              "count  2.848070e+05  2.848070e+05  2.848070e+05  2.848070e+05  2.848070e+05   \n",
              "mean   9.604066e-16  1.487313e-15 -5.556467e-16  1.213481e-16 -2.406331e-15   \n",
              "std    1.380247e+00  1.332271e+00  1.237094e+00  1.194353e+00  1.098632e+00   \n",
              "min   -1.137433e+02 -2.616051e+01 -4.355724e+01 -7.321672e+01 -1.343407e+01   \n",
              "25%   -6.915971e-01 -7.682956e-01 -5.540759e-01 -2.086297e-01 -6.430976e-01   \n",
              "50%   -5.433583e-02 -2.741871e-01  4.010308e-02  2.235804e-02 -5.142873e-02   \n",
              "75%    6.119264e-01  3.985649e-01  5.704361e-01  3.273459e-01  5.971390e-01   \n",
              "max    3.480167e+01  7.330163e+01  1.205895e+02  2.000721e+01  1.559499e+01   \n",
              "\n",
              "       ...           V21           V22           V23           V24  \\\n",
              "count  ...  2.848070e+05  2.848070e+05  2.848070e+05  2.848070e+05   \n",
              "mean   ...  1.654067e-16 -3.568593e-16  2.578648e-16  4.473266e-15   \n",
              "std    ...  7.345240e-01  7.257016e-01  6.244603e-01  6.056471e-01   \n",
              "min    ... -3.483038e+01 -1.093314e+01 -4.480774e+01 -2.836627e+00   \n",
              "25%    ... -2.283949e-01 -5.423504e-01 -1.618463e-01 -3.545861e-01   \n",
              "50%    ... -2.945017e-02  6.781943e-03 -1.119293e-02  4.097606e-02   \n",
              "75%    ...  1.863772e-01  5.285536e-01  1.476421e-01  4.395266e-01   \n",
              "max    ...  2.720284e+01  1.050309e+01  2.252841e+01  4.584549e+00   \n",
              "\n",
              "                V25           V26           V27           V28         Amount  \\\n",
              "count  2.848070e+05  2.848070e+05  2.848070e+05  2.848070e+05  284807.000000   \n",
              "mean   5.340915e-16  1.683437e-15 -3.660091e-16 -1.227390e-16      88.349619   \n",
              "std    5.212781e-01  4.822270e-01  4.036325e-01  3.300833e-01     250.120109   \n",
              "min   -1.029540e+01 -2.604551e+00 -2.256568e+01 -1.543008e+01       0.000000   \n",
              "25%   -3.171451e-01 -3.269839e-01 -7.083953e-02 -5.295979e-02       5.600000   \n",
              "50%    1.659350e-02 -5.213911e-02  1.342146e-03  1.124383e-02      22.000000   \n",
              "75%    3.507156e-01  2.409522e-01  9.104512e-02  7.827995e-02      77.165000   \n",
              "max    7.519589e+00  3.517346e+00  3.161220e+01  3.384781e+01   25691.160000   \n",
              "\n",
              "               Class  \n",
              "count  284807.000000  \n",
              "mean        0.001727  \n",
              "std         0.041527  \n",
              "min         0.000000  \n",
              "25%         0.000000  \n",
              "50%         0.000000  \n",
              "75%         0.000000  \n",
              "max         1.000000  \n",
              "\n",
              "[8 rows x 31 columns]"
            ],
            "text/html": [
              "\n",
              "  <div id=\"df-331096f5-7f87-4b56-bac4-e7ef65c0b876\" class=\"colab-df-container\">\n",
              "    <div>\n",
              "<style scoped>\n",
              "    .dataframe tbody tr th:only-of-type {\n",
              "        vertical-align: middle;\n",
              "    }\n",
              "\n",
              "    .dataframe tbody tr th {\n",
              "        vertical-align: top;\n",
              "    }\n",
              "\n",
              "    .dataframe thead th {\n",
              "        text-align: right;\n",
              "    }\n",
              "</style>\n",
              "<table border=\"1\" class=\"dataframe\">\n",
              "  <thead>\n",
              "    <tr style=\"text-align: right;\">\n",
              "      <th></th>\n",
              "      <th>Time</th>\n",
              "      <th>V1</th>\n",
              "      <th>V2</th>\n",
              "      <th>V3</th>\n",
              "      <th>V4</th>\n",
              "      <th>V5</th>\n",
              "      <th>V6</th>\n",
              "      <th>V7</th>\n",
              "      <th>V8</th>\n",
              "      <th>V9</th>\n",
              "      <th>...</th>\n",
              "      <th>V21</th>\n",
              "      <th>V22</th>\n",
              "      <th>V23</th>\n",
              "      <th>V24</th>\n",
              "      <th>V25</th>\n",
              "      <th>V26</th>\n",
              "      <th>V27</th>\n",
              "      <th>V28</th>\n",
              "      <th>Amount</th>\n",
              "      <th>Class</th>\n",
              "    </tr>\n",
              "  </thead>\n",
              "  <tbody>\n",
              "    <tr>\n",
              "      <th>count</th>\n",
              "      <td>284807.000000</td>\n",
              "      <td>2.848070e+05</td>\n",
              "      <td>2.848070e+05</td>\n",
              "      <td>2.848070e+05</td>\n",
              "      <td>2.848070e+05</td>\n",
              "      <td>2.848070e+05</td>\n",
              "      <td>2.848070e+05</td>\n",
              "      <td>2.848070e+05</td>\n",
              "      <td>2.848070e+05</td>\n",
              "      <td>2.848070e+05</td>\n",
              "      <td>...</td>\n",
              "      <td>2.848070e+05</td>\n",
              "      <td>2.848070e+05</td>\n",
              "      <td>2.848070e+05</td>\n",
              "      <td>2.848070e+05</td>\n",
              "      <td>2.848070e+05</td>\n",
              "      <td>2.848070e+05</td>\n",
              "      <td>2.848070e+05</td>\n",
              "      <td>2.848070e+05</td>\n",
              "      <td>284807.000000</td>\n",
              "      <td>284807.000000</td>\n",
              "    </tr>\n",
              "    <tr>\n",
              "      <th>mean</th>\n",
              "      <td>94813.859575</td>\n",
              "      <td>1.168375e-15</td>\n",
              "      <td>3.416908e-16</td>\n",
              "      <td>-1.379537e-15</td>\n",
              "      <td>2.074095e-15</td>\n",
              "      <td>9.604066e-16</td>\n",
              "      <td>1.487313e-15</td>\n",
              "      <td>-5.556467e-16</td>\n",
              "      <td>1.213481e-16</td>\n",
              "      <td>-2.406331e-15</td>\n",
              "      <td>...</td>\n",
              "      <td>1.654067e-16</td>\n",
              "      <td>-3.568593e-16</td>\n",
              "      <td>2.578648e-16</td>\n",
              "      <td>4.473266e-15</td>\n",
              "      <td>5.340915e-16</td>\n",
              "      <td>1.683437e-15</td>\n",
              "      <td>-3.660091e-16</td>\n",
              "      <td>-1.227390e-16</td>\n",
              "      <td>88.349619</td>\n",
              "      <td>0.001727</td>\n",
              "    </tr>\n",
              "    <tr>\n",
              "      <th>std</th>\n",
              "      <td>47488.145955</td>\n",
              "      <td>1.958696e+00</td>\n",
              "      <td>1.651309e+00</td>\n",
              "      <td>1.516255e+00</td>\n",
              "      <td>1.415869e+00</td>\n",
              "      <td>1.380247e+00</td>\n",
              "      <td>1.332271e+00</td>\n",
              "      <td>1.237094e+00</td>\n",
              "      <td>1.194353e+00</td>\n",
              "      <td>1.098632e+00</td>\n",
              "      <td>...</td>\n",
              "      <td>7.345240e-01</td>\n",
              "      <td>7.257016e-01</td>\n",
              "      <td>6.244603e-01</td>\n",
              "      <td>6.056471e-01</td>\n",
              "      <td>5.212781e-01</td>\n",
              "      <td>4.822270e-01</td>\n",
              "      <td>4.036325e-01</td>\n",
              "      <td>3.300833e-01</td>\n",
              "      <td>250.120109</td>\n",
              "      <td>0.041527</td>\n",
              "    </tr>\n",
              "    <tr>\n",
              "      <th>min</th>\n",
              "      <td>0.000000</td>\n",
              "      <td>-5.640751e+01</td>\n",
              "      <td>-7.271573e+01</td>\n",
              "      <td>-4.832559e+01</td>\n",
              "      <td>-5.683171e+00</td>\n",
              "      <td>-1.137433e+02</td>\n",
              "      <td>-2.616051e+01</td>\n",
              "      <td>-4.355724e+01</td>\n",
              "      <td>-7.321672e+01</td>\n",
              "      <td>-1.343407e+01</td>\n",
              "      <td>...</td>\n",
              "      <td>-3.483038e+01</td>\n",
              "      <td>-1.093314e+01</td>\n",
              "      <td>-4.480774e+01</td>\n",
              "      <td>-2.836627e+00</td>\n",
              "      <td>-1.029540e+01</td>\n",
              "      <td>-2.604551e+00</td>\n",
              "      <td>-2.256568e+01</td>\n",
              "      <td>-1.543008e+01</td>\n",
              "      <td>0.000000</td>\n",
              "      <td>0.000000</td>\n",
              "    </tr>\n",
              "    <tr>\n",
              "      <th>25%</th>\n",
              "      <td>54201.500000</td>\n",
              "      <td>-9.203734e-01</td>\n",
              "      <td>-5.985499e-01</td>\n",
              "      <td>-8.903648e-01</td>\n",
              "      <td>-8.486401e-01</td>\n",
              "      <td>-6.915971e-01</td>\n",
              "      <td>-7.682956e-01</td>\n",
              "      <td>-5.540759e-01</td>\n",
              "      <td>-2.086297e-01</td>\n",
              "      <td>-6.430976e-01</td>\n",
              "      <td>...</td>\n",
              "      <td>-2.283949e-01</td>\n",
              "      <td>-5.423504e-01</td>\n",
              "      <td>-1.618463e-01</td>\n",
              "      <td>-3.545861e-01</td>\n",
              "      <td>-3.171451e-01</td>\n",
              "      <td>-3.269839e-01</td>\n",
              "      <td>-7.083953e-02</td>\n",
              "      <td>-5.295979e-02</td>\n",
              "      <td>5.600000</td>\n",
              "      <td>0.000000</td>\n",
              "    </tr>\n",
              "    <tr>\n",
              "      <th>50%</th>\n",
              "      <td>84692.000000</td>\n",
              "      <td>1.810880e-02</td>\n",
              "      <td>6.548556e-02</td>\n",
              "      <td>1.798463e-01</td>\n",
              "      <td>-1.984653e-02</td>\n",
              "      <td>-5.433583e-02</td>\n",
              "      <td>-2.741871e-01</td>\n",
              "      <td>4.010308e-02</td>\n",
              "      <td>2.235804e-02</td>\n",
              "      <td>-5.142873e-02</td>\n",
              "      <td>...</td>\n",
              "      <td>-2.945017e-02</td>\n",
              "      <td>6.781943e-03</td>\n",
              "      <td>-1.119293e-02</td>\n",
              "      <td>4.097606e-02</td>\n",
              "      <td>1.659350e-02</td>\n",
              "      <td>-5.213911e-02</td>\n",
              "      <td>1.342146e-03</td>\n",
              "      <td>1.124383e-02</td>\n",
              "      <td>22.000000</td>\n",
              "      <td>0.000000</td>\n",
              "    </tr>\n",
              "    <tr>\n",
              "      <th>75%</th>\n",
              "      <td>139320.500000</td>\n",
              "      <td>1.315642e+00</td>\n",
              "      <td>8.037239e-01</td>\n",
              "      <td>1.027196e+00</td>\n",
              "      <td>7.433413e-01</td>\n",
              "      <td>6.119264e-01</td>\n",
              "      <td>3.985649e-01</td>\n",
              "      <td>5.704361e-01</td>\n",
              "      <td>3.273459e-01</td>\n",
              "      <td>5.971390e-01</td>\n",
              "      <td>...</td>\n",
              "      <td>1.863772e-01</td>\n",
              "      <td>5.285536e-01</td>\n",
              "      <td>1.476421e-01</td>\n",
              "      <td>4.395266e-01</td>\n",
              "      <td>3.507156e-01</td>\n",
              "      <td>2.409522e-01</td>\n",
              "      <td>9.104512e-02</td>\n",
              "      <td>7.827995e-02</td>\n",
              "      <td>77.165000</td>\n",
              "      <td>0.000000</td>\n",
              "    </tr>\n",
              "    <tr>\n",
              "      <th>max</th>\n",
              "      <td>172792.000000</td>\n",
              "      <td>2.454930e+00</td>\n",
              "      <td>2.205773e+01</td>\n",
              "      <td>9.382558e+00</td>\n",
              "      <td>1.687534e+01</td>\n",
              "      <td>3.480167e+01</td>\n",
              "      <td>7.330163e+01</td>\n",
              "      <td>1.205895e+02</td>\n",
              "      <td>2.000721e+01</td>\n",
              "      <td>1.559499e+01</td>\n",
              "      <td>...</td>\n",
              "      <td>2.720284e+01</td>\n",
              "      <td>1.050309e+01</td>\n",
              "      <td>2.252841e+01</td>\n",
              "      <td>4.584549e+00</td>\n",
              "      <td>7.519589e+00</td>\n",
              "      <td>3.517346e+00</td>\n",
              "      <td>3.161220e+01</td>\n",
              "      <td>3.384781e+01</td>\n",
              "      <td>25691.160000</td>\n",
              "      <td>1.000000</td>\n",
              "    </tr>\n",
              "  </tbody>\n",
              "</table>\n",
              "<p>8 rows × 31 columns</p>\n",
              "</div>\n",
              "    <div class=\"colab-df-buttons\">\n",
              "\n",
              "  <div class=\"colab-df-container\">\n",
              "    <button class=\"colab-df-convert\" onclick=\"convertToInteractive('df-331096f5-7f87-4b56-bac4-e7ef65c0b876')\"\n",
              "            title=\"Convert this dataframe to an interactive table.\"\n",
              "            style=\"display:none;\">\n",
              "\n",
              "  <svg xmlns=\"http://www.w3.org/2000/svg\" height=\"24px\" viewBox=\"0 -960 960 960\">\n",
              "    <path d=\"M120-120v-720h720v720H120Zm60-500h600v-160H180v160Zm220 220h160v-160H400v160Zm0 220h160v-160H400v160ZM180-400h160v-160H180v160Zm440 0h160v-160H620v160ZM180-180h160v-160H180v160Zm440 0h160v-160H620v160Z\"/>\n",
              "  </svg>\n",
              "    </button>\n",
              "\n",
              "  <style>\n",
              "    .colab-df-container {\n",
              "      display:flex;\n",
              "      gap: 12px;\n",
              "    }\n",
              "\n",
              "    .colab-df-convert {\n",
              "      background-color: #E8F0FE;\n",
              "      border: none;\n",
              "      border-radius: 50%;\n",
              "      cursor: pointer;\n",
              "      display: none;\n",
              "      fill: #1967D2;\n",
              "      height: 32px;\n",
              "      padding: 0 0 0 0;\n",
              "      width: 32px;\n",
              "    }\n",
              "\n",
              "    .colab-df-convert:hover {\n",
              "      background-color: #E2EBFA;\n",
              "      box-shadow: 0px 1px 2px rgba(60, 64, 67, 0.3), 0px 1px 3px 1px rgba(60, 64, 67, 0.15);\n",
              "      fill: #174EA6;\n",
              "    }\n",
              "\n",
              "    .colab-df-buttons div {\n",
              "      margin-bottom: 4px;\n",
              "    }\n",
              "\n",
              "    [theme=dark] .colab-df-convert {\n",
              "      background-color: #3B4455;\n",
              "      fill: #D2E3FC;\n",
              "    }\n",
              "\n",
              "    [theme=dark] .colab-df-convert:hover {\n",
              "      background-color: #434B5C;\n",
              "      box-shadow: 0px 1px 3px 1px rgba(0, 0, 0, 0.15);\n",
              "      filter: drop-shadow(0px 1px 2px rgba(0, 0, 0, 0.3));\n",
              "      fill: #FFFFFF;\n",
              "    }\n",
              "  </style>\n",
              "\n",
              "    <script>\n",
              "      const buttonEl =\n",
              "        document.querySelector('#df-331096f5-7f87-4b56-bac4-e7ef65c0b876 button.colab-df-convert');\n",
              "      buttonEl.style.display =\n",
              "        google.colab.kernel.accessAllowed ? 'block' : 'none';\n",
              "\n",
              "      async function convertToInteractive(key) {\n",
              "        const element = document.querySelector('#df-331096f5-7f87-4b56-bac4-e7ef65c0b876');\n",
              "        const dataTable =\n",
              "          await google.colab.kernel.invokeFunction('convertToInteractive',\n",
              "                                                    [key], {});\n",
              "        if (!dataTable) return;\n",
              "\n",
              "        const docLinkHtml = 'Like what you see? Visit the ' +\n",
              "          '<a target=\"_blank\" href=https://colab.research.google.com/notebooks/data_table.ipynb>data table notebook</a>'\n",
              "          + ' to learn more about interactive tables.';\n",
              "        element.innerHTML = '';\n",
              "        dataTable['output_type'] = 'display_data';\n",
              "        await google.colab.output.renderOutput(dataTable, element);\n",
              "        const docLink = document.createElement('div');\n",
              "        docLink.innerHTML = docLinkHtml;\n",
              "        element.appendChild(docLink);\n",
              "      }\n",
              "    </script>\n",
              "  </div>\n",
              "\n",
              "\n",
              "<div id=\"df-ddeccb1b-9259-4904-8817-cd9e0ebb77d6\">\n",
              "  <button class=\"colab-df-quickchart\" onclick=\"quickchart('df-ddeccb1b-9259-4904-8817-cd9e0ebb77d6')\"\n",
              "            title=\"Suggest charts\"\n",
              "            style=\"display:none;\">\n",
              "\n",
              "<svg xmlns=\"http://www.w3.org/2000/svg\" height=\"24px\"viewBox=\"0 0 24 24\"\n",
              "     width=\"24px\">\n",
              "    <g>\n",
              "        <path d=\"M19 3H5c-1.1 0-2 .9-2 2v14c0 1.1.9 2 2 2h14c1.1 0 2-.9 2-2V5c0-1.1-.9-2-2-2zM9 17H7v-7h2v7zm4 0h-2V7h2v10zm4 0h-2v-4h2v4z\"/>\n",
              "    </g>\n",
              "</svg>\n",
              "  </button>\n",
              "\n",
              "<style>\n",
              "  .colab-df-quickchart {\n",
              "      --bg-color: #E8F0FE;\n",
              "      --fill-color: #1967D2;\n",
              "      --hover-bg-color: #E2EBFA;\n",
              "      --hover-fill-color: #174EA6;\n",
              "      --disabled-fill-color: #AAA;\n",
              "      --disabled-bg-color: #DDD;\n",
              "  }\n",
              "\n",
              "  [theme=dark] .colab-df-quickchart {\n",
              "      --bg-color: #3B4455;\n",
              "      --fill-color: #D2E3FC;\n",
              "      --hover-bg-color: #434B5C;\n",
              "      --hover-fill-color: #FFFFFF;\n",
              "      --disabled-bg-color: #3B4455;\n",
              "      --disabled-fill-color: #666;\n",
              "  }\n",
              "\n",
              "  .colab-df-quickchart {\n",
              "    background-color: var(--bg-color);\n",
              "    border: none;\n",
              "    border-radius: 50%;\n",
              "    cursor: pointer;\n",
              "    display: none;\n",
              "    fill: var(--fill-color);\n",
              "    height: 32px;\n",
              "    padding: 0;\n",
              "    width: 32px;\n",
              "  }\n",
              "\n",
              "  .colab-df-quickchart:hover {\n",
              "    background-color: var(--hover-bg-color);\n",
              "    box-shadow: 0 1px 2px rgba(60, 64, 67, 0.3), 0 1px 3px 1px rgba(60, 64, 67, 0.15);\n",
              "    fill: var(--button-hover-fill-color);\n",
              "  }\n",
              "\n",
              "  .colab-df-quickchart-complete:disabled,\n",
              "  .colab-df-quickchart-complete:disabled:hover {\n",
              "    background-color: var(--disabled-bg-color);\n",
              "    fill: var(--disabled-fill-color);\n",
              "    box-shadow: none;\n",
              "  }\n",
              "\n",
              "  .colab-df-spinner {\n",
              "    border: 2px solid var(--fill-color);\n",
              "    border-color: transparent;\n",
              "    border-bottom-color: var(--fill-color);\n",
              "    animation:\n",
              "      spin 1s steps(1) infinite;\n",
              "  }\n",
              "\n",
              "  @keyframes spin {\n",
              "    0% {\n",
              "      border-color: transparent;\n",
              "      border-bottom-color: var(--fill-color);\n",
              "      border-left-color: var(--fill-color);\n",
              "    }\n",
              "    20% {\n",
              "      border-color: transparent;\n",
              "      border-left-color: var(--fill-color);\n",
              "      border-top-color: var(--fill-color);\n",
              "    }\n",
              "    30% {\n",
              "      border-color: transparent;\n",
              "      border-left-color: var(--fill-color);\n",
              "      border-top-color: var(--fill-color);\n",
              "      border-right-color: var(--fill-color);\n",
              "    }\n",
              "    40% {\n",
              "      border-color: transparent;\n",
              "      border-right-color: var(--fill-color);\n",
              "      border-top-color: var(--fill-color);\n",
              "    }\n",
              "    60% {\n",
              "      border-color: transparent;\n",
              "      border-right-color: var(--fill-color);\n",
              "    }\n",
              "    80% {\n",
              "      border-color: transparent;\n",
              "      border-right-color: var(--fill-color);\n",
              "      border-bottom-color: var(--fill-color);\n",
              "    }\n",
              "    90% {\n",
              "      border-color: transparent;\n",
              "      border-bottom-color: var(--fill-color);\n",
              "    }\n",
              "  }\n",
              "</style>\n",
              "\n",
              "  <script>\n",
              "    async function quickchart(key) {\n",
              "      const quickchartButtonEl =\n",
              "        document.querySelector('#' + key + ' button');\n",
              "      quickchartButtonEl.disabled = true;  // To prevent multiple clicks.\n",
              "      quickchartButtonEl.classList.add('colab-df-spinner');\n",
              "      try {\n",
              "        const charts = await google.colab.kernel.invokeFunction(\n",
              "            'suggestCharts', [key], {});\n",
              "      } catch (error) {\n",
              "        console.error('Error during call to suggestCharts:', error);\n",
              "      }\n",
              "      quickchartButtonEl.classList.remove('colab-df-spinner');\n",
              "      quickchartButtonEl.classList.add('colab-df-quickchart-complete');\n",
              "    }\n",
              "    (() => {\n",
              "      let quickchartButtonEl =\n",
              "        document.querySelector('#df-ddeccb1b-9259-4904-8817-cd9e0ebb77d6 button');\n",
              "      quickchartButtonEl.style.display =\n",
              "        google.colab.kernel.accessAllowed ? 'block' : 'none';\n",
              "    })();\n",
              "  </script>\n",
              "</div>\n",
              "\n",
              "    </div>\n",
              "  </div>\n"
            ],
            "application/vnd.google.colaboratory.intrinsic+json": {
              "type": "dataframe"
            }
          },
          "metadata": {},
          "execution_count": 4
        }
      ]
    },
    {
      "cell_type": "markdown",
      "source": [
        "It's easy to see that there are 30 features as columns of which 28 are labeled as Vn where n is number. This is due to the fact that banks or credit card provider in general cannot disclose any kind of sensistive nor personal information to third parties. Indeed these are simply the principal components of the original dataset. In this case since it is difficult to interpret those principal components, I start exploring the other columns relative to the features and the labels."
      ],
      "metadata": {
        "id": "Hya9SY_jvOHt"
      }
    },
    {
      "cell_type": "markdown",
      "source": [
        "First let's try to plot the distribution of the amounts spent to see if the dataset has some problems (e. g. the value of the transactions could be cut off as we saw in the lab where we used the dataset of the California houses)"
      ],
      "metadata": {
        "id": "SRenO_N3vR1u"
      }
    },
    {
      "cell_type": "code",
      "source": [
        "sns.histplot(data=df, kde=True, x=\"Amount\")"
      ],
      "metadata": {
        "colab": {
          "base_uri": "https://localhost:8080/",
          "height": 467
        },
        "id": "CwO7DBPqvLo2",
        "outputId": "854042e5-39c2-455f-81e5-37ca188a5686"
      },
      "execution_count": 5,
      "outputs": [
        {
          "output_type": "execute_result",
          "data": {
            "text/plain": [
              "<Axes: xlabel='Amount', ylabel='Count'>"
            ]
          },
          "metadata": {},
          "execution_count": 5
        },
        {
          "output_type": "display_data",
          "data": {
            "text/plain": [
              "<Figure size 640x480 with 1 Axes>"
            ],
            "image/png": "[encoded data removed]"
          },
          "metadata": {}
        }
      ]
    },
    {
      "cell_type": "markdown",
      "source": [
        "I notice that the histogram is not nicely rendered and difficult to interpret since the transactions have a big difference in value, therefore let's plot them using a logarithmic scale\n"
      ],
      "metadata": {
        "id": "oZejwj2PvUaD"
      }
    },
    {
      "cell_type": "code",
      "source": [
        "df[\"log_Amount\"] = np.log(df[\"Amount\"]+1e-12)\n",
        "\n",
        "sns.histplot(data=df, kde=True, x=\"log_Amount\")"
      ],
      "metadata": {
        "colab": {
          "base_uri": "https://localhost:8080/",
          "height": 468
        },
        "id": "mO7qui4bvW-Y",
        "outputId": "e68ce5ce-50a5-4f60-8d08-852b94b31467"
      },
      "execution_count": 6,
      "outputs": [
        {
          "output_type": "execute_result",
          "data": {
            "text/plain": [
              "<Axes: xlabel='log_Amount', ylabel='Count'>"
            ]
          },
          "metadata": {},
          "execution_count": 6
        },
        {
          "output_type": "display_data",
          "data": {
            "text/plain": [
              "<Figure size 640x480 with 1 Axes>"
            ],
            "image/png": "[encoded data removed]"
          },
          "metadata": {}
        }
      ]
    },
    {
      "cell_type": "markdown",
      "source": [
        "Plotting the transactions with the natural logarithm scale and it's visible that most of them are included between ~$e^{-1}$ and ~$e^{-7}$ which makes sense as it means that most of the transactions are between ~0.36 € and ~1097 €. In particular apart of the spikes which are somehow normal in such datasets related to credit card transactions, the labels don't seem to suffer of any problem (e.g. a problem could be a concentration in one of the extreme of transaction amount meaning that probably one label was something like \"more than 5000\")"
      ],
      "metadata": {
        "id": "s_cXYfa9vnT8"
      }
    },
    {
      "cell_type": "markdown",
      "source": [
        "We can also get the same heatmap of the paper and see that there are not particular correlations between the features"
      ],
      "metadata": {
        "id": "O7nVTnUIvhzX"
      }
    },
    {
      "cell_type": "code",
      "source": [
        "sns.heatmap(df.corr(), cmap=\"vlag_r\", vmin=-1, vmax=1)"
      ],
      "metadata": {
        "colab": {
          "base_uri": "https://localhost:8080/",
          "height": 476
        },
        "id": "svPwH27KvaXj",
        "outputId": "c530ace4-a3e7-451f-c25a-e29dd82c0b7b"
      },
      "execution_count": 7,
      "outputs": [
        {
          "output_type": "execute_result",
          "data": {
            "text/plain": [
              "<Axes: >"
            ]
          },
          "metadata": {},
          "execution_count": 7
        },
        {
          "output_type": "display_data",
          "data": {
            "text/plain": [
              "<Figure size 640x480 with 2 Axes>"
            ],
            "image/png": "[encoded data removed]"
          },
          "metadata": {}
        }
      ]
    },
    {
      "cell_type": "markdown",
      "source": [
        "Now let's analyze the labels: the class is the target. It will have a value of  1 if the transaction is labelled as fraudulent (positive class) and 0 otherwise (negative class). Let's count the occurrences of the two."
      ],
      "metadata": {
        "id": "53yJpWTrvfTN"
      }
    },
    {
      "cell_type": "code",
      "source": [
        "value_counts = df['Class'].value_counts()\n",
        "\n",
        "print(f\"{(value_counts[1]/(value_counts[0]+value_counts[1])*100):.3f}%\")"
      ],
      "metadata": {
        "colab": {
          "base_uri": "https://localhost:8080/"
        },
        "id": "dbeCczrJvcx_",
        "outputId": "f1f98b2a-207b-496c-aabc-a02abeaccb04"
      },
      "execution_count": 8,
      "outputs": [
        {
          "output_type": "stream",
          "name": "stdout",
          "text": [
            "0.173%\n"
          ]
        }
      ]
    },
    {
      "cell_type": "markdown",
      "source": [
        "The biggest problem about the dataset is that it is hugely unbalanced: on 284,807 transactions there are only 492 that are fraudulent: this amounts to only 0.17% of our dataset. This is a big problem indeed a naive classifier, which would always output 0 (flagging every transaction as non fradulent), would have an accuracy of 99.83% on this dataset, however it would be useless for the purpose since the whole point of a credit card fraud detection system is to find out the transactions that are fraudulent.\n",
        "To tackle this matter, the paper uses as metrics not only the accuracy but also precision, recall and the F1 score"
      ],
      "metadata": {
        "id": "BoWWuDN_v__a"
      }
    },
    {
      "cell_type": "markdown",
      "source": [
        "## Data Processing (Normalization, Shuffling and Splitting into Train and Test set)"
      ],
      "metadata": {
        "id": "M9y1dd7lzrL6"
      }
    },
    {
      "cell_type": "code",
      "source": [
        "y_true = df[\"Class\"]\n",
        "df.drop(columns=[\"log_Amount\", \"Class\"], inplace=True)\n",
        "mean = df.mean()\n",
        "std = df.std()\n",
        "df_normalized = (df - mean) / (std)"
      ],
      "metadata": {
        "id": "HzE4AjWyut9H"
      },
      "execution_count": 9,
      "outputs": []
    },
    {
      "cell_type": "code",
      "source": [
        "df_normalized.describe()"
      ],
      "metadata": {
        "colab": {
          "base_uri": "https://localhost:8080/",
          "height": 419
        },
        "id": "f1ofdj-ZuxT9",
        "outputId": "a7d45449-7cc9-407b-8929-a206880a327d"
      },
      "execution_count": 10,
      "outputs": [
        {
          "output_type": "execute_result",
          "data": {
            "text/plain": [
              "               Time            V1            V2            V3            V4  \\\n",
              "count  2.848070e+05  2.848070e+05  2.848070e+05  2.848070e+05  2.848070e+05   \n",
              "mean  -1.149614e-16 -2.195443e-17 -1.516852e-17 -3.832046e-17  1.197515e-17   \n",
              "std    1.000000e+00  1.000000e+00  1.000000e+00  1.000000e+00  1.000000e+00   \n",
              "min   -1.996580e+00 -2.879850e+01 -4.403521e+01 -3.187168e+01 -4.013912e+00   \n",
              "25%   -8.552105e-01 -4.698909e-01 -3.624701e-01 -5.872131e-01 -5.993777e-01   \n",
              "50%   -2.131450e-01  9.245335e-03  3.965677e-02  1.186122e-01 -1.401721e-02   \n",
              "75%    9.372158e-01  6.716927e-01  4.867194e-01  6.774557e-01  5.250073e-01   \n",
              "max    1.642055e+00  1.253349e+00  1.335773e+01  6.187982e+00  1.191872e+01   \n",
              "\n",
              "                 V5            V6            V7            V8            V9  \\\n",
              "count  2.848070e+05  2.848070e+05  2.848070e+05  2.848070e+05  2.848070e+05   \n",
              "mean   3.592544e-17  5.987573e-18  5.189230e-18 -8.981359e-19  5.488608e-18   \n",
              "std    1.000000e+00  1.000000e+00  1.000000e+00  1.000000e+00  1.000000e+00   \n",
              "min   -8.240795e+01 -1.963602e+01 -3.520933e+01 -6.130242e+01 -1.222799e+01   \n",
              "25%   -5.010677e-01 -5.766811e-01 -4.478852e-01 -1.746801e-01 -5.853621e-01   \n",
              "50%   -3.936675e-02 -2.058043e-01  3.241718e-02  1.871979e-02 -4.681161e-02   \n",
              "75%    4.433457e-01  2.991620e-01  4.611099e-01  2.740780e-01  5.435296e-01   \n",
              "max    2.521409e+01  5.502005e+01  9.747807e+01  1.675150e+01  1.419492e+01   \n",
              "\n",
              "       ...           V20           V21           V22           V23  \\\n",
              "count  ...  2.848070e+05  2.848070e+05  2.848070e+05  2.848070e+05   \n",
              "mean   ... -3.991715e-18 -3.193372e-18  6.386744e-18 -4.390887e-18   \n",
              "std    ...  1.000000e+00  1.000000e+00  1.000000e+00  1.000000e+00   \n",
              "min    ... -7.069134e+01 -4.741898e+01 -1.506562e+01 -7.175434e+01   \n",
              "25%    ... -2.746329e-01 -3.109428e-01 -7.473463e-01 -2.591780e-01   \n",
              "50%    ... -8.104691e-02 -4.009422e-02  9.345360e-03 -1.792417e-02   \n",
              "75%    ...  1.725730e-01  2.537387e-01  7.283347e-01  2.364315e-01   \n",
              "max    ...  5.113455e+01  3.703465e+01  1.447302e+01  3.607661e+01   \n",
              "\n",
              "                V24           V25           V26           V27           V28  \\\n",
              "count  2.848070e+05  2.848070e+05  2.848070e+05  2.848070e+05  2.848070e+05   \n",
              "mean   8.981359e-18 -3.512709e-17  1.319137e-17  2.220391e-18 -7.434569e-18   \n",
              "std    1.000000e+00  1.000000e+00  1.000000e+00  1.000000e+00  1.000000e+00   \n",
              "min   -4.683630e+00 -1.975030e+01 -5.401088e+00 -5.590650e+01 -4.674604e+01   \n",
              "25%   -5.854666e-01 -6.083990e-01 -6.780705e-01 -1.755050e-01 -1.604437e-01   \n",
              "50%    6.765666e-02  3.183234e-02 -1.081215e-01  3.325168e-03  3.406362e-02   \n",
              "75%    7.257141e-01  6.727994e-01  4.996654e-01  2.255644e-01  2.371521e-01   \n",
              "max    7.569671e+00  1.442529e+01  7.293962e+00  7.831926e+01  1.025432e+02   \n",
              "\n",
              "             Amount  \n",
              "count  2.848070e+05  \n",
              "mean   2.235360e-17  \n",
              "std    1.000000e+00  \n",
              "min   -3.532288e-01  \n",
              "25%   -3.308395e-01  \n",
              "50%   -2.652710e-01  \n",
              "75%   -4.471699e-02  \n",
              "max    1.023621e+02  \n",
              "\n",
              "[8 rows x 30 columns]"
            ],
            "text/html": [
              "\n",
              "  <div id=\"df-55d678cd-8305-4998-90a6-cb6a4cdbdedc\" class=\"colab-df-container\">\n",
              "    <div>\n",
              "<style scoped>\n",
              "    .dataframe tbody tr th:only-of-type {\n",
              "        vertical-align: middle;\n",
              "    }\n",
              "\n",
              "    .dataframe tbody tr th {\n",
              "        vertical-align: top;\n",
              "    }\n",
              "\n",
              "    .dataframe thead th {\n",
              "        text-align: right;\n",
              "    }\n",
              "</style>\n",
              "<table border=\"1\" class=\"dataframe\">\n",
              "  <thead>\n",
              "    <tr style=\"text-align: right;\">\n",
              "      <th></th>\n",
              "      <th>Time</th>\n",
              "      <th>V1</th>\n",
              "      <th>V2</th>\n",
              "      <th>V3</th>\n",
              "      <th>V4</th>\n",
              "      <th>V5</th>\n",
              "      <th>V6</th>\n",
              "      <th>V7</th>\n",
              "      <th>V8</th>\n",
              "      <th>V9</th>\n",
              "      <th>...</th>\n",
              "      <th>V20</th>\n",
              "      <th>V21</th>\n",
              "      <th>V22</th>\n",
              "      <th>V23</th>\n",
              "      <th>V24</th>\n",
              "      <th>V25</th>\n",
              "      <th>V26</th>\n",
              "      <th>V27</th>\n",
              "      <th>V28</th>\n",
              "      <th>Amount</th>\n",
              "    </tr>\n",
              "  </thead>\n",
              "  <tbody>\n",
              "    <tr>\n",
              "      <th>count</th>\n",
              "      <td>2.848070e+05</td>\n",
              "      <td>2.848070e+05</td>\n",
              "      <td>2.848070e+05</td>\n",
              "      <td>2.848070e+05</td>\n",
              "      <td>2.848070e+05</td>\n",
              "      <td>2.848070e+05</td>\n",
              "      <td>2.848070e+05</td>\n",
              "      <td>2.848070e+05</td>\n",
              "      <td>2.848070e+05</td>\n",
              "      <td>2.848070e+05</td>\n",
              "      <td>...</td>\n",
              "      <td>2.848070e+05</td>\n",
              "      <td>2.848070e+05</td>\n",
              "      <td>2.848070e+05</td>\n",
              "      <td>2.848070e+05</td>\n",
              "      <td>2.848070e+05</td>\n",
              "      <td>2.848070e+05</td>\n",
              "      <td>2.848070e+05</td>\n",
              "      <td>2.848070e+05</td>\n",
              "      <td>2.848070e+05</td>\n",
              "      <td>2.848070e+05</td>\n",
              "    </tr>\n",
              "    <tr>\n",
              "      <th>mean</th>\n",
              "      <td>-1.149614e-16</td>\n",
              "      <td>-2.195443e-17</td>\n",
              "      <td>-1.516852e-17</td>\n",
              "      <td>-3.832046e-17</td>\n",
              "      <td>1.197515e-17</td>\n",
              "      <td>3.592544e-17</td>\n",
              "      <td>5.987573e-18</td>\n",
              "      <td>5.189230e-18</td>\n",
              "      <td>-8.981359e-19</td>\n",
              "      <td>5.488608e-18</td>\n",
              "      <td>...</td>\n",
              "      <td>-3.991715e-18</td>\n",
              "      <td>-3.193372e-18</td>\n",
              "      <td>6.386744e-18</td>\n",
              "      <td>-4.390887e-18</td>\n",
              "      <td>8.981359e-18</td>\n",
              "      <td>-3.512709e-17</td>\n",
              "      <td>1.319137e-17</td>\n",
              "      <td>2.220391e-18</td>\n",
              "      <td>-7.434569e-18</td>\n",
              "      <td>2.235360e-17</td>\n",
              "    </tr>\n",
              "    <tr>\n",
              "      <th>std</th>\n",
              "      <td>1.000000e+00</td>\n",
              "      <td>1.000000e+00</td>\n",
              "      <td>1.000000e+00</td>\n",
              "      <td>1.000000e+00</td>\n",
              "      <td>1.000000e+00</td>\n",
              "      <td>1.000000e+00</td>\n",
              "      <td>1.000000e+00</td>\n",
              "      <td>1.000000e+00</td>\n",
              "      <td>1.000000e+00</td>\n",
              "      <td>1.000000e+00</td>\n",
              "      <td>...</td>\n",
              "      <td>1.000000e+00</td>\n",
              "      <td>1.000000e+00</td>\n",
              "      <td>1.000000e+00</td>\n",
              "      <td>1.000000e+00</td>\n",
              "      <td>1.000000e+00</td>\n",
              "      <td>1.000000e+00</td>\n",
              "      <td>1.000000e+00</td>\n",
              "      <td>1.000000e+00</td>\n",
              "      <td>1.000000e+00</td>\n",
              "      <td>1.000000e+00</td>\n",
              "    </tr>\n",
              "    <tr>\n",
              "      <th>min</th>\n",
              "      <td>-1.996580e+00</td>\n",
              "      <td>-2.879850e+01</td>\n",
              "      <td>-4.403521e+01</td>\n",
              "      <td>-3.187168e+01</td>\n",
              "      <td>-4.013912e+00</td>\n",
              "      <td>-8.240795e+01</td>\n",
              "      <td>-1.963602e+01</td>\n",
              "      <td>-3.520933e+01</td>\n",
              "      <td>-6.130242e+01</td>\n",
              "      <td>-1.222799e+01</td>\n",
              "      <td>...</td>\n",
              "      <td>-7.069134e+01</td>\n",
              "      <td>-4.741898e+01</td>\n",
              "      <td>-1.506562e+01</td>\n",
              "      <td>-7.175434e+01</td>\n",
              "      <td>-4.683630e+00</td>\n",
              "      <td>-1.975030e+01</td>\n",
              "      <td>-5.401088e+00</td>\n",
              "      <td>-5.590650e+01</td>\n",
              "      <td>-4.674604e+01</td>\n",
              "      <td>-3.532288e-01</td>\n",
              "    </tr>\n",
              "    <tr>\n",
              "      <th>25%</th>\n",
              "      <td>-8.552105e-01</td>\n",
              "      <td>-4.698909e-01</td>\n",
              "      <td>-3.624701e-01</td>\n",
              "      <td>-5.872131e-01</td>\n",
              "      <td>-5.993777e-01</td>\n",
              "      <td>-5.010677e-01</td>\n",
              "      <td>-5.766811e-01</td>\n",
              "      <td>-4.478852e-01</td>\n",
              "      <td>-1.746801e-01</td>\n",
              "      <td>-5.853621e-01</td>\n",
              "      <td>...</td>\n",
              "      <td>-2.746329e-01</td>\n",
              "      <td>-3.109428e-01</td>\n",
              "      <td>-7.473463e-01</td>\n",
              "      <td>-2.591780e-01</td>\n",
              "      <td>-5.854666e-01</td>\n",
              "      <td>-6.083990e-01</td>\n",
              "      <td>-6.780705e-01</td>\n",
              "      <td>-1.755050e-01</td>\n",
              "      <td>-1.604437e-01</td>\n",
              "      <td>-3.308395e-01</td>\n",
              "    </tr>\n",
              "    <tr>\n",
              "      <th>50%</th>\n",
              "      <td>-2.131450e-01</td>\n",
              "      <td>9.245335e-03</td>\n",
              "      <td>3.965677e-02</td>\n",
              "      <td>1.186122e-01</td>\n",
              "      <td>-1.401721e-02</td>\n",
              "      <td>-3.936675e-02</td>\n",
              "      <td>-2.058043e-01</td>\n",
              "      <td>3.241718e-02</td>\n",
              "      <td>1.871979e-02</td>\n",
              "      <td>-4.681161e-02</td>\n",
              "      <td>...</td>\n",
              "      <td>-8.104691e-02</td>\n",
              "      <td>-4.009422e-02</td>\n",
              "      <td>9.345360e-03</td>\n",
              "      <td>-1.792417e-02</td>\n",
              "      <td>6.765666e-02</td>\n",
              "      <td>3.183234e-02</td>\n",
              "      <td>-1.081215e-01</td>\n",
              "      <td>3.325168e-03</td>\n",
              "      <td>3.406362e-02</td>\n",
              "      <td>-2.652710e-01</td>\n",
              "    </tr>\n",
              "    <tr>\n",
              "      <th>75%</th>\n",
              "      <td>9.372158e-01</td>\n",
              "      <td>6.716927e-01</td>\n",
              "      <td>4.867194e-01</td>\n",
              "      <td>6.774557e-01</td>\n",
              "      <td>5.250073e-01</td>\n",
              "      <td>4.433457e-01</td>\n",
              "      <td>2.991620e-01</td>\n",
              "      <td>4.611099e-01</td>\n",
              "      <td>2.740780e-01</td>\n",
              "      <td>5.435296e-01</td>\n",
              "      <td>...</td>\n",
              "      <td>1.725730e-01</td>\n",
              "      <td>2.537387e-01</td>\n",
              "      <td>7.283347e-01</td>\n",
              "      <td>2.364315e-01</td>\n",
              "      <td>7.257141e-01</td>\n",
              "      <td>6.727994e-01</td>\n",
              "      <td>4.996654e-01</td>\n",
              "      <td>2.255644e-01</td>\n",
              "      <td>2.371521e-01</td>\n",
              "      <td>-4.471699e-02</td>\n",
              "    </tr>\n",
              "    <tr>\n",
              "      <th>max</th>\n",
              "      <td>1.642055e+00</td>\n",
              "      <td>1.253349e+00</td>\n",
              "      <td>1.335773e+01</td>\n",
              "      <td>6.187982e+00</td>\n",
              "      <td>1.191872e+01</td>\n",
              "      <td>2.521409e+01</td>\n",
              "      <td>5.502005e+01</td>\n",
              "      <td>9.747807e+01</td>\n",
              "      <td>1.675150e+01</td>\n",
              "      <td>1.419492e+01</td>\n",
              "      <td>...</td>\n",
              "      <td>5.113455e+01</td>\n",
              "      <td>3.703465e+01</td>\n",
              "      <td>1.447302e+01</td>\n",
              "      <td>3.607661e+01</td>\n",
              "      <td>7.569671e+00</td>\n",
              "      <td>1.442529e+01</td>\n",
              "      <td>7.293962e+00</td>\n",
              "      <td>7.831926e+01</td>\n",
              "      <td>1.025432e+02</td>\n",
              "      <td>1.023621e+02</td>\n",
              "    </tr>\n",
              "  </tbody>\n",
              "</table>\n",
              "<p>8 rows × 30 columns</p>\n",
              "</div>\n",
              "    <div class=\"colab-df-buttons\">\n",
              "\n",
              "  <div class=\"colab-df-container\">\n",
              "    <button class=\"colab-df-convert\" onclick=\"convertToInteractive('df-55d678cd-8305-4998-90a6-cb6a4cdbdedc')\"\n",
              "            title=\"Convert this dataframe to an interactive table.\"\n",
              "            style=\"display:none;\">\n",
              "\n",
              "  <svg xmlns=\"http://www.w3.org/2000/svg\" height=\"24px\" viewBox=\"0 -960 960 960\">\n",
              "    <path d=\"M120-120v-720h720v720H120Zm60-500h600v-160H180v160Zm220 220h160v-160H400v160Zm0 220h160v-160H400v160ZM180-400h160v-160H180v160Zm440 0h160v-160H620v160ZM180-180h160v-160H180v160Zm440 0h160v-160H620v160Z\"/>\n",
              "  </svg>\n",
              "    </button>\n",
              "\n",
              "  <style>\n",
              "    .colab-df-container {\n",
              "      display:flex;\n",
              "      gap: 12px;\n",
              "    }\n",
              "\n",
              "    .colab-df-convert {\n",
              "      background-color: #E8F0FE;\n",
              "      border: none;\n",
              "      border-radius: 50%;\n",
              "      cursor: pointer;\n",
              "      display: none;\n",
              "      fill: #1967D2;\n",
              "      height: 32px;\n",
              "      padding: 0 0 0 0;\n",
              "      width: 32px;\n",
              "    }\n",
              "\n",
              "    .colab-df-convert:hover {\n",
              "      background-color: #E2EBFA;\n",
              "      box-shadow: 0px 1px 2px rgba(60, 64, 67, 0.3), 0px 1px 3px 1px rgba(60, 64, 67, 0.15);\n",
              "      fill: #174EA6;\n",
              "    }\n",
              "\n",
              "    .colab-df-buttons div {\n",
              "      margin-bottom: 4px;\n",
              "    }\n",
              "\n",
              "    [theme=dark] .colab-df-convert {\n",
              "      background-color: #3B4455;\n",
              "      fill: #D2E3FC;\n",
              "    }\n",
              "\n",
              "    [theme=dark] .colab-df-convert:hover {\n",
              "      background-color: #434B5C;\n",
              "      box-shadow: 0px 1px 3px 1px rgba(0, 0, 0, 0.15);\n",
              "      filter: drop-shadow(0px 1px 2px rgba(0, 0, 0, 0.3));\n",
              "      fill: #FFFFFF;\n",
              "    }\n",
              "  </style>\n",
              "\n",
              "    <script>\n",
              "      const buttonEl =\n",
              "        document.querySelector('#df-55d678cd-8305-4998-90a6-cb6a4cdbdedc button.colab-df-convert');\n",
              "      buttonEl.style.display =\n",
              "        google.colab.kernel.accessAllowed ? 'block' : 'none';\n",
              "\n",
              "      async function convertToInteractive(key) {\n",
              "        const element = document.querySelector('#df-55d678cd-8305-4998-90a6-cb6a4cdbdedc');\n",
              "        const dataTable =\n",
              "          await google.colab.kernel.invokeFunction('convertToInteractive',\n",
              "                                                    [key], {});\n",
              "        if (!dataTable) return;\n",
              "\n",
              "        const docLinkHtml = 'Like what you see? Visit the ' +\n",
              "          '<a target=\"_blank\" href=https://colab.research.google.com/notebooks/data_table.ipynb>data table notebook</a>'\n",
              "          + ' to learn more about interactive tables.';\n",
              "        element.innerHTML = '';\n",
              "        dataTable['output_type'] = 'display_data';\n",
              "        await google.colab.output.renderOutput(dataTable, element);\n",
              "        const docLink = document.createElement('div');\n",
              "        docLink.innerHTML = docLinkHtml;\n",
              "        element.appendChild(docLink);\n",
              "      }\n",
              "    </script>\n",
              "  </div>\n",
              "\n",
              "\n",
              "<div id=\"df-7f6a6e07-f938-450e-adf5-8eec9c02b2aa\">\n",
              "  <button class=\"colab-df-quickchart\" onclick=\"quickchart('df-7f6a6e07-f938-450e-adf5-8eec9c02b2aa')\"\n",
              "            title=\"Suggest charts\"\n",
              "            style=\"display:none;\">\n",
              "\n",
              "<svg xmlns=\"http://www.w3.org/2000/svg\" height=\"24px\"viewBox=\"0 0 24 24\"\n",
              "     width=\"24px\">\n",
              "    <g>\n",
              "        <path d=\"M19 3H5c-1.1 0-2 .9-2 2v14c0 1.1.9 2 2 2h14c1.1 0 2-.9 2-2V5c0-1.1-.9-2-2-2zM9 17H7v-7h2v7zm4 0h-2V7h2v10zm4 0h-2v-4h2v4z\"/>\n",
              "    </g>\n",
              "</svg>\n",
              "  </button>\n",
              "\n",
              "<style>\n",
              "  .colab-df-quickchart {\n",
              "      --bg-color: #E8F0FE;\n",
              "      --fill-color: #1967D2;\n",
              "      --hover-bg-color: #E2EBFA;\n",
              "      --hover-fill-color: #174EA6;\n",
              "      --disabled-fill-color: #AAA;\n",
              "      --disabled-bg-color: #DDD;\n",
              "  }\n",
              "\n",
              "  [theme=dark] .colab-df-quickchart {\n",
              "      --bg-color: #3B4455;\n",
              "      --fill-color: #D2E3FC;\n",
              "      --hover-bg-color: #434B5C;\n",
              "      --hover-fill-color: #FFFFFF;\n",
              "      --disabled-bg-color: #3B4455;\n",
              "      --disabled-fill-color: #666;\n",
              "  }\n",
              "\n",
              "  .colab-df-quickchart {\n",
              "    background-color: var(--bg-color);\n",
              "    border: none;\n",
              "    border-radius: 50%;\n",
              "    cursor: pointer;\n",
              "    display: none;\n",
              "    fill: var(--fill-color);\n",
              "    height: 32px;\n",
              "    padding: 0;\n",
              "    width: 32px;\n",
              "  }\n",
              "\n",
              "  .colab-df-quickchart:hover {\n",
              "    background-color: var(--hover-bg-color);\n",
              "    box-shadow: 0 1px 2px rgba(60, 64, 67, 0.3), 0 1px 3px 1px rgba(60, 64, 67, 0.15);\n",
              "    fill: var(--button-hover-fill-color);\n",
              "  }\n",
              "\n",
              "  .colab-df-quickchart-complete:disabled,\n",
              "  .colab-df-quickchart-complete:disabled:hover {\n",
              "    background-color: var(--disabled-bg-color);\n",
              "    fill: var(--disabled-fill-color);\n",
              "    box-shadow: none;\n",
              "  }\n",
              "\n",
              "  .colab-df-spinner {\n",
              "    border: 2px solid var(--fill-color);\n",
              "    border-color: transparent;\n",
              "    border-bottom-color: var(--fill-color);\n",
              "    animation:\n",
              "      spin 1s steps(1) infinite;\n",
              "  }\n",
              "\n",
              "  @keyframes spin {\n",
              "    0% {\n",
              "      border-color: transparent;\n",
              "      border-bottom-color: var(--fill-color);\n",
              "      border-left-color: var(--fill-color);\n",
              "    }\n",
              "    20% {\n",
              "      border-color: transparent;\n",
              "      border-left-color: var(--fill-color);\n",
              "      border-top-color: var(--fill-color);\n",
              "    }\n",
              "    30% {\n",
              "      border-color: transparent;\n",
              "      border-left-color: var(--fill-color);\n",
              "      border-top-color: var(--fill-color);\n",
              "      border-right-color: var(--fill-color);\n",
              "    }\n",
              "    40% {\n",
              "      border-color: transparent;\n",
              "      border-right-color: var(--fill-color);\n",
              "      border-top-color: var(--fill-color);\n",
              "    }\n",
              "    60% {\n",
              "      border-color: transparent;\n",
              "      border-right-color: var(--fill-color);\n",
              "    }\n",
              "    80% {\n",
              "      border-color: transparent;\n",
              "      border-right-color: var(--fill-color);\n",
              "      border-bottom-color: var(--fill-color);\n",
              "    }\n",
              "    90% {\n",
              "      border-color: transparent;\n",
              "      border-bottom-color: var(--fill-color);\n",
              "    }\n",
              "  }\n",
              "</style>\n",
              "\n",
              "  <script>\n",
              "    async function quickchart(key) {\n",
              "      const quickchartButtonEl =\n",
              "        document.querySelector('#' + key + ' button');\n",
              "      quickchartButtonEl.disabled = true;  // To prevent multiple clicks.\n",
              "      quickchartButtonEl.classList.add('colab-df-spinner');\n",
              "      try {\n",
              "        const charts = await google.colab.kernel.invokeFunction(\n",
              "            'suggestCharts', [key], {});\n",
              "      } catch (error) {\n",
              "        console.error('Error during call to suggestCharts:', error);\n",
              "      }\n",
              "      quickchartButtonEl.classList.remove('colab-df-spinner');\n",
              "      quickchartButtonEl.classList.add('colab-df-quickchart-complete');\n",
              "    }\n",
              "    (() => {\n",
              "      let quickchartButtonEl =\n",
              "        document.querySelector('#df-7f6a6e07-f938-450e-adf5-8eec9c02b2aa button');\n",
              "      quickchartButtonEl.style.display =\n",
              "        google.colab.kernel.accessAllowed ? 'block' : 'none';\n",
              "    })();\n",
              "  </script>\n",
              "</div>\n",
              "\n",
              "    </div>\n",
              "  </div>\n"
            ],
            "application/vnd.google.colaboratory.intrinsic+json": {
              "type": "dataframe"
            }
          },
          "metadata": {},
          "execution_count": 10
        }
      ]
    },
    {
      "cell_type": "code",
      "source": [
        "np.random.seed(0) # for reproducibility\n",
        "\n",
        "\n",
        "df_normalized_np = df_normalized.to_numpy()\n",
        "df_normalized_np = np.concatenate((df_normalized_np, y_true.to_numpy().reshape(-1, 1)), axis=1)\n",
        "print(df_normalized_np)\n",
        "np.random.shuffle(df_normalized_np)\n",
        "\n",
        "\n",
        "fraction_test = 0.2\n",
        "\n",
        "num_train = int(df_normalized_np.shape[0] * (1-fraction_test))\n",
        "print(\"The training set is composed of\", num_train)\n",
        "print(\"The test set is composed of\", df_normalized_np.shape[0] - num_train)\n",
        "\n",
        "x_train = df_normalized_np[:num_train, :-1]\n",
        "\n",
        "y_train = df_normalized_np[:num_train, -1:]\n",
        "\n",
        "x_test = df_normalized_np[num_train:, :-1]\n",
        "\n",
        "y_test = df_normalized_np[num_train:, -1:]\n",
        "\n",
        "print(\"Train x\", x_train.shape)\n",
        "print(\"Train y\", y_train.shape)\n",
        "print(\"Test x\", x_test.shape)\n",
        "print(\"Test y\", y_test.shape)"
      ],
      "metadata": {
        "colab": {
          "base_uri": "https://localhost:8080/"
        },
        "id": "F-8PFrUIabss",
        "outputId": "26ca7736-b47c-47e6-e419-73889aa1e455"
      },
      "execution_count": 11,
      "outputs": [
        {
          "output_type": "stream",
          "name": "stdout",
          "text": [
            "[[-1.99657952 -0.6942411  -0.04407485 ... -0.06378104  0.24496383\n",
            "   0.        ]\n",
            " [-1.99657952  0.60849526  0.16117564 ...  0.04460744 -0.34247394\n",
            "   0.        ]\n",
            " [-1.99655846 -0.69349925 -0.8115764  ... -0.18102051  1.16068389\n",
            "   0.        ]\n",
            " ...\n",
            " [ 1.64197062  0.98002202 -0.1824334  ... -0.08046706 -0.08183916\n",
            "   0.        ]\n",
            " [ 1.64197062 -0.12275518  0.32124978 ...  0.31668622 -0.31324798\n",
            "   0.        ]\n",
            " [ 1.64205485 -0.27233046 -0.11489878 ...  0.04134991  0.51435441\n",
            "   0.        ]]\n",
            "The training set is composed of 227845\n",
            "The test set is composed of 56962\n",
            "Train x (227845, 30)\n",
            "Train y (227845, 1)\n",
            "Test x (56962, 30)\n",
            "Test y (56962, 1)\n"
          ]
        }
      ]
    },
    {
      "cell_type": "code",
      "source": [
        "np.unique(y_test, return_counts=True)"
      ],
      "metadata": {
        "colab": {
          "base_uri": "https://localhost:8080/"
        },
        "id": "v9PhFjK_al4Q",
        "outputId": "6aa877e0-428d-47ca-9eb9-1555363f48da"
      },
      "execution_count": 12,
      "outputs": [
        {
          "output_type": "execute_result",
          "data": {
            "text/plain": [
              "(array([0., 1.]), array([56861,   101]))"
            ]
          },
          "metadata": {},
          "execution_count": 12
        }
      ]
    },
    {
      "cell_type": "code",
      "source": [
        "def compute_metrics(y, y_pred):\n",
        "  TP = np.sum(np.logical_and(y_pred == 1., y == 1.))\n",
        "  TN = np.sum(np.logical_and(y_pred == 0., y == 0.))\n",
        "  FP = np.sum(np.logical_and(y_pred == 1., y == 0.))\n",
        "  FN = np.sum(np.logical_and(y_pred == 0., y == 1.))\n",
        "\n",
        "  eps = 1e-10\n",
        "  accuracy = ((TN + TP) / len(y)) * 100 # Accuracy\n",
        "  recall = (TP / (FN + TP)) * 100 # Recall or sensitivity\n",
        "  precision = (TP / (FP + TP)) * 100 # Precision\n",
        "  MCC = (TP * TN - FP * FN) / np.sqrt((TP+FP)*(TP+FN)*(TN+FP)*(TN+FN) +eps) # MCC with eps for stability\n",
        "  if MCC > 1:\n",
        "    MCC = 1\n",
        "  elif MCC < -1:\n",
        "    MCC = -1\n",
        "  F1 = (2 * precision * recall) / (precision + recall)\n",
        "\n",
        "  print(f\"Accuracy: {accuracy:.2f}%\")\n",
        "  print(f\"Recall: {recall:.2f}%\")\n",
        "  print(f\"Precision: {precision:.2f}%\")\n",
        "  print(f\"F1: {F1:.2f}%\")\n",
        "  print(f\"MCC: {MCC:.2f}\")\n",
        "  print(f\"TP: {TP}\")\n",
        "  print(f\"TN: {TN}\")\n",
        "  print(f\"FP: {FP}\")\n",
        "  print(f\"FN: {FN}\")\n",
        "\n",
        "\n",
        "\n",
        "def metrics_from_confusion_matrix(matrix):\n",
        "  TP = matrix[1, 1]\n",
        "  TN = matrix[0, 0]\n",
        "  FP = matrix[0, 1]\n",
        "  FN = matrix[1, 0]\n",
        "  eps = 1e-10\n",
        "  accuracy = ((TN + TP) / (TP+TN+FP+FN)) * 100 # Accuracy\n",
        "  recall = (TP / (FN + TP)) * 100 # Recall or sensitivity\n",
        "  precision = (TP / (FP + TP)) * 100 # Precision\n",
        "  MCC = (TP * TN - FP * FN) / np.sqrt((TP+FP)*(TP+FN)*(TN+FP)*(TN+FN) +eps) # MCC with eps for stability\n",
        "  if MCC > 1:\n",
        "    MCC = 1\n",
        "  elif MCC < -1:\n",
        "    MCC = -1\n",
        "\n",
        "  print(f\"Accuracy: {accuracy:.2f}%\")\n",
        "  print(f\"Recall: {recall:.2f}%\")\n",
        "  print(f\"Precision: {precision:.2f}%\")\n",
        "  print(f\"MCC: {MCC:.2f}\")\n"
      ],
      "metadata": {
        "id": "VETnFsnTapkb"
      },
      "execution_count": 13,
      "outputs": []
    },
    {
      "cell_type": "code",
      "source": [
        "plt.figure(figsize=(10, 6))\n",
        "sns.scatterplot(x=df_normalized[\"Time\"], y=df_normalized[\"Amount\"], hue=y_true, alpha=0.6)\n",
        "plt.xlabel(\"Time\")\n",
        "plt.ylabel(\"Transaction Amount\")\n",
        "plt.title(\"Transaction Amount Distribution Over Time \")\n",
        "plt.legend(title=\"Fraudulent Transactions over time\")\n",
        "plt.show()"
      ],
      "metadata": {
        "colab": {
          "base_uri": "https://localhost:8080/",
          "height": 422
        },
        "id": "sfa7lTsHcqyB",
        "outputId": "ccd498bd-298a-47d3-ee90-b4f698908cb8"
      },
      "execution_count": 14,
      "outputs": [
        {
          "output_type": "display_data",
          "data": {
            "text/plain": [
              "<Figure size 1000x600 with 1 Axes>"
            ],
            "image/png": "[encoded data removed]"
          },
          "metadata": {}
        }
      ]
    },
    {
      "cell_type": "markdown",
      "source": [
        "## ANN"
      ],
      "metadata": {
        "id": "-pc5yI9le9b8"
      }
    },
    {
      "cell_type": "code",
      "source": [
        "def initialize_params_ANN(layers_size):\n",
        "  np.random.seed(0)\n",
        "  params = list()\n",
        "  for i in range(len(layers_size)-1):\n",
        "    std = np.sqrt(2/(layers_size[i+1]+ layers_size[i]))\n",
        "    w = np.random.randn(layers_size[i+1], layers_size[i]) * std\n",
        "    b = np.zeros((layers_size[i+1], 1))\n",
        "    params.append(w)\n",
        "    params.append(b)\n",
        "  return params"
      ],
      "metadata": {
        "id": "7MwLyAQOdXqM"
      },
      "execution_count": 15,
      "outputs": []
    },
    {
      "cell_type": "code",
      "source": [
        "params = initialize_params_ANN([30, 10, 5, 1])\n",
        "\n",
        "act_fn = jnp.tanh\n",
        "\n",
        "def ANN(x, params):\n",
        "\n",
        "  layer = x.T\n",
        "  num_layers = len(params) // 2 + 1\n",
        "  weights = params[::2]\n",
        "  biases = params[1::2]\n",
        "  for i in range(num_layers-1):\n",
        "    layer = jnp.dot(weights[i], layer) + biases[i] # jnp.dot() replaceable by @\n",
        "    if i < num_layers - 2: # on the last layer the activation function forces the output to be in the range we want\n",
        "      layer = act_fn(layer)\n",
        "    else:\n",
        "      layer = 1 / (1 + jnp.exp(-layer))\n",
        "  return layer.T\n"
      ],
      "metadata": {
        "id": "ILzPMXmKffUM"
      },
      "execution_count": 16,
      "outputs": []
    },
    {
      "cell_type": "code",
      "source": [
        "def loss_mse_ANN(x, y, params):\n",
        "  return jnp.mean((y - ANN(x, params))**2)\n",
        "\n",
        "loss_jit = jax.jit(loss_mse_ANN)\n",
        "grad_jit = jax.jit(jax.grad(loss_jit, argnums= 2))"
      ],
      "metadata": {
        "id": "2sdVJ1tDfg8F"
      },
      "execution_count": 17,
      "outputs": []
    },
    {
      "cell_type": "code",
      "source": [
        "def loss_X_ent_ANN(x, y, params):\n",
        "    y_pred = ANN(x, params)\n",
        "    eps = 1e-6\n",
        "    return -jnp.mean(y * jnp.log(y_pred + eps) + (1-y) * jnp.log(1 - y_pred + eps))"
      ],
      "metadata": {
        "id": "V2ocp16IfiOY"
      },
      "execution_count": 18,
      "outputs": []
    },
    {
      "cell_type": "markdown",
      "source": [
        "### Vanilla Gradient Descent Training"
      ],
      "metadata": {
        "id": "J3YsBbR9tJkb"
      }
    },
    {
      "cell_type": "markdown",
      "source": [
        "It works well but it is really slow"
      ],
      "metadata": {
        "id": "sYTYItqWuCHY"
      }
    },
    {
      "cell_type": "code",
      "source": [
        "# Hyperparameters\n",
        "layers_size = [30, 20, 10, 1]\n",
        "num_epochs = 1500\n",
        "learning_rate = 0.8\n",
        "\n",
        "params = initialize_params_ANN(layers_size)\n",
        "grad = jax.grad(loss_X_ent_ANN, argnums=2)\n",
        "\n",
        "# Just in time\n",
        "loss_jit = jax.jit(loss_X_ent_ANN)\n",
        "grad_jit = jax.jit(grad)\n",
        "\n",
        "n_samples = x_train.shape[0]\n",
        "\n",
        "history_loss_train = []\n",
        "history_loss_test = []\n",
        "\n",
        "\n",
        "history_loss_train.append(loss_X_ent_ANN(x_train, y_train, params))\n",
        "history_loss_test.append(loss_X_ent_ANN(x_test, y_test, params))\n",
        "\n",
        "for epoch in tqdm(range(num_epochs)):\n",
        "  grad_vals = grad_jit(x_train, y_train, params)\n",
        "  for i in range(len(params)):\n",
        "    params[i] = params[i] - learning_rate * grad_vals[i]\n",
        "\n",
        "  history_loss_train.append(loss_X_ent_ANN(x_train, y_train, params))\n",
        "  history_loss_test.append(loss_X_ent_ANN(x_test, y_test, params))\n",
        "\n",
        "plt.loglog(history_loss_train, label=\"train\")\n",
        "plt.loglog(history_loss_test, label=\"test\")\n",
        "plt.legend()\n"
      ],
      "metadata": {
        "colab": {
          "base_uri": "https://localhost:8080/",
          "height": 484,
          "referenced_widgets": [
            "fdd152296fd944bd89852aed2a8ade3a",
            "9e47a72a14734a068dee8b4be24127cb",
            "d7826c1e60b84eaeaf97a35e61e92b12",
            "ca783f8c0aac4100b27144ae5098ce95",
            "90608cc0ab6d43a5878a916605c82818",
            "dda56757471947c0bb988a03afaeef6b",
            "5aee4f0718644cd18aa89bf4d3c377f5",
            "3169396b123a4637bf854f9d2420a910",
            "ea67ff68be584aee97803dd96dea1c7a",
            "acc82ce0f65c4f878f9aa74ea299087a",
            "505cd3d47bf24dfcafbe1d2e8de7a55e"
          ]
        },
        "id": "0F234z4dtJDl",
        "outputId": "3ebc8371-e94f-4ce3-c9fb-e70b96867c7d"
      },
      "execution_count": 19,
      "outputs": [
        {
          "output_type": "display_data",
          "data": {
            "text/plain": [
              "  0%|          | 0/1500 [00:00<?, ?it/s]"
            ],
            "application/vnd.jupyter.widget-view+json": {
              "version_major": 2,
              "version_minor": 0,
              "model_id": "fdd152296fd944bd89852aed2a8ade3a"
            }
          },
          "metadata": {}
        },
        {
          "output_type": "execute_result",
          "data": {
            "text/plain": [
              "<matplotlib.legend.Legend at 0x791b741ac4d0>"
            ]
          },
          "metadata": {},
          "execution_count": 19
        },
        {
          "output_type": "display_data",
          "data": {
            "text/plain": [
              "<Figure size 640x480 with 1 Axes>"
            ],
            "image/png": "[encoded data removed]"
          },
          "metadata": {}
        }
      ]
    },
    {
      "cell_type": "code",
      "source": [
        "ANN_pred_test = ANN(x_test, params)\n",
        "y_pred_test = np.where(ANN_pred_test >= 0.5, 1., 0.)\n",
        "compute_metrics(y_test, y_pred_test)\n"
      ],
      "metadata": {
        "colab": {
          "base_uri": "https://localhost:8080/"
        },
        "id": "AYjRfTFivtwt",
        "outputId": "3bba478d-706b-467f-991d-e81a0c2a2312"
      },
      "execution_count": 20,
      "outputs": [
        {
          "output_type": "stream",
          "name": "stdout",
          "text": [
            "Accuracy: 99.95%\n",
            "Recall: 79.21%\n",
            "Precision: 88.89%\n",
            "F1: 83.77%\n",
            "MCC: 0.84\n",
            "TP: 80\n",
            "TN: 56851\n",
            "FP: 10\n",
            "FN: 21\n"
          ]
        }
      ]
    },
    {
      "cell_type": "code",
      "source": [
        "ConfusionMatrixDisplay(confusion_matrix(y_test, y_pred_test), display_labels=[\"Non Fraud\", \"Fraud\"]).plot()"
      ],
      "metadata": {
        "colab": {
          "base_uri": "https://localhost:8080/",
          "height": 485
        },
        "id": "Xp99XvnonhDo",
        "outputId": "6e2af0d3-1cf1-4e2c-f0ec-ff592996f874"
      },
      "execution_count": 21,
      "outputs": [
        {
          "output_type": "execute_result",
          "data": {
            "text/plain": [
              "<sklearn.metrics._plot.confusion_matrix.ConfusionMatrixDisplay at 0x791b71c1e390>"
            ]
          },
          "metadata": {},
          "execution_count": 21
        },
        {
          "output_type": "display_data",
          "data": {
            "text/plain": [
              "<Figure size 640x480 with 2 Axes>"
            ],
            "image/png": "[encoded data removed]"
          },
          "metadata": {}
        }
      ]
    },
    {
      "cell_type": "markdown",
      "source": [
        "### RMSProp Training\n",
        "\n",
        "It works well but it's much faster"
      ],
      "metadata": {
        "id": "E8oVG08otEwl"
      }
    },
    {
      "cell_type": "code",
      "source": [
        "# Hyperparameters\n",
        "layers_size = [30, 20, 10, 1]\n",
        "# Training options\n",
        "num_epochs = 500\n",
        "batch_size = 1000\n",
        "learning_rate = 2e-3\n",
        "decay_rate = 0.9\n",
        "delta = 1e-6  # Increased for stability\n",
        "\n",
        "#################################################\n",
        "# Initialize params and jit objects\n",
        "params = initialize_params_ANN(layers_size)\n",
        "grad = jax.grad(loss_X_ent_ANN, argnums=2)\n",
        "grad_jit = jax.jit(grad)\n",
        "cross_entropy_jit = jax.jit(loss_X_ent_ANN)\n",
        "\n",
        "#################################################\n",
        "\n",
        "history_train_Xen = list()\n",
        "history_valid_Xen = list()\n",
        "\n",
        "n_train = x_train.shape[0]\n",
        "cumulated_sqr_grad = [0.0 for _ in range(len(params))]\n",
        "\n",
        "for epoch in tqdm(range(num_epochs)):\n",
        "    idxs = np.random.choice(n_train, batch_size, replace=False)  # Use `replace=False` for diversity in batches\n",
        "    grad_val = grad_jit(x_train[idxs, :], y_train[idxs, :], params)  # FIXED indexing\n",
        "\n",
        "    for i in range(len(params)):\n",
        "        # Accumulate squared gradients\n",
        "        cumulated_sqr_grad[i] = (decay_rate * cumulated_sqr_grad[i] +\n",
        "                                 (1 - decay_rate) * grad_val[i] * grad_val[i])\n",
        "\n",
        "        # Update parameters using adaptive learning rate\n",
        "        params[i] -= grad_val[i] * learning_rate * (1 / (delta + jnp.sqrt(cumulated_sqr_grad[i])))\n",
        "\n",
        "    # Compute loss once per epoch, not per parameter update\n",
        "    history_train_Xen.append(cross_entropy_jit(x_train, y_train, params))\n",
        "    history_valid_Xen.append(cross_entropy_jit(x_test, y_test, params))\n",
        "\n",
        "# Plot loss curves (fixed variable names)\n",
        "plt.figure(figsize=(10, 6))\n",
        "plt.loglog(history_train_Xen, label=\"train\")\n",
        "plt.loglog(history_valid_Xen, label=\"valid\")\n",
        "plt.legend()\n",
        "plt.xlabel(\"Epochs\")\n",
        "plt.ylabel(\"Loss\")\n",
        "plt.title(\"Training vs Validation Loss\")\n",
        "plt.show()\n",
        "\n",
        "print(\"Final Train Loss:\", history_train_Xen[-1])\n",
        "print(\"Final Validation Loss:\", history_valid_Xen[-1])"
      ],
      "metadata": {
        "colab": {
          "base_uri": "https://localhost:8080/",
          "height": 490,
          "referenced_widgets": [
            "350a955380174c08b8d4184b474ddfa7",
            "1361293e01514eb3841ffab673888fed",
            "292abbe772fe4b359ad0f5e77d75f0d5",
            "2451c657fdc8461a817fd2773f98c5cc",
            "365fe2052b19420f960f4be25dc81dde",
            "22b90972486542cebe705e93c4474cf7",
            "010e17fdc049403ca4dbdffd065a3357",
            "5be1f381704f4007a523a12b8d36b533",
            "118e3ad3b890421cad6271e611883e2f",
            "8ae8a3a6c280492ca0118a4a1c695c68",
            "329e39ffe6a34edaa783b297bf4760f1"
          ]
        },
        "id": "0sdjo8NUe9B7",
        "outputId": "ecb133ea-61be-4a58-f78c-f0de3633a256"
      },
      "execution_count": 22,
      "outputs": [
        {
          "output_type": "display_data",
          "data": {
            "text/plain": [
              "  0%|          | 0/500 [00:00<?, ?it/s]"
            ],
            "application/vnd.jupyter.widget-view+json": {
              "version_major": 2,
              "version_minor": 0,
              "model_id": "350a955380174c08b8d4184b474ddfa7"
            }
          },
          "metadata": {}
        },
        {
          "output_type": "display_data",
          "data": {
            "text/plain": [
              "<Figure size 1000x600 with 1 Axes>"
            ],
            "image/png": "[encoded data removed]"
          },
          "metadata": {}
        },
        {
          "output_type": "stream",
          "name": "stdout",
          "text": [
            "Final Train Loss: 0.0028517472\n",
            "Final Validation Loss: 0.0027946574\n"
          ]
        }
      ]
    },
    {
      "cell_type": "code",
      "source": [
        "ANN_pred_test = ANN(x_test, params)\n",
        "y_pred_test = np.where(ANN_pred_test >= 0.5, 1., 0.)\n",
        "compute_metrics(y_test, y_pred_test)"
      ],
      "metadata": {
        "colab": {
          "base_uri": "https://localhost:8080/"
        },
        "id": "jbObdtIrfB5X",
        "outputId": "2722c3b0-4673-4e8f-c241-1731acb524a2"
      },
      "execution_count": 23,
      "outputs": [
        {
          "output_type": "stream",
          "name": "stdout",
          "text": [
            "Accuracy: 99.94%\n",
            "Recall: 72.28%\n",
            "Precision: 90.12%\n",
            "F1: 80.22%\n",
            "MCC: 0.81\n",
            "TP: 73\n",
            "TN: 56853\n",
            "FP: 8\n",
            "FN: 28\n"
          ]
        }
      ]
    },
    {
      "cell_type": "code",
      "source": [
        "ConfusionMatrixDisplay(confusion_matrix(y_test, y_pred_test), display_labels=[\"Non Fraud\", \"Fraud\"]).plot()"
      ],
      "metadata": {
        "colab": {
          "base_uri": "https://localhost:8080/",
          "height": 485
        },
        "id": "xD0SHWquYPP_",
        "outputId": "78322732-652f-4700-9e9f-c10023a81d78"
      },
      "execution_count": 24,
      "outputs": [
        {
          "output_type": "execute_result",
          "data": {
            "text/plain": [
              "<sklearn.metrics._plot.confusion_matrix.ConfusionMatrixDisplay at 0x791b71bf6790>"
            ]
          },
          "metadata": {},
          "execution_count": 24
        },
        {
          "output_type": "display_data",
          "data": {
            "text/plain": [
              "<Figure size 640x480 with 2 Axes>"
            ],
            "image/png": "[encoded data removed]"
          },
          "metadata": {}
        }
      ]
    },
    {
      "cell_type": "markdown",
      "source": [
        "## Autoencoder"
      ],
      "metadata": {
        "id": "j4-rw-BLgATp"
      }
    },
    {
      "cell_type": "markdown",
      "source": [
        "### Autoencoder trained on fraudulent transactions"
      ],
      "metadata": {
        "id": "AXhtHqXSgaBe"
      }
    },
    {
      "cell_type": "markdown",
      "source": [
        "As told in the paper we train the autoencoder only on the fraudulent transactions so that he learns how to represent them well"
      ],
      "metadata": {
        "id": "lf1_dBwNeupI"
      }
    },
    {
      "cell_type": "code",
      "source": [
        "x_train_ae = x_train[y_train[:, 0] == 1]\n",
        "\n",
        "# Normalize x_train_ae\n",
        "mean = x_train_ae.mean(axis=0)\n",
        "std = x_train_ae.std(axis=0)\n",
        "x_train_ae = (x_train_ae - mean) / std\n",
        "\n",
        "print(x_train_ae.shape)"
      ],
      "metadata": {
        "colab": {
          "base_uri": "https://localhost:8080/"
        },
        "id": "zA1_wclIffyt",
        "outputId": "610b1ebb-e4c8-4e9b-8d8c-5b132d23c4b0"
      },
      "execution_count": 25,
      "outputs": [
        {
          "output_type": "stream",
          "name": "stdout",
          "text": [
            "(391, 30)\n"
          ]
        }
      ]
    },
    {
      "cell_type": "code",
      "source": [
        "def initialize_params(layers_size):\n",
        "  np.random.seed(0)\n",
        "  params = list()\n",
        "  for i in range(len(layers_size)-1):\n",
        "    std = np.sqrt(2/(layers_size[i+1]+ layers_size[i]))\n",
        "    w = np.random.randn(layers_size[i+1], layers_size[i]) * std\n",
        "    b = np.zeros((layers_size[i+1], 1))\n",
        "    params.append(w)\n",
        "    params.append(b)\n",
        "  return params\n",
        "\n",
        "def sigm(z):\n",
        "    return (jnp.tanh(2*z)+1)/2\n",
        "\n",
        "params_enc = initialize_params([30, 15])\n",
        "\n",
        "act_fn = jnp.tanh\n",
        "\n",
        "def encoder(x, params):\n",
        "\n",
        "  layer = x.T\n",
        "  num_layers = len(params) // 2 + 1\n",
        "  weights = params[::2]\n",
        "  biases = params[1::2]\n",
        "  for i in range(num_layers-1):\n",
        "    layer = jnp.dot(weights[i], layer) + biases[i]\n",
        "    if i < num_layers - 2: # on the last layer the activation function forces the output to be in the range we want\n",
        "      layer = act_fn(layer)\n",
        "    else:\n",
        "      layer = sigm(layer)\n",
        "  return layer.T\n",
        "\n",
        "params_dec = initialize_params([15, 30])\n",
        "\n",
        "def decoder(x, params):\n",
        "\n",
        "  layer = x.T\n",
        "  num_layers = len(params) // 2 + 1\n",
        "  weights = params[::2]\n",
        "  biases = params[1::2]\n",
        "  for i in range(num_layers-1):\n",
        "    layer = jnp.dot(weights[i], layer) + biases[i]\n",
        "    if i < num_layers - 2: # on the last layer the activation function forces the output to be in the range we want\n",
        "      layer = act_fn(layer)\n",
        "    else:\n",
        "      layer = sigm(layer)\n",
        "  return layer.T\n",
        "\n",
        "def autoencoder(x, params_enc, params_dec):\n",
        "    encoded = encoder(x, params_enc)\n",
        "    reconstructed = decoder(encoded, params_dec)\n",
        "    return reconstructed\n",
        "\n",
        "# Loss function\n",
        "def loss_mse_ae(x, params_enc, params_dec):\n",
        "    x_reconstructed = autoencoder(x, params_enc, params_dec)\n",
        "    return jnp.mean((x - x_reconstructed) ** 2)\n"
      ],
      "metadata": {
        "id": "PnEeDGfRf_Yq"
      },
      "execution_count": 26,
      "outputs": []
    },
    {
      "cell_type": "code",
      "source": [
        "num_epochs = 3000\n",
        "batch_size = 5\n",
        "learning_rate = 1.75e-2\n",
        "decay_rate = 0.9\n",
        "delta = 1e-6\n",
        "layers_size = [30, 15, 30]\n",
        "\n",
        "# Initialize encoder and decoder parameters\n",
        "\n",
        "# Just 2 layers to avoid overfitting\n",
        "params_enc = initialize_params([30, 15])\n",
        "params_dec = initialize_params([15, 30])\n",
        "\n",
        "# Compute gradients\n",
        "grad = jax.grad(loss_mse_ae, argnums=(1, 2))  # Compute gradients w.r.t. encoder and decoder\n",
        "grad_jit = jax.jit(grad)  # JIT compilation for faster execution\n",
        "mse_ae_jit = jax.jit(loss_mse_ae)\n",
        "\n",
        "# Training loop\n",
        "history_train = []\n",
        "n_train = x_train_ae.shape[0]\n",
        "print(n_train)\n",
        "cumulated_sqr_grad_enc = [0.0 for _ in range(len(params_enc))]\n",
        "cumulated_sqr_grad_dec = [0.0 for _ in range(len(params_dec))]\n",
        "\n",
        "for epoch in tqdm(range(num_epochs)):\n",
        "    idxs = np.random.choice(n_train, batch_size, replace=False)\n",
        "\n",
        "    # Compute gradients\n",
        "    grad_enc, grad_dec = grad_jit(x_train_ae[idxs, :], params_enc, params_dec)\n",
        "\n",
        "    # Update encoder parameters\n",
        "    for i in range(len(params_enc)):\n",
        "        cumulated_sqr_grad_enc[i] = (decay_rate * cumulated_sqr_grad_enc[i] + (1 - decay_rate) * grad_enc[i] ** 2)\n",
        "        params_enc[i] -= grad_enc[i] * learning_rate * (1 / (delta + jnp.sqrt(cumulated_sqr_grad_enc[i])))\n",
        "\n",
        "    # Update decoder parameters\n",
        "    for i in range(len(params_dec)):\n",
        "        cumulated_sqr_grad_dec[i] = (decay_rate * cumulated_sqr_grad_dec[i] + (1 - decay_rate) * grad_dec[i] ** 2)\n",
        "        params_dec[i] -= grad_dec[i] * learning_rate * (1 / (delta + jnp.sqrt(cumulated_sqr_grad_dec[i])))\n",
        "\n",
        "    # Compute loss\n",
        "    history_train.append(mse_ae_jit(x_train_ae, params_enc, params_dec))\n",
        "\n",
        "# Plot training loss\n",
        "plt.figure(figsize=(10, 6))\n",
        "plt.loglog(history_train, label=\"Train Loss\")\n",
        "plt.legend()\n",
        "plt.xlabel(\"Epochs\")\n",
        "plt.ylabel(\"Loss\")\n",
        "plt.title(\"Autoencoder Training Loss\")\n",
        "plt.show()\n",
        "\n",
        "print(\"Final Train Loss:\", history_train[-1])"
      ],
      "metadata": {
        "colab": {
          "base_uri": "https://localhost:8080/",
          "height": 0,
          "referenced_widgets": [
            "07b3e031c0da4e03909b222a2a4c63f5",
            "6edad5613e7e4c8eaa1f73c75cf3954f",
            "8530dcdd9c04487db17a9883d02336ac",
            "56875fa72b95488698296f34d4f0bfc6",
            "081e11c6e6fd4f84a9f4cc9520182959",
            "d3e3c57f4e5f48c188f824baa4e8f931",
            "3182ab508ad04e62a3b6ff6fd878d463",
            "0a32f10246484e63bcdc9fffbd8bbb84",
            "4aef790fb54c470bbd57c251ae35ee46",
            "94e2ea305ab945e4b2995b46f7181cf0",
            "e02bb1ece47a40d4bd99add9a5f9194b"
          ]
        },
        "id": "llxck8ZknFWD",
        "outputId": "7ccba5e5-9157-4873-aaec-d33e64f0344c"
      },
      "execution_count": 27,
      "outputs": [
        {
          "output_type": "stream",
          "name": "stdout",
          "text": [
            "391\n"
          ]
        },
        {
          "output_type": "display_data",
          "data": {
            "text/plain": [
              "  0%|          | 0/3000 [00:00<?, ?it/s]"
            ],
            "application/vnd.jupyter.widget-view+json": {
              "version_major": 2,
              "version_minor": 0,
              "model_id": "07b3e031c0da4e03909b222a2a4c63f5"
            }
          },
          "metadata": {}
        },
        {
          "output_type": "display_data",
          "data": {
            "text/plain": [
              "<Figure size 1000x600 with 1 Axes>"
            ],
            "image/png": "[encoded data removed]"
          },
          "metadata": {}
        },
        {
          "output_type": "stream",
          "name": "stdout",
          "text": [
            "Final Train Loss: 0.6867936\n"
          ]
        }
      ]
    },
    {
      "cell_type": "code",
      "source": [
        "encoded_train = encoder(x_train, params_enc)\n",
        "encoded_test = encoder(x_test, params_enc)"
      ],
      "metadata": {
        "id": "MHMWVaiQMUeg"
      },
      "execution_count": 28,
      "outputs": []
    },
    {
      "cell_type": "markdown",
      "source": [
        "### Logistic Regression from Sklearn library"
      ],
      "metadata": {
        "id": "_vUNAfL1hEUp"
      }
    },
    {
      "cell_type": "code",
      "source": [
        "from sklearn.linear_model import LogisticRegression\n",
        "from sklearn.metrics import confusion_matrix, classification_report\n",
        "\n",
        "model = LogisticRegression()\n",
        "model.fit(encoded_train, y_train)\n",
        "y_pred = model.predict(encoded_test)\n",
        "# Print Confusion Matrix\n",
        "print(\"Confusion Matrix:\")\n",
        "print(confusion_matrix(y_test, y_pred))\n",
        "\n",
        "# Print Formatted Classification Report\n",
        "print(\"\\nClassification Report:\")\n",
        "print(classification_report(y_test, y_pred))"
      ],
      "metadata": {
        "colab": {
          "base_uri": "https://localhost:8080/"
        },
        "id": "wng3hmbpMVD2",
        "outputId": "3a11bdc8-1c24-4a14-afdf-330e96328232"
      },
      "execution_count": 29,
      "outputs": [
        {
          "output_type": "stream",
          "name": "stderr",
          "text": [
            "/usr/local/lib/python3.11/dist-packages/sklearn/utils/validation.py:1408: DataConversionWarning: A column-vector y was passed when a 1d array was expected. Please change the shape of y to (n_samples, ), for example using ravel().\n",
            "  y = column_or_1d(y, warn=True)\n"
          ]
        },
        {
          "output_type": "stream",
          "name": "stdout",
          "text": [
            "Confusion Matrix:\n",
            "[[56853     8]\n",
            " [   48    53]]\n",
            "\n",
            "Classification Report:\n",
            "              precision    recall  f1-score   support\n",
            "\n",
            "         0.0       1.00      1.00      1.00     56861\n",
            "         1.0       0.87      0.52      0.65       101\n",
            "\n",
            "    accuracy                           1.00     56962\n",
            "   macro avg       0.93      0.76      0.83     56962\n",
            "weighted avg       1.00      1.00      1.00     56962\n",
            "\n"
          ]
        }
      ]
    },
    {
      "cell_type": "code",
      "source": [
        "ConfusionMatrixDisplay(confusion_matrix(y_test, y_pred), display_labels=[\"Non Fraud\", \"Fraud\"]).plot()"
      ],
      "metadata": {
        "colab": {
          "base_uri": "https://localhost:8080/",
          "height": 485
        },
        "id": "cSR9aVSxCA3u",
        "outputId": "8b190773-a0de-4cc5-ef23-7dae775dd3e9"
      },
      "execution_count": 30,
      "outputs": [
        {
          "output_type": "execute_result",
          "data": {
            "text/plain": [
              "<sklearn.metrics._plot.confusion_matrix.ConfusionMatrixDisplay at 0x791b73953710>"
            ]
          },
          "metadata": {},
          "execution_count": 30
        },
        {
          "output_type": "display_data",
          "data": {
            "text/plain": [
              "<Figure size 640x480 with 2 Axes>"
            ],
            "image/png": "[encoded data removed]"
          },
          "metadata": {}
        }
      ]
    },
    {
      "cell_type": "markdown",
      "source": [
        "### Random Forest from Sklearn library"
      ],
      "metadata": {
        "id": "Ge5JEBRdlC8G"
      }
    },
    {
      "cell_type": "code",
      "source": [
        "from sklearn.ensemble import RandomForestClassifier\n",
        "\n",
        "model = RandomForestClassifier()\n",
        "model.fit(encoded_train, y_train)\n",
        "y_pred = model.predict(encoded_test)\n",
        "confusion_matrix(y_test, y_pred)\n",
        "\n",
        "# Print Confusion Matrix\n",
        "print(\"Confusion Matrix:\")\n",
        "print(confusion_matrix(y_test, y_pred))\n",
        "\n",
        "# Print Formatted Classification Report\n",
        "print(\"\\nClassification Report:\")\n",
        "print(classification_report(y_test, y_pred))"
      ],
      "metadata": {
        "id": "GXKhj9xRf4xV",
        "colab": {
          "base_uri": "https://localhost:8080/"
        },
        "outputId": "9cc0c74d-961e-4fbb-db6c-33af91c91a77"
      },
      "execution_count": 31,
      "outputs": [
        {
          "output_type": "stream",
          "name": "stderr",
          "text": [
            "/usr/local/lib/python3.11/dist-packages/sklearn/base.py:1389: DataConversionWarning: A column-vector y was passed when a 1d array was expected. Please change the shape of y to (n_samples,), for example using ravel().\n",
            "  return fit_method(estimator, *args, **kwargs)\n"
          ]
        },
        {
          "output_type": "stream",
          "name": "stdout",
          "text": [
            "Confusion Matrix:\n",
            "[[56857     4]\n",
            " [   23    78]]\n",
            "\n",
            "Classification Report:\n",
            "              precision    recall  f1-score   support\n",
            "\n",
            "         0.0       1.00      1.00      1.00     56861\n",
            "         1.0       0.95      0.77      0.85       101\n",
            "\n",
            "    accuracy                           1.00     56962\n",
            "   macro avg       0.98      0.89      0.93     56962\n",
            "weighted avg       1.00      1.00      1.00     56962\n",
            "\n"
          ]
        }
      ]
    },
    {
      "cell_type": "code",
      "source": [
        "ConfusionMatrixDisplay(confusion_matrix(y_test, y_pred), display_labels=[\"Non Fraud\", \"Fraud\"]).plot()"
      ],
      "metadata": {
        "colab": {
          "base_uri": "https://localhost:8080/",
          "height": 485
        },
        "id": "h13Gu-tHB_1E",
        "outputId": "ca158025-559a-46fa-9f3f-5b36ac4c20a7"
      },
      "execution_count": 32,
      "outputs": [
        {
          "output_type": "execute_result",
          "data": {
            "text/plain": [
              "<sklearn.metrics._plot.confusion_matrix.ConfusionMatrixDisplay at 0x791b7044a690>"
            ]
          },
          "metadata": {},
          "execution_count": 32
        },
        {
          "output_type": "display_data",
          "data": {
            "text/plain": [
              "<Figure size 640x480 with 2 Axes>"
            ],
            "image/png": "[encoded data removed]"
          },
          "metadata": {}
        }
      ]
    },
    {
      "cell_type": "markdown",
      "source": [
        "### Support Vector Regression from Sklearn library"
      ],
      "metadata": {
        "id": "HvnZ8r07yDX3"
      }
    },
    {
      "cell_type": "code",
      "source": [
        "from sklearn.svm import SVC\n",
        "\n",
        "model = SVC()\n",
        "model.fit(encoded_train, y_train)\n",
        "y_pred = model.predict(encoded_test)\n",
        "confusion_matrix(y_test, y_pred)\n",
        "# Print Confusion Matrix\n",
        "print(\"Confusion Matrix:\")\n",
        "print(confusion_matrix(y_test, y_pred))\n",
        "\n",
        "# Print Formatted Classification Report\n",
        "print(\"\\nClassification Report:\")\n",
        "print(classification_report(y_test, y_pred))"
      ],
      "metadata": {
        "colab": {
          "base_uri": "https://localhost:8080/"
        },
        "id": "hFz3vGNlmJcQ",
        "outputId": "a9fd2076-d0c1-47bc-f8fe-6e9c3ed18513"
      },
      "execution_count": 33,
      "outputs": [
        {
          "output_type": "stream",
          "name": "stderr",
          "text": [
            "/usr/local/lib/python3.11/dist-packages/sklearn/utils/validation.py:1408: DataConversionWarning: A column-vector y was passed when a 1d array was expected. Please change the shape of y to (n_samples, ), for example using ravel().\n",
            "  y = column_or_1d(y, warn=True)\n"
          ]
        },
        {
          "output_type": "stream",
          "name": "stdout",
          "text": [
            "Confusion Matrix:\n",
            "[[56852     9]\n",
            " [   33    68]]\n",
            "\n",
            "Classification Report:\n",
            "              precision    recall  f1-score   support\n",
            "\n",
            "         0.0       1.00      1.00      1.00     56861\n",
            "         1.0       0.88      0.67      0.76       101\n",
            "\n",
            "    accuracy                           1.00     56962\n",
            "   macro avg       0.94      0.84      0.88     56962\n",
            "weighted avg       1.00      1.00      1.00     56962\n",
            "\n"
          ]
        }
      ]
    },
    {
      "cell_type": "code",
      "source": [
        "ConfusionMatrixDisplay(confusion_matrix(y_test, y_pred), display_labels=[\"Non Fraud\", \"Fraud\"]).plot()"
      ],
      "metadata": {
        "colab": {
          "base_uri": "https://localhost:8080/",
          "height": 485
        },
        "id": "q7_KoXfVB-dk",
        "outputId": "68c71473-24b4-491b-e40d-b02bc9fd10b7"
      },
      "execution_count": 34,
      "outputs": [
        {
          "output_type": "execute_result",
          "data": {
            "text/plain": [
              "<sklearn.metrics._plot.confusion_matrix.ConfusionMatrixDisplay at 0x791b73e32750>"
            ]
          },
          "metadata": {},
          "execution_count": 34
        },
        {
          "output_type": "display_data",
          "data": {
            "text/plain": [
              "<Figure size 640x480 with 2 Axes>"
            ],
            "image/png": "[encoded data removed]"
          },
          "metadata": {}
        }
      ]
    },
    {
      "cell_type": "markdown",
      "source": [
        "### Logistic Regression by me"
      ],
      "metadata": {
        "id": "y7Bd3CizjqrY"
      }
    },
    {
      "cell_type": "code",
      "source": [
        "def initialize_w_b(seed=0):\n",
        "  np.random.seed(seed)\n",
        "  w = np.random.randn(15, 1) * np.sqrt(2 / 15)\n",
        "  b = jnp.array([0.0])\n",
        "\n",
        "  print(w.shape)\n",
        "  print(b.shape)\n",
        "\n",
        "  params = list()\n",
        "  params.append(w)\n",
        "  params.append(b)\n",
        "\n",
        "  return params\n"
      ],
      "metadata": {
        "id": "SDgugCr3cvfw"
      },
      "execution_count": 35,
      "outputs": []
    },
    {
      "cell_type": "code",
      "source": [
        "def sigm(z):\n",
        "    return (jnp.tanh(2*z)+1)/2\n",
        "\n",
        "def loss_X_ent(x, y, params):\n",
        "    y_pred = sigm(x @ params[0] + params[1])\n",
        "    eps = 1e-6\n",
        "    return -jnp.mean( y * jnp.log(y_pred + eps) + (1-y) * jnp.log(1 - y_pred + eps))\n",
        "\n",
        "def mse_loss(x, y, params):\n",
        "    y_pred = x @ params[0] + params[1]\n",
        "    return jnp.mean((y - y_pred)**2)"
      ],
      "metadata": {
        "id": "4c4GIn65cyMc"
      },
      "execution_count": 36,
      "outputs": []
    },
    {
      "cell_type": "code",
      "source": [
        "def LR_BGD(x_train, y_train, x_test, y_test, num_epochs=100, learning_rate_max=3.3e-1, learning_rate_min = 1e-2, learning_rate_decay = 200, batch_size = 1000):\n",
        "\n",
        "\n",
        "  params = initialize_w_b()\n",
        "  num_epochs = int(num_epochs)\n",
        "\n",
        "\n",
        "  ########################################\n",
        "\n",
        "  grad = jax.jit(jax.grad(loss_X_ent, argnums=2))\n",
        "  loss_jit = jax.jit(loss_X_ent)\n",
        "\n",
        "  n_samples = x_train.shape[0]\n",
        "\n",
        "  history_train = list()\n",
        "  history_test = list()\n",
        "  history_train.append(loss_jit(x_train, y_train, params))\n",
        "  history_test.append(loss_jit(x_test, y_test, params))\n",
        "\n",
        "\n",
        "  for epoch in tqdm(range(num_epochs)):\n",
        "      learning_rate = max(\n",
        "          learning_rate_min, learning_rate_max * (1 - epoch / learning_rate_decay)\n",
        "      )\n",
        "\n",
        "      perm = np.random.permutation(n_samples)\n",
        "      for i in range(0, n_samples, batch_size):\n",
        "          batch_idx = perm[i : i + batch_size]\n",
        "          x_batch = x_train[batch_idx]\n",
        "          y_batch = y_train[batch_idx]\n",
        "          grads = grad(x_batch, y_batch, params)\n",
        "\n",
        "          for i in range(len(params)):\n",
        "              params[i] -= learning_rate * grads[i]\n",
        "      #print(loss_jit(x_train, y_train, params))\n",
        "      #print(loss_jit(x_test, y_test, params))\n",
        "      history_train.append(loss_jit(x_train, y_train, params))\n",
        "      history_test.append(loss_jit(x_test, y_test, params))\n",
        "  show_results(history_train, history_test)\n",
        "\n",
        "  return params\n",
        "\n",
        "def show_results(history_train, history_test):\n",
        "\n",
        "  print(\"loss train: %1.3e\" % history_train[-1])\n",
        "  print(\"loss test: %1.3e\" % history_test[-1])\n",
        "\n",
        "  fig, axs = plt.subplots(1, figsize=(16, 8))\n",
        "  axs.loglog(history_train, label=\"train\")\n",
        "  axs.loglog(history_test, label=\"test\")\n",
        "  plt.legend()"
      ],
      "metadata": {
        "id": "UMIZnzovcrlO"
      },
      "execution_count": 37,
      "outputs": []
    },
    {
      "cell_type": "code",
      "source": [
        "params = LR_BGD(encoded_train, y_train, encoded_test, y_test)"
      ],
      "metadata": {
        "colab": {
          "base_uri": "https://localhost:8080/",
          "height": 441,
          "referenced_widgets": [
            "9c5c8f86c9274a08a23b219c6605306f",
            "ee91e04edeec4aeb8aec9802d2516fd7",
            "861d2014e03c46d1beaf02cfeecba2d0",
            "7061c64e872c4e3a8d7e0239252c4fc8",
            "b9d6900ff45b4f5c8b3c636d9225e9ea",
            "2d10c05d7df6430c87215f8dc848a878",
            "7a7b05292cc647c8bf3a37dea8481a34",
            "50f55afc8e154359b6c480bf8a0fb8bb",
            "39919b39fb3d4db48700436c7ef5551b",
            "9ded69e2cf8549de97c94ebae6f98464",
            "6e6442c8d26e484dbf7546b309476f34"
          ]
        },
        "id": "w438LoAodh8K",
        "outputId": "6bfb6ad2-94a0-492f-ef92-acd04aad1305"
      },
      "execution_count": 38,
      "outputs": [
        {
          "output_type": "stream",
          "name": "stdout",
          "text": [
            "(15, 1)\n",
            "(1,)\n"
          ]
        },
        {
          "output_type": "display_data",
          "data": {
            "text/plain": [
              "  0%|          | 0/100 [00:00<?, ?it/s]"
            ],
            "application/vnd.jupyter.widget-view+json": {
              "version_major": 2,
              "version_minor": 0,
              "model_id": "9c5c8f86c9274a08a23b219c6605306f"
            }
          },
          "metadata": {}
        },
        {
          "output_type": "stream",
          "name": "stdout",
          "text": [
            "loss train: 5.094e-03\n",
            "loss test: 4.332e-03\n"
          ]
        },
        {
          "output_type": "display_data",
          "data": {
            "text/plain": [
              "<Figure size 1600x800 with 1 Axes>"
            ],
            "image/png": "[encoded data removed]"
          },
          "metadata": {}
        }
      ]
    },
    {
      "cell_type": "code",
      "source": [
        "compute_metrics(y_test, np.where(sigm(encoded_test @ params[0] + params[1]) >= 0.5, 1., 0.))"
      ],
      "metadata": {
        "colab": {
          "base_uri": "https://localhost:8080/"
        },
        "id": "1q0lYhqTpTGM",
        "outputId": "cc0ff1ef-b039-447c-ee01-b485cbbe7a63"
      },
      "execution_count": 39,
      "outputs": [
        {
          "output_type": "stream",
          "name": "stdout",
          "text": [
            "Accuracy: 99.90%\n",
            "Recall: 49.50%\n",
            "Precision: 86.21%\n",
            "F1: 62.89%\n",
            "MCC: 0.65\n",
            "TP: 50\n",
            "TN: 56853\n",
            "FP: 8\n",
            "FN: 51\n"
          ]
        }
      ]
    },
    {
      "cell_type": "code",
      "source": [
        "ConfusionMatrixDisplay(confusion_matrix(y_test, np.where(sigm(encoded_test @ params[0] + params[1]) >= 0.5, 1., 0.)), display_labels=[\"Non Fraud\", \"Fraud\"]).plot()"
      ],
      "metadata": {
        "colab": {
          "base_uri": "https://localhost:8080/",
          "height": 485
        },
        "id": "3T1wia11njIN",
        "outputId": "75e5a408-07eb-4127-bcc2-0d22d87d01da"
      },
      "execution_count": 40,
      "outputs": [
        {
          "output_type": "execute_result",
          "data": {
            "text/plain": [
              "<sklearn.metrics._plot.confusion_matrix.ConfusionMatrixDisplay at 0x791b6432b890>"
            ]
          },
          "metadata": {},
          "execution_count": 40
        },
        {
          "output_type": "display_data",
          "data": {
            "text/plain": [
              "<Figure size 640x480 with 2 Axes>"
            ],
            "image/png": "[encoded data removed]"
          },
          "metadata": {}
        }
      ]
    },
    {
      "cell_type": "markdown",
      "source": [
        "### Extra: Autoencoder trained on non fraudulent transactions"
      ],
      "metadata": {
        "id": "3wZKHsVngCl_"
      }
    },
    {
      "cell_type": "code",
      "source": [
        "x_train_ae = x_train[y_train[:, 0] == 0] # Training set composed of only fraudulent transactions\n",
        "\n",
        "# Normalize x_train_ae\n",
        "mean = x_train_ae.mean(axis=0)\n",
        "std = x_train_ae.std(axis=0)\n",
        "x_train_ae = (x_train_ae - mean) / std\n"
      ],
      "metadata": {
        "id": "VQ48FIMTsOFn"
      },
      "execution_count": 41,
      "outputs": []
    },
    {
      "cell_type": "code",
      "source": [
        "num_epochs = 250\n",
        "batch_size = 1000\n",
        "learning_rate = 1.75e-2\n",
        "decay_rate = 0.9\n",
        "delta = 1e-6\n",
        "layers_size = [30, 15, 30]\n",
        "\n",
        "# Initialize encoder and decoder parameters\n",
        "params_enc = initialize_params([30, 15])\n",
        "params_dec = initialize_params([15, 30])\n",
        "\n",
        "# Compute gradients\n",
        "grad = jax.grad(loss_mse_ae, argnums=(1, 2))  # Compute gradients w.r.t. encoder and decoder\n",
        "grad_jit = jax.jit(grad)\n",
        "mse_ae_jit = jax.jit(loss_mse_ae)\n",
        "\n",
        "# Training loop\n",
        "history_train = []\n",
        "n_train = x_train_ae.shape[0]\n",
        "cumulated_sqr_grad_enc = [0.0 for _ in range(len(params_enc))]\n",
        "cumulated_sqr_grad_dec = [0.0 for _ in range(len(params_dec))]\n",
        "\n",
        "for epoch in tqdm(range(num_epochs)):\n",
        "    idxs = np.random.choice(n_train, batch_size, replace=False)\n",
        "\n",
        "    # Compute gradients\n",
        "    grad_enc, grad_dec = grad_jit(x_train_ae[idxs, :], params_enc, params_dec)\n",
        "\n",
        "    # Update encoder parameters\n",
        "    for i in range(len(params_enc)):\n",
        "        cumulated_sqr_grad_enc[i] = (decay_rate * cumulated_sqr_grad_enc[i] + (1 - decay_rate) * grad_enc[i] ** 2)\n",
        "        params_enc[i] -= grad_enc[i] * learning_rate * (1 / (delta + jnp.sqrt(cumulated_sqr_grad_enc[i])))\n",
        "\n",
        "    # Update decoder parameters\n",
        "    for i in range(len(params_dec)):\n",
        "        cumulated_sqr_grad_dec[i] = (decay_rate * cumulated_sqr_grad_dec[i] + (1 - decay_rate) * grad_dec[i] ** 2)\n",
        "        params_dec[i] -= grad_dec[i] * learning_rate * (1 / (delta + jnp.sqrt(cumulated_sqr_grad_dec[i])))\n",
        "\n",
        "    # Compute loss\n",
        "    history_train.append(mse_ae_jit(x_train_ae, params_enc, params_dec))\n",
        "\n",
        "# Plot training loss\n",
        "plt.figure(figsize=(10, 6))\n",
        "plt.loglog(history_train, label=\"Train Loss\")\n",
        "plt.legend()\n",
        "plt.xlabel(\"Epochs\")\n",
        "plt.ylabel(\"Loss\")\n",
        "plt.title(\"Autoencoder Training Loss\")\n",
        "plt.show()\n",
        "\n",
        "print(\"Final Train Loss:\", history_train[-1])"
      ],
      "metadata": {
        "colab": {
          "base_uri": "https://localhost:8080/",
          "height": 461,
          "referenced_widgets": [
            "ecbd45019e0044f5a986409c7c4e5f6e",
            "c8b784d790f24bc9829f4cf5a5beacb8",
            "cee8d781881947f3ad05e145647bd91d",
            "c732b3c878cf4c74b6e9ad54c7a96e1e",
            "a60a39278f0f4c0f8313f3188d922e88",
            "3494e30b74d342f0ae8db3780e4c082d",
            "5a82ca88608d4d5baaf9fb078bc1a16c",
            "f3050c0e73b249519d42122d27076b48",
            "7b66799eed6d41d38d54a16d8a59cc00",
            "14cc6ed675d74521bfe1be86071f1586",
            "dbec582344a242228c7a3273b73400cb"
          ]
        },
        "id": "RfKlZ-nibXEr",
        "outputId": "8207e9e0-ca16-4801-b543-686eacab5b0b"
      },
      "execution_count": 42,
      "outputs": [
        {
          "output_type": "display_data",
          "data": {
            "text/plain": [
              "  0%|          | 0/250 [00:00<?, ?it/s]"
            ],
            "application/vnd.jupyter.widget-view+json": {
              "version_major": 2,
              "version_minor": 0,
              "model_id": "ecbd45019e0044f5a986409c7c4e5f6e"
            }
          },
          "metadata": {}
        },
        {
          "output_type": "display_data",
          "data": {
            "text/plain": [
              "<Figure size 1000x600 with 1 Axes>"
            ],
            "image/png": "[encoded data removed]"
          },
          "metadata": {}
        },
        {
          "output_type": "stream",
          "name": "stdout",
          "text": [
            "Final Train Loss: 0.7438449\n"
          ]
        }
      ]
    },
    {
      "cell_type": "code",
      "source": [
        "encoded_train = encoder(x_train, params_enc)\n",
        "encoded_test = encoder(x_test, params_enc)"
      ],
      "metadata": {
        "id": "ijkgbVHAbmQw"
      },
      "execution_count": 43,
      "outputs": []
    },
    {
      "cell_type": "code",
      "source": [
        "from sklearn.linear_model import LogisticRegression\n",
        "from sklearn.metrics import confusion_matrix, classification_report\n",
        "\n",
        "model = LogisticRegression()\n",
        "model.fit(encoded_train, y_train)\n",
        "y_pred = model.predict(encoded_test)\n",
        "# Print Confusion Matrix\n",
        "print(\"Confusion Matrix:\")\n",
        "print(confusion_matrix(y_test, y_pred))\n",
        "\n",
        "\n",
        "\n",
        "# Print Formatted Classification Report\n",
        "print(\"\\nClassification Report:\")\n",
        "print(classification_report(y_test, y_pred))\n"
      ],
      "metadata": {
        "colab": {
          "base_uri": "https://localhost:8080/"
        },
        "id": "Igf75IyyeS4v",
        "outputId": "bc2c80d9-4ccb-4bdd-a3ea-f7d2c9cf5305"
      },
      "execution_count": 44,
      "outputs": [
        {
          "output_type": "stream",
          "name": "stderr",
          "text": [
            "/usr/local/lib/python3.11/dist-packages/sklearn/utils/validation.py:1408: DataConversionWarning: A column-vector y was passed when a 1d array was expected. Please change the shape of y to (n_samples, ), for example using ravel().\n",
            "  y = column_or_1d(y, warn=True)\n"
          ]
        },
        {
          "output_type": "stream",
          "name": "stdout",
          "text": [
            "Confusion Matrix:\n",
            "[[56847    14]\n",
            " [   31    70]]\n",
            "\n",
            "Classification Report:\n",
            "              precision    recall  f1-score   support\n",
            "\n",
            "         0.0       1.00      1.00      1.00     56861\n",
            "         1.0       0.83      0.69      0.76       101\n",
            "\n",
            "    accuracy                           1.00     56962\n",
            "   macro avg       0.92      0.85      0.88     56962\n",
            "weighted avg       1.00      1.00      1.00     56962\n",
            "\n"
          ]
        }
      ]
    },
    {
      "cell_type": "code",
      "source": [
        "ConfusionMatrixDisplay(confusion_matrix(y_test, y_pred), display_labels=[\"Non Fraud\", \"Fraud\"]).plot()"
      ],
      "metadata": {
        "id": "OzxV3C5dvWhG",
        "colab": {
          "base_uri": "https://localhost:8080/",
          "height": 485
        },
        "outputId": "105b51c9-ea4e-4df4-f5fd-6a20dcd892d9"
      },
      "execution_count": 45,
      "outputs": [
        {
          "output_type": "execute_result",
          "data": {
            "text/plain": [
              "<sklearn.metrics._plot.confusion_matrix.ConfusionMatrixDisplay at 0x791b73c6d850>"
            ]
          },
          "metadata": {},
          "execution_count": 45
        },
        {
          "output_type": "display_data",
          "data": {
            "text/plain": [
              "<Figure size 640x480 with 2 Axes>"
            ],
            "image/png": "[encoded data removed]"
          },
          "metadata": {}
        }
      ]
    },
    {
      "cell_type": "code",
      "source": [
        "from sklearn.ensemble import RandomForestClassifier\n",
        "\n",
        "model = RandomForestClassifier()\n",
        "model.fit(encoded_train, y_train)\n",
        "y_pred = model.predict(encoded_test)\n",
        "confusion_matrix(y_test, y_pred)\n",
        "\n",
        "# Print Confusion Matrix\n",
        "print(\"Confusion Matrix:\")\n",
        "print(confusion_matrix(y_test, y_pred))\n",
        "\n",
        "# Print Formatted Classification Report\n",
        "print(\"\\nClassification Report:\")\n",
        "print(classification_report(y_test, y_pred))"
      ],
      "metadata": {
        "colab": {
          "base_uri": "https://localhost:8080/"
        },
        "id": "Vl8muIMJQ8fa",
        "outputId": "0d94d864-4d2d-4456-e1ee-bf9f1ac6ef7f"
      },
      "execution_count": 46,
      "outputs": [
        {
          "output_type": "stream",
          "name": "stderr",
          "text": [
            "/usr/local/lib/python3.11/dist-packages/sklearn/base.py:1389: DataConversionWarning: A column-vector y was passed when a 1d array was expected. Please change the shape of y to (n_samples,), for example using ravel().\n",
            "  return fit_method(estimator, *args, **kwargs)\n"
          ]
        },
        {
          "output_type": "stream",
          "name": "stdout",
          "text": [
            "Confusion Matrix:\n",
            "[[56856     5]\n",
            " [   26    75]]\n",
            "\n",
            "Classification Report:\n",
            "              precision    recall  f1-score   support\n",
            "\n",
            "         0.0       1.00      1.00      1.00     56861\n",
            "         1.0       0.94      0.74      0.83       101\n",
            "\n",
            "    accuracy                           1.00     56962\n",
            "   macro avg       0.97      0.87      0.91     56962\n",
            "weighted avg       1.00      1.00      1.00     56962\n",
            "\n"
          ]
        }
      ]
    },
    {
      "cell_type": "code",
      "source": [
        "ConfusionMatrixDisplay(confusion_matrix(y_test, y_pred), display_labels=[\"Non Fraud\", \"Fraud\"]).plot()"
      ],
      "metadata": {
        "colab": {
          "base_uri": "https://localhost:8080/",
          "height": 485
        },
        "id": "9uCxJqC6B4IX",
        "outputId": "0308c04e-5d91-4b4c-9fd6-19261a449f90"
      },
      "execution_count": 47,
      "outputs": [
        {
          "output_type": "execute_result",
          "data": {
            "text/plain": [
              "<sklearn.metrics._plot.confusion_matrix.ConfusionMatrixDisplay at 0x791b73c025d0>"
            ]
          },
          "metadata": {},
          "execution_count": 47
        },
        {
          "output_type": "display_data",
          "data": {
            "text/plain": [
              "<Figure size 640x480 with 2 Axes>"
            ],
            "image/png": "[encoded data removed]"
          },
          "metadata": {}
        }
      ]
    },
    {
      "cell_type": "code",
      "source": [
        "from sklearn.svm import SVC\n",
        "\n",
        "model = SVC()\n",
        "model.fit(encoded_train, y_train)\n",
        "y_pred = model.predict(encoded_test)\n",
        "confusion_matrix(y_test, y_pred)\n",
        "# Print Confusion Matrix\n",
        "\n",
        "print(\"Confusion Matrix:\")\n",
        "print(confusion_matrix(y_test, y_pred))\n",
        "\n",
        "print(\"\\nClassification Report:\")\n",
        "print(classification_report(y_test, y_pred))"
      ],
      "metadata": {
        "colab": {
          "base_uri": "https://localhost:8080/"
        },
        "id": "ugo5_r1fsiZE",
        "outputId": "264ae46e-6585-43a4-d565-efac29fe41b4"
      },
      "execution_count": 48,
      "outputs": [
        {
          "output_type": "stream",
          "name": "stderr",
          "text": [
            "/usr/local/lib/python3.11/dist-packages/sklearn/utils/validation.py:1408: DataConversionWarning: A column-vector y was passed when a 1d array was expected. Please change the shape of y to (n_samples, ), for example using ravel().\n",
            "  y = column_or_1d(y, warn=True)\n"
          ]
        },
        {
          "output_type": "stream",
          "name": "stdout",
          "text": [
            "Confusion Matrix:\n",
            "[[56847    14]\n",
            " [   21    80]]\n",
            "\n",
            "Classification Report:\n",
            "              precision    recall  f1-score   support\n",
            "\n",
            "         0.0       1.00      1.00      1.00     56861\n",
            "         1.0       0.85      0.79      0.82       101\n",
            "\n",
            "    accuracy                           1.00     56962\n",
            "   macro avg       0.93      0.90      0.91     56962\n",
            "weighted avg       1.00      1.00      1.00     56962\n",
            "\n"
          ]
        }
      ]
    },
    {
      "cell_type": "code",
      "source": [
        "ConfusionMatrixDisplay(confusion_matrix(y_test, y_pred), display_labels=[\"Non Fraud\", \"Fraud\"]).plot()"
      ],
      "metadata": {
        "colab": {
          "base_uri": "https://localhost:8080/",
          "height": 485
        },
        "id": "Ug4zGPOiB4-h",
        "outputId": "cecab2dd-4af1-4503-97cb-3c5ef2e6939d"
      },
      "execution_count": 49,
      "outputs": [
        {
          "output_type": "execute_result",
          "data": {
            "text/plain": [
              "<sklearn.metrics._plot.confusion_matrix.ConfusionMatrixDisplay at 0x791b73c6c3d0>"
            ]
          },
          "metadata": {},
          "execution_count": 49
        },
        {
          "output_type": "display_data",
          "data": {
            "text/plain": [
              "<Figure size 640x480 with 2 Axes>"
            ],
            "image/png": "[encoded data removed]"
          },
          "metadata": {}
        }
      ]
    }
  ]
}