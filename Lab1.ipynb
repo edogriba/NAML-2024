{
  "nbformat": 4,
  "nbformat_minor": 0,
  "metadata": {
    "colab": {
      "provenance": [],
      "include_colab_link": true
    },
    "kernelspec": {
      "name": "python3",
      "display_name": "Python 3"
    },
    "language_info": {
      "name": "python"
    }
  },
  "cells": [
    {
      "cell_type": "markdown",
      "metadata": {
        "id": "view-in-github",
        "colab_type": "text"
      },
      "source": [
        "<a href=\"https://colab.research.google.com/github/edogriba/NAML-2024/blob/main/Lab1.ipynb\" target=\"_parent\"><img src=\"https://colab.research.google.com/assets/colab-badge.svg\" alt=\"Open In Colab\"/></a>"
      ]
    },
    {
      "cell_type": "markdown",
      "source": [
        "# LAB1\n",
        "\n",
        "In the first lab we'll see three applications of the SVD (Singular Value Decomposition) of a matrix. We usually write  $ \\ {A = U \\Sigma V^T} $ to express the SVD of a matrix"
      ],
      "metadata": {
        "id": "CoWsshkW0emD"
      }
    },
    {
      "cell_type": "markdown",
      "source": [
        "## SVD for Image Compression"
      ],
      "metadata": {
        "id": "Knz1-JM81Cm8"
      }
    },
    {
      "cell_type": "markdown",
      "source": [
        "First of all we load a 3D image with `np.array`"
      ],
      "metadata": {
        "id": "3zR3tD7p4keI"
      }
    },
    {
      "cell_type": "code",
      "source": [
        "from matplotlib.image import imread\n",
        "import matplotlib.plot as plt\n",
        "import numpy as np\n",
        "\n",
        "plt.rcParams['figure.figsize'] = [10, 10]\n",
        "\n",
        "image_path = 'Tarantula.jpg'\n",
        "\n",
        "\n",
        "\n",
        "A = imread(image_path)"
      ],
      "metadata": {
        "id": "Rhe5XfL74ntK"
      },
      "execution_count": null,
      "outputs": []
    }
  ]
}