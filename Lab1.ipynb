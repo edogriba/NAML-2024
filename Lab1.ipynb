{
  "nbformat": 4,
  "nbformat_minor": 0,
  "metadata": {
    "colab": {
      "provenance": [],
      "authorship_tag": "ABX9TyPKxlrhEyrQjws6/PFPY5H0",
      "include_colab_link": true
    },
    "kernelspec": {
      "name": "python3",
      "display_name": "Python 3"
    },
    "language_info": {
      "name": "python"
    }
  },
  "cells": [
    {
      "cell_type": "markdown",
      "metadata": {
        "id": "view-in-github",
        "colab_type": "text"
      },
      "source": [
        "<a href=\"https://colab.research.google.com/github/edogriba/NAML-2024/blob/main/Lab1.ipynb\" target=\"_parent\"><img src=\"https://colab.research.google.com/assets/colab-badge.svg\" alt=\"Open In Colab\"/></a>"
      ]
    },
    {
      "cell_type": "markdown",
      "source": [
        "# LAB1\n",
        "\n",
        "In the first lab we'll see three applications of the SVD (Singular Value Decomposition) of a matrix. We usually write  $ \\ {A = U \\Sigma V^T} $ to express the SVD of a matrix"
      ],
      "metadata": {
        "id": "CoWsshkW0emD"
      }
    },
    {
      "cell_type": "markdown",
      "source": [
        "## SVD for Image Compression"
      ],
      "metadata": {
        "id": "Knz1-JM81Cm8"
      }
    },
    {
      "cell_type": "code",
      "source": [],
      "metadata": {
        "id": "_oI9hZuC1QCK"
      },
      "execution_count": null,
      "outputs": []
    }
  ]
}